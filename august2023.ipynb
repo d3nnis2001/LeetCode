{
 "cells": [
  {
   "cell_type": "markdown",
   "metadata": {},
   "source": [
    "# Morse code Problem - EASY"
   ]
  },
  {
   "cell_type": "code",
   "execution_count": null,
   "metadata": {},
   "outputs": [],
   "source": [
    "def uniqueMorseRepresentations(words):\n",
    "    wordst = []\n",
    "    morse = [\".-\",\"-...\",\"-.-.\",\"-..\",\".\",\"..-.\",\"--.\",\"....\",\"..\",\".---\",\"-.-\",\".-..\",\"--\",\"-.\",\"---\",\".--.\",\"--.-\",\".-.\",\"...\",\"-\",\"..-\",\"...-\",\".--\",\"-..-\",\"-.--\",\"--..\"]\n",
    "    for i in words:\n",
    "        word = \"\"\n",
    "        for j in i: \n",
    "            word += morse[ord(j) - 97]\n",
    "        wordst.append(word)\n",
    "    uniqueelem = set(wordst)\n",
    "    return len(uniqueelem)\n",
    "\n",
    "uniqueMorseRepresentations([\"sa\", \"kaa\", \"ka\", \"ak\", \"ka\"])"
   ]
  },
  {
   "cell_type": "markdown",
   "metadata": {},
   "source": [
    "# 335. Self Crossing - EASY"
   ]
  },
  {
   "cell_type": "code",
   "execution_count": null,
   "metadata": {},
   "outputs": [],
   "source": [
    "def isSelfCrossing(distance):\n",
    "    start = [0, 0]\n",
    "    savepoints = []\n",
    "    savepoints.append(start)\n",
    "    for j in range(0, len(distance)):\n",
    "        if j % 4 == 0:\n",
    "            for i in range(distance[j]):\n",
    "                start = [start[0], start[1] + 1]\n",
    "                savepoints.append(start)\n",
    "        if j % 4 == 1:\n",
    "            for i in range(distance[j]):\n",
    "                start = [start[0]-1, start[1]]\n",
    "                savepoints.append(start)\n",
    "        if j % 4 == 2:\n",
    "            for i in range(distance[j]):\n",
    "                start = [start[0], start[1] - 1]\n",
    "                savepoints.append(start)\n",
    "        if j % 4 == 3:\n",
    "            for i in range(distance[j]):\n",
    "                start = [start[0]+1, start[1]]\n",
    "                savepoints.append(start)\n",
    "    \n",
    "    lengthpoints = len(savepoints)\n",
    "    idk = len(set(tuple(point) for point in savepoints))\n",
    "    if(lengthpoints != idk):\n",
    "        return True\n",
    "    return False\n",
    "\n",
    "isSelfCrossing([2, 2, 2, 1])\n",
    "    "
   ]
  },
  {
   "cell_type": "markdown",
   "metadata": {},
   "source": [
    "# 283. Move Zeros - EASY"
   ]
  },
  {
   "cell_type": "code",
   "execution_count": null,
   "metadata": {},
   "outputs": [],
   "source": [
    "def moveZeroes(nums):\n",
    "    index = 0\n",
    "    zerocount = 0\n",
    "    for i in range(len(nums)):\n",
    "        if nums[i] != 0:\n",
    "            nums[index] = nums[i]\n",
    "            index += 1\n",
    "        else:\n",
    "            zerocount += 1\n",
    "    for i in range(zerocount):\n",
    "        nums[index] = 0\n",
    "        index += 1\n",
    "    return nums\n",
    "\n",
    "moveZeroes([1, 0])\n"
   ]
  },
  {
   "cell_type": "markdown",
   "metadata": {},
   "source": [
    "# 28. Find the Index of the first Occurence String - EASY"
   ]
  },
  {
   "cell_type": "code",
   "execution_count": null,
   "metadata": {},
   "outputs": [],
   "source": [
    "def strStr(haystack, needle):\n",
    "    setindex = 0\n",
    "    counter = 0\n",
    "    while counter != len(haystack):\n",
    "        if haystack[counter] == needle[setindex]:\n",
    "            setindex += 1\n",
    "            if setindex == (len(needle) - 1):\n",
    "                return (counter - setindex + 1)\n",
    "        elif haystack != needle[setindex] and setindex != 0:\n",
    "            counter = counter - setindex\n",
    "        else:\n",
    "            setindex = 0\n",
    "        counter += 1\n",
    "    return -1\n",
    "\n",
    "strStr(\"oijhiohoiiwefwrvhio\", \"wef\")"
   ]
  },
  {
   "cell_type": "markdown",
   "metadata": {},
   "source": [
    "# 35. Search Insert Position - MEDIUM"
   ]
  },
  {
   "cell_type": "code",
   "execution_count": null,
   "metadata": {},
   "outputs": [],
   "source": [
    "def searchInsert(nums, target):\n",
    "    start = 0\n",
    "    # 7 - 0 = 3\n",
    "\n",
    "    end = len(nums) - 1\n",
    "    for i in range(len(nums)):\n",
    "        if nums[(end+start)//2] == target:\n",
    "            return len(nums[:(end+start)//2])\n",
    "        elif nums[(end+start)//2 + 1] == target:\n",
    "            return len(nums[:(end+start)//2 + 1])\n",
    "        elif nums[(end+start)//2 - 1] == target:\n",
    "            return len(nums[:(end+start)//2 - 1])\n",
    "        elif nums[(end+start)//2] < target:\n",
    "            start = (end+start)//2\n",
    "        elif nums[(end+start)//2] > target:\n",
    "            end = (end+start)//2\n",
    "    return end\n",
    "\n",
    "searchInsert([1, 4, 6, 7, 35, 39, 43, 66], 5)"
   ]
  },
  {
   "cell_type": "markdown",
   "metadata": {},
   "source": [
    "# 58. Length of Last word - EASY"
   ]
  },
  {
   "cell_type": "code",
   "execution_count": null,
   "metadata": {},
   "outputs": [],
   "source": [
    "def lengthOfLastWord(s):\n",
    "    found = False\n",
    "    length = 0\n",
    "    j = len(s)\n",
    "    if j == 1 and s != \" \":\n",
    "        return 1\n",
    "    for i in reversed(s):\n",
    "        if i != \" \" and not found:\n",
    "            found = True\n",
    "            length += 1\n",
    "        elif i == \" \" and found or j == 1:\n",
    "            if j==1 and s[0] != \" \":\n",
    "                return length+1\n",
    "            else:\n",
    "                return length\n",
    "        elif i != \" \" and found:\n",
    "            length += 1\n",
    "        j -= 1\n",
    "\n",
    "lengthOfLastWord(\"a d\")\n"
   ]
  },
  {
   "cell_type": "markdown",
   "metadata": {},
   "source": [
    "# 350. Intersection of two Arrays II - EASY"
   ]
  },
  {
   "cell_type": "code",
   "execution_count": null,
   "metadata": {},
   "outputs": [],
   "source": [
    "arr = [2,3,4,3,4,3,4]\n",
    "arr[2:3]"
   ]
  },
  {
   "cell_type": "code",
   "execution_count": null,
   "metadata": {},
   "outputs": [],
   "source": [
    "def intersect(nums1, nums2):\n",
    "    incommon = []\n",
    "    if len(nums1) >= len(nums2):\n",
    "        for i in nums1:\n",
    "            if i in nums2 and i not in incommon:\n",
    "                incommon.append(i)\n",
    "            elif i in nums2 and i in incommon: \n",
    "                incom = sum(1 for item in incommon if item == i)\n",
    "                n2 = sum(1 for item in nums2 if item == i)\n",
    "                if n2 > incom:\n",
    "                    incommon.append(i)\n",
    "    else:\n",
    "        for i in nums2:\n",
    "            if i in nums1 and i not in incommon:\n",
    "                incommon.append(i)\n",
    "            elif i in nums1 and i in incommon: \n",
    "                incom = sum(1 for item in incommon if item == i)\n",
    "                n1 = sum(1 for item in nums1 if item == i)\n",
    "                if n1 > incom:\n",
    "                    incommon.append(i)\n",
    "    return incommon\n",
    "\n",
    "intersect([4,9,5], [9,4,9,8,4])"
   ]
  },
  {
   "cell_type": "markdown",
   "metadata": {},
   "source": [
    "# 48. Rotate Image - MEDIUM"
   ]
  },
  {
   "cell_type": "code",
   "execution_count": null,
   "metadata": {},
   "outputs": [],
   "source": [
    "def rotate(matrix):\n",
    "    reversed_matrix = []\n",
    "    for row in reversed(matrix):\n",
    "        reversed_matrix.append(row)\n",
    "    lengthmatrix = len(matrix)\n",
    "    newmatrix = []\n",
    "    # Create Matrix\n",
    "    for i in range(0, lengthmatrix):\n",
    "        newmatrix.append([])\n",
    "    for i in reversed_matrix:\n",
    "        counter = 0\n",
    "        for j in i:\n",
    "            newmatrix[counter].append(j)\n",
    "            counter += 1\n",
    "    for i in range(len(matrix)):\n",
    "        for j in range(len(matrix[0])):\n",
    "            matrix[i][j] = newmatrix[i][j]\n",
    "    return matrix\n",
    "\n",
    "\n",
    "rotate([[7,4,1],[8,5,2],[9,6,3]])\n",
    "\n",
    "# input [[1,2,3],[4,5,6],[7,8,9]]\n",
    "# output [[7,4,1],[8,5,2],[9,6,3]]"
   ]
  },
  {
   "cell_type": "markdown",
   "metadata": {},
   "source": [
    "# 54. Spiral Matrix - MEDIUM"
   ]
  },
  {
   "cell_type": "code",
   "execution_count": null,
   "metadata": {},
   "outputs": [],
   "source": [
    "def spiralOrder(matrix):\n",
    "    output = []\n",
    "    right = 0\n",
    "    left = 0\n",
    "    top = 0\n",
    "    bottom = 0\n",
    "    row_count = len(matrix[0])\n",
    "    column_count = len(matrix)\n",
    "    total_elements = sum(len(row) for row in matrix)\n",
    "    while len(output) < total_elements:\n",
    "        for i in range(left, row_count - right):\n",
    "            output.append(matrix[top][i])\n",
    "        top += 1\n",
    "        for j in range(top, column_count - bottom):\n",
    "            output.append(matrix[j][row_count - right - 1])\n",
    "        right += 1\n",
    "        for k in range(row_count - right - 1, left - 1, -1):\n",
    "            output.append(matrix[column_count - right][k])\n",
    "        bottom += 1\n",
    "        for y in range(column_count - bottom - 1, top - 1, -1):\n",
    "            output.append(matrix[y][left])\n",
    "        left += 1\n",
    "    output = output[0:total_elements]\n",
    "    return output\n",
    "\n",
    "spiralOrder([[1,2,3,4],[5,6,7,8],[9,10,11,12]])\n",
    "\n",
    "# [[1,2,3],[4,5,6],[7,8,9]]\n",
    "# [1,2,3,6,9,8,7,4,5]"
   ]
  },
  {
   "cell_type": "markdown",
   "metadata": {},
   "source": [
    "# 36. Valid Soduku - MEDIUM"
   ]
  },
  {
   "cell_type": "code",
   "execution_count": null,
   "metadata": {},
   "outputs": [],
   "source": [
    "def isValidSudoku(board):\n",
    "    def checkNiner(x, y, board):\n",
    "        current = []\n",
    "        for i in range(x, x+3):\n",
    "            for j in range(y, y+3):\n",
    "                if board[i][j] != \".\":\n",
    "                    current.append(board[i][j])\n",
    "        if len(set(current)) != len(current):\n",
    "            return False\n",
    "        return True\n",
    "    for i in range(len(board)):\n",
    "        current = []\n",
    "        for j in range(len(board)):\n",
    "            if board[i][j] != \".\":\n",
    "                current.append(board[i][j])\n",
    "        if len(set(current)) != len(current):\n",
    "            return False\n",
    "    #Check vertically\n",
    "    for i in range(len(board)):\n",
    "        current = []\n",
    "        for j in range(len(board)):\n",
    "            if board[j][i] != \".\":\n",
    "                current.append(board[j][i])\n",
    "        if len(set(current)) != len(current):\n",
    "            return False\n",
    "    for k in range(0, 7, 3):\n",
    "        for o in range(0, 7, 3):\n",
    "            if checkNiner(k, o, board) == False:\n",
    "                return False\n",
    "    return True"
   ]
  },
  {
   "cell_type": "markdown",
   "metadata": {},
   "source": [
    "# 136. Single Number - EASY"
   ]
  },
  {
   "cell_type": "code",
   "execution_count": null,
   "metadata": {},
   "outputs": [],
   "source": [
    "def singleNumber(nums):\n",
    "    arr = sorted(nums)\n",
    "    for i in range(0, len(nums)-1, 2):\n",
    "        if arr[i] != arr[i+1]:\n",
    "            return arr[i]\n",
    "    return arr[len(nums)-1]\n",
    "\n",
    "singleNumber([1])"
   ]
  },
  {
   "cell_type": "markdown",
   "metadata": {},
   "source": [
    "# 137. Single Number II - MEDIUM"
   ]
  },
  {
   "cell_type": "code",
   "execution_count": null,
   "metadata": {},
   "outputs": [],
   "source": [
    "def singleNumber2(nums):\n",
    "    arr = sorted(nums)\n",
    "    for i in range(0, len(nums)-2, 3):\n",
    "        if arr[i] != arr[i+1] and arr[i+1] == arr[i+2]:\n",
    "            return arr[i]\n",
    "    return arr[len(nums)-1]\n",
    "\n",
    "singleNumber2([0,1,0,1,0,1,99])"
   ]
  },
  {
   "cell_type": "markdown",
   "metadata": {},
   "source": [
    "# 260. Single Number III - MEDIUM"
   ]
  },
  {
   "cell_type": "code",
   "execution_count": null,
   "metadata": {},
   "outputs": [],
   "source": [
    "def singleNumber(nums):\n",
    "    new = []\n",
    "    arr = sorted(nums)\n",
    "    i = 0\n",
    "    while i < len(nums)-1:\n",
    "        if arr[i] != arr[i+1] and len(new) == 0:\n",
    "            new.append(arr[i])\n",
    "            i = i-1\n",
    "        elif arr[i] != arr[i+1] and len(new) != 0:\n",
    "            new.append(arr[i])\n",
    "            return new\n",
    "        i = i+2\n",
    "    new.append(arr[len(nums)-1])\n",
    "    return new\n",
    "\n",
    "singleNumber([-1,0])"
   ]
  },
  {
   "cell_type": "markdown",
   "metadata": {},
   "source": [
    "# 231. Power of Two - EASY"
   ]
  },
  {
   "cell_type": "code",
   "execution_count": null,
   "metadata": {},
   "outputs": [],
   "source": [
    "def isPowerOfTwo(self, n):\n",
    "    if n == 0:\n",
    "        return False\n",
    "    if n == 1 or n == 2:\n",
    "        return True\n",
    "    if n%2 != 0:\n",
    "        return False\n",
    "    else:\n",
    "        while n != 2:\n",
    "            n = n/2\n",
    "            if n%2 != 0:\n",
    "                return False\n",
    "            if n == 2:\n",
    "                return True"
   ]
  },
  {
   "cell_type": "markdown",
   "metadata": {},
   "source": [
    "# 326. Power of Three - EASY"
   ]
  },
  {
   "cell_type": "code",
   "execution_count": null,
   "metadata": {},
   "outputs": [],
   "source": [
    "def isPowerOfThree(n):\n",
    "    if n == 1 or n == 3:\n",
    "        return True\n",
    "    elif n == 0 or n==2:\n",
    "        return False\n",
    "    \n",
    "    if n % 3 != 0:\n",
    "        return False\n",
    "    \n",
    "    while n != 3:\n",
    "        n = n / 3\n",
    "        if n % 3 != 0:\n",
    "            return False\n",
    "        if n == 3:\n",
    "            return True"
   ]
  },
  {
   "cell_type": "markdown",
   "metadata": {},
   "source": [
    "# 342. Power of Four - EASY"
   ]
  },
  {
   "cell_type": "code",
   "execution_count": null,
   "metadata": {},
   "outputs": [],
   "source": [
    "def isPowerOfFour(n):\n",
    "    if n == 1 or n == 4:\n",
    "        return True\n",
    "    elif n == 0 or n==2 or n == 3:\n",
    "        return False\n",
    "    \n",
    "    if n % 4 != 0:\n",
    "        return False\n",
    "    \n",
    "    while n != 4:\n",
    "        n = n / 4\n",
    "        if n % 4 != 0:\n",
    "            return False\n",
    "        if n == 4:\n",
    "            return True"
   ]
  },
  {
   "cell_type": "markdown",
   "metadata": {},
   "source": [
    "# 74. Search a 2D Matrix - MEDIUM"
   ]
  },
  {
   "cell_type": "code",
   "execution_count": null,
   "metadata": {},
   "outputs": [],
   "source": [
    "def searchMatrix(matrix, target):\n",
    "    j = 0\n",
    "    if len(matrix) == 1:\n",
    "        if target in matrix[0]:\n",
    "            return True\n",
    "        else:\n",
    "            return False\n",
    "    elif len(matrix[0]) == 1:\n",
    "        for i in matrix:\n",
    "            if i[0] == target:\n",
    "                return True\n",
    "        return False\n",
    "    \n",
    "    if matrix[0][0] > target:\n",
    "        return False\n",
    "    for i in matrix:\n",
    "        if i[0] > target:\n",
    "            break\n",
    "        j += 1\n",
    "    \n",
    "    j = j - 1\n",
    "    beg = 0\n",
    "    end = len(matrix[0]) - 1\n",
    "\n",
    "    while beg != end:\n",
    "        middle = (end + beg) // 2\n",
    "        if matrix[j][middle] == target:\n",
    "            return True\n",
    "        if end - beg == 1:\n",
    "            if matrix[j][beg] == target:\n",
    "                return True\n",
    "            elif matrix[j][end] == target:\n",
    "                return True\n",
    "            else:\n",
    "                return False\n",
    "        elif matrix[j][middle] > target:\n",
    "            end = middle\n",
    "        elif matrix[j][middle] < target:\n",
    "            beg = middle\n",
    "    return False\n",
    "    \n",
    "\n",
    "searchMatrix([[1,3,5,7],[10,11,16,20],[23,30,34,60]], 44)"
   ]
  },
  {
   "cell_type": "markdown",
   "metadata": {},
   "source": [
    "# 59. Sprial Matrix II - MEDIUM"
   ]
  },
  {
   "cell_type": "code",
   "execution_count": null,
   "metadata": {},
   "outputs": [],
   "source": [
    "def generateMatrix(n):\n",
    "    matrix = []\n",
    "    for i in range(n):\n",
    "        matrix.append([])\n",
    "    for i in range(n):\n",
    "        for j in range(n):\n",
    "            matrix[i].append(1)\n",
    "    counterin = 1\n",
    "    right = 0\n",
    "    left = 0\n",
    "    top = 0\n",
    "    bottom = 0\n",
    "    row_count = len(matrix[0])\n",
    "    column_count = len(matrix)\n",
    "    total_elements = sum(len(row) for row in matrix)\n",
    "    while counterin <= total_elements:\n",
    "        for i in range(left, row_count - right):\n",
    "            matrix[top][i] = counterin\n",
    "            counterin += 1\n",
    "        top += 1\n",
    "        for j in range(top, column_count - bottom):\n",
    "            matrix[j][row_count - right - 1] = counterin\n",
    "            counterin += 1\n",
    "        right += 1\n",
    "        for k in range(row_count - right - 1, left - 1, -1):\n",
    "            matrix[column_count - right][k] = counterin \n",
    "            counterin += 1\n",
    "        bottom += 1\n",
    "        for y in range(column_count - bottom - 1, top - 1, -1):\n",
    "            matrix[y][left] = counterin\n",
    "            counterin += 1\n",
    "        left += 1\n",
    "    return matrix\n",
    "\n",
    "spiralOrder(4)"
   ]
  },
  {
   "cell_type": "markdown",
   "metadata": {},
   "source": [
    "# 73. Set Matrix Zeroes - MEDIUM"
   ]
  },
  {
   "cell_type": "code",
   "execution_count": null,
   "metadata": {},
   "outputs": [],
   "source": [
    "def setZeroes(matrix):\n",
    "    copymatrix = [row[:] for row in matrix]\n",
    "    def setrowZero(x, y):\n",
    "        for i in range(0, len(matrix[0])):\n",
    "            matrix[x][i] = 0\n",
    "        for j in range(len(matrix)):\n",
    "            matrix[j][y] = 0\n",
    "\n",
    "    for i in range(0, len(matrix)):\n",
    "        for j in range(0, len(matrix[0])):\n",
    "            if copymatrix[i][j] == 0:\n",
    "                setrowZero(i, j)\n",
    "    return matrix\n",
    "\n",
    "setZeroes([[0,1]])"
   ]
  },
  {
   "cell_type": "markdown",
   "metadata": {},
   "source": [
    "# 79. Word Search - MEDIUM"
   ]
  },
  {
   "cell_type": "code",
   "execution_count": null,
   "metadata": {},
   "outputs": [],
   "source": [
    "def exist(board, word):\n",
    "    firstletter = word[0]\n",
    "    def check(x, y):\n",
    "        for i in range(1, len(word)+1):\n",
    "            anyway = False\n",
    "            if i == len(word)-1:\n",
    "                return True\n",
    "            if x+1 < len(board[0]):\n",
    "                if board[x+1][y] == word[i]:\n",
    "                    x = x+1\n",
    "                    anyway = True\n",
    "            if x-1 >= 0:\n",
    "                if board[x-1][y] == word[i]:\n",
    "                    x = x-1\n",
    "                    anyway = True\n",
    "            if y+1 < len(board):\n",
    "                if board[x][y+1] == word[i]:\n",
    "                    y = y+1\n",
    "                    anyway = True\n",
    "            if y-1 >= 0:\n",
    "                if board[x][y-1] == word[i]:\n",
    "                    y = y-1\n",
    "                    anyway = True\n",
    "            if anyway == False:\n",
    "                return False\n",
    "        return False\n",
    "    for i in range(0, len(board)-1):\n",
    "        for j in range(0, len(board[0])-1):\n",
    "            if board[i][j] == firstletter:\n",
    "                if check(i, j):\n",
    "                    return True\n",
    "    return False\n",
    "\n",
    "exist([[\"A\",\"B\",\"C\",\"E\"],[\"S\",\"F\",\"C\",\"S\"],[\"A\",\"D\",\"E\",\"E\"]], \"ABCCED\")"
   ]
  },
  {
   "cell_type": "markdown",
   "metadata": {},
   "source": [
    "# 566. Reshape the Matrix - EASY"
   ]
  },
  {
   "cell_type": "code",
   "execution_count": null,
   "metadata": {},
   "outputs": [],
   "source": [
    "def matrixReshape(mat, r, c):\n",
    "    newmat = []\n",
    "    lenmatrix = len(mat) * len(mat[0])\n",
    "    if r > lenmatrix or c > lenmatrix:\n",
    "        return mat\n",
    "    stopper = lenmatrix // r\n",
    "    for i in range(r):\n",
    "        newmat.append([])\n",
    "    ccount = 0\n",
    "    rcount = 0\n",
    "    for i in range(0, len(mat)):\n",
    "        for j in range(0, len(mat[0])):\n",
    "            if ccount == stopper:\n",
    "                ccount = 0\n",
    "                rcount += 1\n",
    "            newmat[rcount].append(mat[i][j])\n",
    "            ccount += 1\n",
    "    return newmat\n",
    "\n",
    "matrixReshape([[1,2],[3,4]], 7, 8)"
   ]
  },
  {
   "cell_type": "markdown",
   "metadata": {},
   "source": [
    "# 867. Transpose Matrix - EASY"
   ]
  },
  {
   "cell_type": "code",
   "execution_count": null,
   "metadata": {},
   "outputs": [],
   "source": [
    "def transpose(matrix):\n",
    "    newmatrix = []  \n",
    "    for i in range(len(matrix[0])):\n",
    "        row = [0] * len(matrix)\n",
    "        newmatrix.append(row)\n",
    "\n",
    "    for i in range(len(matrix)):\n",
    "        for j in range(len(matrix[0])):\n",
    "            newmatrix[j][i] = matrix[i][j]\n",
    "    return newmatrix\n",
    "\n",
    "transpose([[1,2,3],[4,5,6],[7,8,9]])"
   ]
  },
  {
   "cell_type": "markdown",
   "metadata": {},
   "source": [
    "# 175. Combine Two Tables - EASY"
   ]
  },
  {
   "cell_type": "code",
   "execution_count": null,
   "metadata": {
    "vscode": {
     "languageId": "sql"
    }
   },
   "outputs": [],
   "source": [
    "SELECT Person.firstName, Person.lastName, Address.city, Address.state\n",
    "FROM Person\n",
    "LEFT JOIN Address\n",
    "ON Person.personId = Address.personId"
   ]
  },
  {
   "cell_type": "markdown",
   "metadata": {},
   "source": [
    "# 181. Employees Earning more than their Managers - EASY"
   ]
  },
  {
   "cell_type": "code",
   "execution_count": null,
   "metadata": {
    "vscode": {
     "languageId": "sql"
    }
   },
   "outputs": [],
   "source": [
    "SELECT e2.name as Employee\n",
    "FROM employee e1\n",
    "INNER JOIN employee e2 on e1.id = e2.managerID\n",
    "WHERE e1.salary < e2.salary"
   ]
  },
  {
   "cell_type": "markdown",
   "metadata": {},
   "source": [
    "# 182. Duplicate Emails - EASY"
   ]
  },
  {
   "cell_type": "code",
   "execution_count": null,
   "metadata": {},
   "outputs": [],
   "source": [
    "import pandas as pd\n",
    "\n",
    "data = [[1, 'a@b.com'], [2, 'c@d.com'], [3, 'a@b.com']]\n",
    "Person = pd.DataFrame(data, columns=['id', 'email']).astype({'id':'Int64', 'email':'object'})\n",
    "\n",
    "def duplicate_emails(person: pd.DataFrame) -> pd.DataFrame:\n",
    "    dubs = person[person.duplicated(subset=[\"email\"], keep=False)]\n",
    "    dubs = dubs.drop_duplicates(subset=[\"email\"])\n",
    "    dubs = dubs.drop(columns=\"id\")\n",
    "    return dubs\n",
    "\n",
    "duplicate_emails(Person)"
   ]
  },
  {
   "cell_type": "markdown",
   "metadata": {},
   "source": [
    "# 183. Customers who never Order - EASY"
   ]
  },
  {
   "cell_type": "code",
   "execution_count": null,
   "metadata": {},
   "outputs": [],
   "source": [
    "import pandas as pd\n",
    "\n",
    "data = [[1, 'Joe'], [2, 'Henry'], [3, 'Sam'], [4, 'Max']]\n",
    "Customers = pd.DataFrame(data, columns=['id', 'name']).astype({'id':'Int64', 'name':'object'})\n",
    "data = [[1, 3], [2, 1]]\n",
    "Orders = pd.DataFrame(data, columns=['id', 'customerId']).astype({'id':'Int64', 'customerId':'Int64'})\n",
    "\n",
    "def find_customers(customers: pd.DataFrame, orders: pd.DataFrame) -> pd.DataFrame:\n",
    "    output = customers[~customers[\"id\"].isin(orders[\"customerId\"])]\n",
    "    output = output.drop(columns=\"id\")\n",
    "    output = output.rename(columns={\"name\":\"Customers\"})\n",
    "    return output\n",
    "find_customers(Customers, Orders)"
   ]
  },
  {
   "cell_type": "markdown",
   "metadata": {},
   "source": [
    "# 176. Second Highest Salary - MEDIUM"
   ]
  },
  {
   "cell_type": "code",
   "execution_count": null,
   "metadata": {},
   "outputs": [],
   "source": [
    "import pandas as pd\n",
    "\n",
    "data = [[1, 100],[2, 100]]\n",
    "Employee = pd.DataFrame(data, columns=['id', 'salary']).astype({'id':'int64', 'salary':'int64'})\n",
    "\n",
    "def second_highest_salary(employee: pd.DataFrame) -> pd.DataFrame:\n",
    "    if(len(employee) < 2):\n",
    "        employee = employee.drop(columns=\"id\")\n",
    "        employee = employee.rename(columns={\"salary\":\"SecondHighestSalary\"})\n",
    "        employee[\"SecondHighestSalary\"] = pd.NA\n",
    "        return employee\n",
    "    max_salary = employee[\"salary\"].max()\n",
    "    employee = employee[employee[\"salary\"] < max_salary]\n",
    "    max_salary_now = employee[\"salary\"].max()\n",
    "    employee = employee[employee[\"salary\"] == max_salary_now]\n",
    "    employee = employee.drop(columns=\"id\")\n",
    "    employee = employee.rename(columns={\"salary\":\"SecondHighestSalary\"})\n",
    "    if len(employee)== 0:\n",
    "        employee.loc[0] = pd.NA\n",
    "    employee = employee.drop_duplicates()\n",
    "    return employee\n",
    "second_highest_salary(Employee)\n"
   ]
  },
  {
   "cell_type": "markdown",
   "metadata": {},
   "source": [
    "# 196. Delete Duplicate Emails - EASY"
   ]
  },
  {
   "cell_type": "code",
   "execution_count": null,
   "metadata": {},
   "outputs": [],
   "source": [
    "import pandas as pd\n",
    "\n",
    "data = [[2, 'bob@example.com'], [3, 'john@example.com'], [1, 'john@example.com']]\n",
    "Person = pd.DataFrame(data, columns=['id', 'email']).astype({'id':'int64', 'email':'object'})\n",
    "\n",
    "def delete_duplicate_emails(person: pd.DataFrame) -> None:\n",
    "    person.sort_values(by=\"id\", inplace=True)\n",
    "    person.drop_duplicates(subset=\"email\", inplace=True)\n",
    "    return person.iloc[::-1]\n",
    "\n",
    "delete_duplicate_emails(Person)"
   ]
  },
  {
   "cell_type": "markdown",
   "metadata": {},
   "source": [
    "# 178. Rank Score - MEDIUM"
   ]
  },
  {
   "cell_type": "code",
   "execution_count": null,
   "metadata": {},
   "outputs": [],
   "source": [
    "import pandas as pd\n",
    "\n",
    "data = [[1, 3.5], [2, 3.65], [3, 4.0], [4, 3.85], [5, 4.0], [6, 3.65]]\n",
    "Scores = pd.DataFrame(data, columns=['id', 'score']).astype({'id':'Int64', 'score':'Float64'})\n",
    "\n",
    "def order_scores(scores: pd.DataFrame) -> pd.DataFrame:\n",
    "    scores.sort_values(by=\"score\", ascending=False, inplace=True)\n",
    "    scores[\"rank\"] = scores[\"score\"].rank(method=\"min\", ascending=False).astype(int)\n",
    "    scores[\"rank\"] = scores.groupby(\"rank\").ngroup() + 1\n",
    "    scores.drop(columns=\"id\", inplace=True)\n",
    "    return scores\n",
    "\n",
    "order_scores(Scores)"
   ]
  },
  {
   "cell_type": "markdown",
   "metadata": {},
   "source": [
    "# 570. Managers with at Least 5 Direct Report - MEDIUM"
   ]
  },
  {
   "cell_type": "code",
   "execution_count": null,
   "metadata": {},
   "outputs": [],
   "source": [
    "import pandas as pd\n",
    "\n",
    "data = [[101, 'John', 'A', None], [102, 'Dan', 'A', 101], [103, 'James', 'A', 101], [104, 'Amy', 'A', 101], [105, 'Anne', 'A', 101], [106, 'Ron', 'B', 101]]\n",
    "Employee = pd.DataFrame(data, columns=['id', 'name', 'department', 'managerId']).astype({'id':'Int64', 'name':'object', 'department':'object', 'managerId':'Int64'})\n",
    "\n",
    "def find_managers(employee: pd.DataFrame) -> pd.DataFrame:\n",
    "    counts = employee.groupby(\"managerId\").count()\n",
    "    print(counts.index[0])\n",
    "    counts.index = counts[\"id\"]\n",
    "    return counts\n",
    "find_managers(Employee)\n",
    "\n"
   ]
  },
  {
   "cell_type": "markdown",
   "metadata": {},
   "source": [
    "# 121. Best Time to Buy and Sell Stock - EASY"
   ]
  },
  {
   "cell_type": "code",
   "execution_count": null,
   "metadata": {},
   "outputs": [],
   "source": [
    "def maxProfit(prices):\n",
    "    buy = 0\n",
    "    sell = 1\n",
    "    maxi = 0\n",
    "    for i in range(len(prices)-1):\n",
    "        price = prices[sell] - prices[buy]\n",
    "        if price > maxi and prices[buy] < prices[sell]:\n",
    "            maxi = price\n",
    "        elif prices[buy] >= prices[sell]:\n",
    "            buy = sell\n",
    "        sell += 1\n",
    "    return maxi\n",
    "maxProfit([7,1,5,3,6,4])"
   ]
  },
  {
   "cell_type": "markdown",
   "metadata": {},
   "source": [
    "# 122. Best Time to Buy and Sell Stock II - MEDIUM"
   ]
  },
  {
   "cell_type": "code",
   "execution_count": null,
   "metadata": {},
   "outputs": [],
   "source": [
    "def maxProfit2(prices):\n",
    "    buy = 0\n",
    "    sell = 1\n",
    "    maxi = 0\n",
    "    for i in range(len(prices)-1):\n",
    "        price = prices[sell] - prices[buy]\n",
    "        if prices[buy] < prices[sell]:\n",
    "            maxi += price \n",
    "            buy = sell  \n",
    "        elif prices[buy] >= prices[sell]:\n",
    "            buy = sell\n",
    "        sell += 1\n",
    "    return maxi\n",
    "\n",
    "maxProfit2([7,1,5,3,6,4])"
   ]
  },
  {
   "cell_type": "markdown",
   "metadata": {},
   "source": [
    "# 123. Best Time to Buy and Sell Stocks III - HARD"
   ]
  },
  {
   "cell_type": "code",
   "execution_count": null,
   "metadata": {},
   "outputs": [],
   "source": [
    "def maxProfit2(prices):\n",
    "    buy = 0\n",
    "    sell = 1\n",
    "    maxi = 0\n",
    "    maxprices = []\n",
    "    indices = []\n",
    "    for i in range(len(prices)-1):\n",
    "        price = prices[sell] - prices[buy]\n",
    "        if prices[buy] < prices[sell]:\n",
    "            maxi += price \n",
    "            buy = sell  \n",
    "        elif prices[buy] >= prices[sell]:\n",
    "            buy = sell\n",
    "        sell += 1\n",
    "    return maxi"
   ]
  },
  {
   "cell_type": "markdown",
   "metadata": {},
   "source": [
    "# 344. Reverse String - EASY"
   ]
  },
  {
   "cell_type": "code",
   "execution_count": null,
   "metadata": {},
   "outputs": [],
   "source": [
    "def reverseString(s):\n",
    "    ssave = [row[:] for row in s]\n",
    "    counter = 0\n",
    "    for i in range(len(s)-1, -1, -1):\n",
    "        s[counter] = ssave[i]\n",
    "        counter += 1\n",
    "    return s\n",
    "\n",
    "reverseString([\"h\",\"e\",\"l\",\"l\",\"o\"])"
   ]
  },
  {
   "cell_type": "markdown",
   "metadata": {},
   "source": [
    "# 2815. Max Pair Sum in an Array - EASY"
   ]
  },
  {
   "cell_type": "code",
   "execution_count": null,
   "metadata": {},
   "outputs": [],
   "source": [
    "def maxSum(nums):\n",
    "    maxes = []\n",
    "    def fitMaximum(a, b):\n",
    "        astring = str(a)\n",
    "        bstring = str(b)\n",
    "        maxa = 0\n",
    "        maxb = 0\n",
    "        for i in astring:\n",
    "            if int(i) > maxa:\n",
    "                maxa = int(i)\n",
    "        for i in bstring:\n",
    "            if int(i) > maxb:\n",
    "                maxb = int(i)\n",
    "        if maxa == maxb:\n",
    "            return True\n",
    "        return False\n",
    "    for i in range(len(nums)):\n",
    "        for j in range(i+1, len(nums)): \n",
    "            if i != j and fitMaximum(nums[i], nums[j]):\n",
    "                maxes.append(nums[i]+nums[j])\n",
    "    if maxes != []:\n",
    "        maxnum = max(maxes)\n",
    "        return maxnum\n",
    "    return -1\n",
    "\n",
    "maxSum([51,71,17,24,42])\n"
   ]
  },
  {
   "cell_type": "markdown",
   "metadata": {},
   "source": [
    "# 2817. Minimum Absolute Difference Between Elements with Constraint - MEDIUM"
   ]
  },
  {
   "cell_type": "code",
   "execution_count": null,
   "metadata": {},
   "outputs": [],
   "source": [
    "def minAbsoluteDifference(nums, x):\n",
    "    def closest_number(arr, x):\n",
    "        closest = None\n",
    "        min_diff = float('inf')\n",
    "        \n",
    "        for num in arr:\n",
    "            diff = abs(num - x)\n",
    "            if diff < min_diff:\n",
    "                min_diff = diff\n",
    "                closest = num\n",
    "                \n",
    "        return closest\n",
    "    minimum = float('inf')\n",
    "    length = len(nums)\n",
    "    for i in range(len(nums) - x):\n",
    "        minimum2 = closest_number(nums[(i+x):], nums[i])\n",
    "        if minimum2 >= nums[i] and (minimum2 - nums[i]) < minimum:\n",
    "            minimum = minimum2 - nums[i]\n",
    "        elif minimum2 < nums[i] and (nums[i] - minimum2) < minimum:\n",
    "            minimum = nums[i] - minimum2\n",
    "    return minimum\n",
    "\n",
    "minAbsoluteDifference([5,3,2,10,15], 1)"
   ]
  },
  {
   "cell_type": "markdown",
   "metadata": {},
   "source": [
    "# 2259. Remove Digit from Number to Maximize Result - MEDIUM"
   ]
  },
  {
   "cell_type": "code",
   "execution_count": null,
   "metadata": {},
   "outputs": [],
   "source": [
    "def removeDigit(number, digit):\n",
    "    counter = 0\n",
    "    counterlist = []\n",
    "    for i in number:\n",
    "        if i == digit:\n",
    "            counterlist.append(counter)\n",
    "        counter += 1\n",
    "    listofnumbers = []\n",
    "    for i in counterlist:\n",
    "        listofnumbers.append(int(number[:i] + number[i+1:]))\n",
    "    return str(max(listofnumbers))\n",
    "\n",
    "removeDigit(\"123\", \"3\")"
   ]
  },
  {
   "cell_type": "markdown",
   "metadata": {},
   "source": [
    "# 43. Multiply Strings - MEDIUM"
   ]
  },
  {
   "cell_type": "code",
   "execution_count": null,
   "metadata": {},
   "outputs": [],
   "source": [
    "def multiply(num1, num2):\n",
    "    num1 = int(num1)\n",
    "    num2 = int(num2)\n",
    "    return str(num1*num2)"
   ]
  },
  {
   "cell_type": "markdown",
   "metadata": {},
   "source": [
    "# 290. Word Pattern - EASY"
   ]
  },
  {
   "cell_type": "code",
   "execution_count": null,
   "metadata": {},
   "outputs": [],
   "source": [
    "def wordPattern(pattern, s):\n",
    "    wordlist = s.split()\n",
    "    if len(wordlist) != len(pattern):\n",
    "        return False\n",
    "    listofpattern = []\n",
    "    counteri = 0\n",
    "    counterj = 0\n",
    "    for i in pattern:\n",
    "        for j in listofpattern:\n",
    "            if i == j and wordlist[counterj] != wordlist[counteri] and counteri != counterj:\n",
    "                return False \n",
    "            elif i != j and wordlist[counterj] == wordlist[counteri] and counteri != counterj:\n",
    "                return False\n",
    "            counterj += 1\n",
    "        counterj = 0\n",
    "        counteri += 1\n",
    "        listofpattern.append(i)\n",
    "    return True\n",
    "    \n",
    "\n",
    "wordPattern(\"abba\", \"dog dog dog dog\")"
   ]
  },
  {
   "cell_type": "markdown",
   "metadata": {},
   "source": [
    "# 345. Reverse Vowels of a String - EASY"
   ]
  },
  {
   "cell_type": "code",
   "execution_count": null,
   "metadata": {},
   "outputs": [],
   "source": [
    "def reverseVowels(s):\n",
    "    vowels = [\"a\", \"A\", \"e\", \"E\", \"i\", \"I\", \"o\", \"O\", \"u\", \"U\"]\n",
    "    vowellist = []\n",
    "    for i in s:\n",
    "        if i in vowels:\n",
    "            vowellist.append(i)\n",
    "    counter = 0\n",
    "    newword = \"\"\n",
    "    for j in reversed(s):\n",
    "        if j in vowels:\n",
    "            newword += vowellist[counter]\n",
    "            counter += 1\n",
    "        else:\n",
    "            newword += j\n",
    "    return newword[::-1]\n",
    "\n",
    "reverseVowels(\"hello\")"
   ]
  },
  {
   "cell_type": "markdown",
   "metadata": {},
   "source": [
    "# 217. Contains Duplicate - EASY"
   ]
  },
  {
   "cell_type": "code",
   "execution_count": null,
   "metadata": {},
   "outputs": [],
   "source": [
    "def containsDuplicate(nums):\n",
    "    sortednums = sorted(nums)\n",
    "    for i in range(len(nums)-1):\n",
    "        if sortednums[i] == sortednums[i+1]:\n",
    "            return True\n",
    "    return False"
   ]
  },
  {
   "cell_type": "markdown",
   "metadata": {},
   "source": [
    "# 219. Contains Duplicate II - EASY"
   ]
  },
  {
   "cell_type": "code",
   "execution_count": 13,
   "metadata": {},
   "outputs": [
    {
     "name": "stdout",
     "output_type": "stream",
     "text": [
      "{}\n",
      "{1: 0}\n",
      "{1: 0, 2: 1}\n",
      "{1: 0, 2: 1, 3: 2}\n"
     ]
    },
    {
     "data": {
      "text/plain": [
       "True"
      ]
     },
     "execution_count": 13,
     "metadata": {},
     "output_type": "execute_result"
    }
   ],
   "source": [
    "def containsNearbyDuplicate(nums, k):\n",
    "    num_positions = {} \n",
    "    for i, j in enumerate(nums):\n",
    "        print(num_positions)\n",
    "        if j in num_positions and i - num_positions[j] <= k:\n",
    "            return True\n",
    "        num_positions[j] = i\n",
    "    return False\n",
    "\n",
    "containsNearbyDuplicate([1, 2, 3, 1], 3)\n"
   ]
  },
  {
   "cell_type": "markdown",
   "metadata": {},
   "source": [
    "# 220. Contains Duplicate III - HARD"
   ]
  },
  {
   "cell_type": "code",
   "execution_count": null,
   "metadata": {},
   "outputs": [],
   "source": [
    "from sortedcontainers import SortedList\n",
    "\n",
    "def containsNearbyAlmostDuplicate(nums, indexDiff, valueDiff):\n",
    "    SList = SortedList()\n",
    "    for i in range(len(nums)):\n",
    "        if i > indexDiff: \n",
    "            # Simulates a rolling window\n",
    "            SList.remove(nums[i-indexDiff-1])   \n",
    "        position1 = SortedList.bisect_left(SList, nums[i] - valueDiff)\n",
    "        position2 = SortedList.bisect_right(SList, nums[i] + valueDiff)\n",
    "        \n",
    "        if position1 != len(SList) and position1 != position2: \n",
    "            return True\n",
    "        SList.add(nums[i])\n",
    "    return False    \n",
    "\n",
    "containsNearbyAlmostDuplicate([1,5,9,1,5,9], 2, 3)"
   ]
  },
  {
   "cell_type": "code",
   "execution_count": null,
   "metadata": {},
   "outputs": [],
   "source": [
    "# Bucket sort zum anschauen mit python3\n",
    "\n",
    "class Solution:\n",
    "    def containsNearbyAlmostDuplicate(self, nums: List[int], indexDiff: int, valueDiff: int) -> bool:\n",
    "        buckets = {} #store values for diapason (i-indexDiff:i]\n",
    "        valueDiff +=1 #if valueDiff = zero it's simplify proces edge-cases\n",
    "        \n",
    "        for idx, curVal in enumerate(nums):\n",
    "            bucketId = curVal // valueDiff #bucket for new element\n",
    "            if bucketId in buckets: return True # have 'duplicate value' in current bucket\n",
    "            #check neighboring buckets if they are exists\n",
    "            for i in (bucketId - 1, bucketId + 1):\n",
    "                if i in buckets: # bucket exist\n",
    "                    if abs(buckets[i] - curVal) < valueDiff: # because valueDiff+1 then check only strict <\n",
    "                        return True\n",
    "            \n",
    "            #add current value to bucket\n",
    "            buckets[bucketId] = curVal\n",
    "            \n",
    "            # remove value out of available window\n",
    "            if idx >= indexDiff:\n",
    "                removeVal = nums[idx - indexDiff]\n",
    "                del buckets[removeVal//valueDiff]\n",
    "\n",
    "        return False"
   ]
  },
  {
   "cell_type": "markdown",
   "metadata": {},
   "source": [
    "# 151. Reverse Words in a String - MEDIUM"
   ]
  },
  {
   "cell_type": "code",
   "execution_count": null,
   "metadata": {},
   "outputs": [],
   "source": [
    "def reverseWords(s):\n",
    "    splited = split(s)\n",
    "    rev = splited[::-1]\n",
    "    s = \"\"\n",
    "    for i in rev:\n",
    "        s += i + \" \"\n",
    "    return s[:-1]"
   ]
  },
  {
   "cell_type": "markdown",
   "metadata": {},
   "source": [
    "# 595. Big Countries - EASY"
   ]
  },
  {
   "cell_type": "code",
   "execution_count": null,
   "metadata": {
    "vscode": {
     "languageId": "sql"
    }
   },
   "outputs": [],
   "source": [
    "select name, population, area\n",
    "from World\n",
    "where population >= 25000000 OR area >= 3000000"
   ]
  },
  {
   "cell_type": "markdown",
   "metadata": {},
   "source": [
    "# 75. Sort Colors - MEDIUM"
   ]
  },
  {
   "cell_type": "code",
   "execution_count": null,
   "metadata": {},
   "outputs": [],
   "source": [
    "def sortColors(nums):\n",
    "    counter1 = 0\n",
    "    counter2 = 0\n",
    "    counter3 = 0\n",
    "    for i in nums:\n",
    "        if i == 0:\n",
    "            counter1 += 1\n",
    "        elif i == 1:\n",
    "            counter2 += 1\n",
    "        elif i == 2:\n",
    "            counter3 += 1\n",
    "    counter = 0\n",
    "    while(counter1 != 0):\n",
    "        nums[counter] = 0\n",
    "        counter += 1\n",
    "        counter1 -= 1\n",
    "    while(counter2 != 0):\n",
    "        nums[counter] = 1\n",
    "        counter += 1\n",
    "        counter2 -= 1\n",
    "    while(counter3 != 0):\n",
    "        nums[counter] = 2\n",
    "        counter += 1\n",
    "        counter3 -= 1\n",
    "    return nums\n",
    "\n",
    "sortColors([2,0,2,1,1,0])"
   ]
  },
  {
   "cell_type": "markdown",
   "metadata": {},
   "source": [
    "# 125. Valid Palindrome - EASY"
   ]
  },
  {
   "cell_type": "code",
   "execution_count": null,
   "metadata": {},
   "outputs": [],
   "source": [
    "import re\n",
    "\n",
    "def isPalindrome(s):\n",
    "    def clean_and_lower(input_string):\n",
    "        cleaned_string = re.sub(r'[^a-zA-Z0-9]', '', input_string)\n",
    "        return cleaned_string.lower()\n",
    "    s = clean_and_lower(s)\n",
    "    beg = 0\n",
    "    end = len(s)-1\n",
    "    while beg < end:\n",
    "        if s[beg] != s[end]:\n",
    "            return False\n",
    "        else:\n",
    "            beg += 1\n",
    "            end -= 1\n",
    "    return True\n",
    "\n",
    "isPalindrome(\"0P\")"
   ]
  },
  {
   "cell_type": "markdown",
   "metadata": {},
   "source": [
    "# 680. Valid Palindrome II - EASY"
   ]
  },
  {
   "cell_type": "code",
   "execution_count": null,
   "metadata": {},
   "outputs": [],
   "source": [
    "# Zu langsam\n",
    "\n",
    "def validPalindrome2(s):\n",
    "    def isPalindrome(s):\n",
    "        def clean_and_lower(input_string):\n",
    "            cleaned_string = re.sub(r'[^a-zA-Z0-9]', '', input_string)\n",
    "            return cleaned_string.lower()\n",
    "        s = clean_and_lower(s)\n",
    "        beg = 0\n",
    "        end = len(s)-1\n",
    "        while beg < end:\n",
    "            if s[beg] != s[end]:\n",
    "                return False\n",
    "            else:\n",
    "                beg += 1\n",
    "                end -= 1\n",
    "        return True\n",
    "    if isPalindrome(s):\n",
    "        return True\n",
    "    else:\n",
    "        for i in range(len(s)):\n",
    "            if isPalindrome(s[:i]+s[i+1:]):\n",
    "                return True\n",
    "        return False\n",
    "    \n",
    "validPalindrome2(\"abca\")"
   ]
  },
  {
   "cell_type": "code",
   "execution_count": null,
   "metadata": {},
   "outputs": [],
   "source": [
    "# neuer approach\n",
    "\n",
    "def validPalindrome(s):\n",
    "    beg = 0\n",
    "    current1 = \"\"\n",
    "    current2 = \"\"\n",
    "    end = len(s)-1\n",
    "    while beg < end:\n",
    "        if s[beg] != s[end]:\n",
    "            current1 = s[:beg]+s[beg+1:]\n",
    "            current2 = s[:end]+s[end+1:]\n",
    "            break\n",
    "        beg += 1\n",
    "        end -= 1\n",
    "    if current1 == \"\" and current2 == \"\":\n",
    "        return True\n",
    "    else:\n",
    "        current1b = True\n",
    "        beg = 0\n",
    "        end = len(s)-2\n",
    "        while(beg < end):\n",
    "            if current1[beg] != current1[end]:\n",
    "                current1b = False\n",
    "                break\n",
    "            beg += 1\n",
    "            end -= 1\n",
    "        beg = 0\n",
    "        current2b = True\n",
    "        end = len(s)-2\n",
    "        while(beg < end):\n",
    "            if current2[beg] != current2[end]:\n",
    "                current2b = False\n",
    "                break\n",
    "            beg += 1\n",
    "            end -= 1\n",
    "        if(current2b == False and current1b == False):\n",
    "            return False\n",
    "        else:\n",
    "            return True\n",
    "validPalindrome(\"abca\")\n"
   ]
  },
  {
   "cell_type": "markdown",
   "metadata": {},
   "source": [
    "# 409. Longest Palindrome - EASY"
   ]
  },
  {
   "cell_type": "code",
   "execution_count": null,
   "metadata": {},
   "outputs": [],
   "source": [
    "def longestPalindrome(s):\n",
    "    char_counter = {}\n",
    "    length = 0\n",
    "    odd = False\n",
    "    for i in s:\n",
    "        if i in char_counter:\n",
    "            char_counter[i] += 1\n",
    "        else:\n",
    "            char_counter[i] = 1\n",
    "    for j in char_counter.values():\n",
    "        if j % 2 == 0:\n",
    "            length += j\n",
    "        else:\n",
    "            length += j - 1\n",
    "            odd = True\n",
    "    if odd:\n",
    "        length += 1\n",
    "    return length"
   ]
  },
  {
   "cell_type": "markdown",
   "metadata": {},
   "source": [
    "# 866. Prime Palindrome - MEDIUM"
   ]
  },
  {
   "cell_type": "code",
   "execution_count": null,
   "metadata": {},
   "outputs": [],
   "source": [
    "def primePalindrome(n):\n",
    "    def palincheck(x):\n",
    "        if str(x) == str(x)[::-1]:\n",
    "            return True\n",
    "        return False\n",
    "    def checkPrime(x):\n",
    "        if x < 2:\n",
    "            return False\n",
    "        else:\n",
    "            for i in range(2, int(pow(x, 0.75)+1)):\n",
    "                if x % i == 0:\n",
    "                    return False\n",
    "            return True\n",
    "    while(1==1):\n",
    "        if(palincheck(n) and checkPrime(n)):\n",
    "            return n\n",
    "        else:\n",
    "            n+=1\n"
   ]
  },
  {
   "cell_type": "markdown",
   "metadata": {},
   "source": [
    "# 204. Count Primes - MEDIUM"
   ]
  },
  {
   "cell_type": "code",
   "execution_count": null,
   "metadata": {},
   "outputs": [],
   "source": [
    "def countPrimes(n):\n",
    "    counter = 0\n",
    "    def check_prime(x):\n",
    "        for i in range(2, int(pow(x, 0.5))+1):\n",
    "            if x % i == 0:\n",
    "                return False\n",
    "        return True\n",
    "    if n < 3:\n",
    "        return 0\n",
    "    for i in range(2, n):\n",
    "        if check_prime(i):\n",
    "            counter += 1\n",
    "    return counter\n",
    "\n",
    "countPrimes(10)"
   ]
  },
  {
   "cell_type": "markdown",
   "metadata": {},
   "source": [
    "# 258. Add Digits - EASY"
   ]
  },
  {
   "cell_type": "code",
   "execution_count": null,
   "metadata": {},
   "outputs": [],
   "source": [
    "def addDigits(num):\n",
    "    string = str(num)\n",
    "    while num > 9:\n",
    "        summer = 0\n",
    "        for i in string:\n",
    "            summer += int(i)\n",
    "        num = summer\n",
    "        string = str(summer)\n",
    "    return num\n",
    "addDigits(38)"
   ]
  },
  {
   "cell_type": "markdown",
   "metadata": {},
   "source": [
    "# 412. Fizz Buzz - EASY"
   ]
  },
  {
   "cell_type": "code",
   "execution_count": null,
   "metadata": {},
   "outputs": [],
   "source": [
    "def fizzBuzz(n):\n",
    "    strings = []\n",
    "    for i in range(1, n+1):\n",
    "        if i % 5 == 0 and i % 3 == 0:\n",
    "            strings.append(\"FizzBuzz\")\n",
    "        elif i % 3 == 0:\n",
    "            strings.append(\"Fizz\")\n",
    "        elif i % 5 == 0:\n",
    "            strings.append(\"Buzz\")\n",
    "        else:\n",
    "            strings.append(str(i))\n",
    "    return strings\n",
    "\n",
    "fizzBuzz(15)\n"
   ]
  },
  {
   "cell_type": "markdown",
   "metadata": {},
   "source": [
    "# 728. Self Dividing Numbers - EASY"
   ]
  },
  {
   "cell_type": "code",
   "execution_count": null,
   "metadata": {},
   "outputs": [],
   "source": [
    "def selfDividingNumbers(left, right):\n",
    "    selfnumbers = []\n",
    "    def selfNumber(n):\n",
    "        string = str(n)\n",
    "        for i in string:\n",
    "            if i == \"0\" or (n % int(i)) != 0:\n",
    "                return False\n",
    "        return True\n",
    "    for i in range(left, right+1):\n",
    "        if selfNumber(i):\n",
    "            selfnumbers.append(i)\n",
    "    return selfnumbers\n",
    "selfDividingNumbers(1, 22)"
   ]
  },
  {
   "cell_type": "markdown",
   "metadata": {},
   "source": [
    "# 319. Bulb Switcher - MEDIUM"
   ]
  },
  {
   "cell_type": "code",
   "execution_count": null,
   "metadata": {},
   "outputs": [],
   "source": [
    "# Algorithmische Lösung\n",
    "def bulbSwitch(n):\n",
    "    values = n * [False]\n",
    "    for i in range(1, n+1):\n",
    "        j = 1*i -1 \n",
    "        while j < n:\n",
    "            values[j] = not(values[j])\n",
    "            j += 1*i\n",
    "    return values.count(True)\n",
    "\n",
    "bulbSwitch(15)"
   ]
  },
  {
   "cell_type": "code",
   "execution_count": null,
   "metadata": {},
   "outputs": [],
   "source": [
    "# Mathematische: \n",
    "import numpy as np\n",
    "def bulbSwitch2(n):\n",
    "    return int(np.sqrt(n))\n",
    "\n",
    "bulbSwitch2(1)"
   ]
  },
  {
   "cell_type": "markdown",
   "metadata": {},
   "source": [
    "# 2356. Number of Unique Subjects Taught by Each Teacher - EASY"
   ]
  },
  {
   "cell_type": "code",
   "execution_count": null,
   "metadata": {},
   "outputs": [],
   "source": [
    "import pandas as pd\n",
    "\n",
    "data = [[1, 2, 3], [1, 2, 4], [1, 3, 3], [2, 1, 1], [2, 2, 1], [2, 3, 1], [2, 4, 1]]\n",
    "Teacher = pd.DataFrame(data, columns=['teacher_id', 'subject_id', 'dept_id']).astype({'teacher_id':'Int64', 'subject_id':'Int64', 'dept_id':'Int64'})\n",
    "\n",
    "def count_unique_subjects(teacher: pd.DataFrame) -> pd.DataFrame:\n",
    "    teacher = teacher.reset_index()\n",
    "    teacher = teacher.drop_duplicates(subset=[\"teacher_id\", \"subject_id\"])\n",
    "    teacher = teacher.groupby(\"teacher_id\").count()\n",
    "    teacher.rename(columns={\"subject_id\":\"cnt\"}, inplace=True)\n",
    "    teacher.drop(columns=[\"dept_id\", \"index\"], inplace=True)\n",
    "    teacher.reset_index(inplace=True)\n",
    "    return teacher\n",
    "\n",
    "count_unique_subjects(Teacher)"
   ]
  },
  {
   "cell_type": "markdown",
   "metadata": {},
   "source": [
    "# 2082. The Number of Rich Customers - EASY"
   ]
  },
  {
   "cell_type": "code",
   "execution_count": null,
   "metadata": {},
   "outputs": [],
   "source": [
    "import pandas as pd\n",
    "\n",
    "data = [[6, 1, 549], [8, 1, 834], [4, 2, 394], [11, 3, 657], [13, 3, 257]]\n",
    "Store = pd.DataFrame(data, columns=['bill_id', 'customer_id', 'amount']).astype({'bill_id':'int64', 'customer_id':'int64', 'amount':'int64'})\n",
    "\n",
    "def count_rich_customers(store: pd.DataFrame) -> pd.DataFrame:\n",
    "    store = store.groupby(\"customer_id\").max()\n",
    "    store = store[store[\"amount\"] > 500]\n",
    "    result = pd.DataFrame(store.count(), columns=[\"rich_count\"])\n",
    "    return result[:1]\n",
    "\n",
    "count_rich_customers(Store)"
   ]
  },
  {
   "cell_type": "markdown",
   "metadata": {},
   "source": [
    "# 1873. Calculate Special Bonus - EASY"
   ]
  },
  {
   "cell_type": "code",
   "execution_count": null,
   "metadata": {},
   "outputs": [],
   "source": [
    "import pandas as pd\n",
    "\n",
    "data = [[2, 'Meir', 3000], [3, 'Michael', 3800], [7, 'Addilyn', 7400], [8, 'Juan', 6100], [9, 'Kannon', 7700]]\n",
    "Employees = pd.DataFrame(data, columns=['employee_id', 'name', 'salary']).astype({'employee_id':'int64', 'name':'object', 'salary':'int64'})\n",
    "\n",
    "def calculate_special_bonus(employees: pd.DataFrame) -> pd.DataFrame:\n",
    "    # Get employees where the salary should be kept\n",
    "    result = employees[~employees[\"name\"].str.contains(\"M\") & employees[\"employee_id\"] % 2 != 0]\n",
    "    employees[\"salary\"] = 0\n",
    "    employees.loc[result.index, \"salary\"] = result[\"salary\"]\n",
    "    employees.rename(columns={\"salary\":\"bonus\"}, inplace=True)\n",
    "    return employees.drop(columns=\"name\").sort_values(\"employee_id\")\n",
    "\n",
    "calculate_special_bonus(Employees)"
   ]
  },
  {
   "cell_type": "markdown",
   "metadata": {},
   "source": [
    "# 1795. Rearrange Products Table - EASY"
   ]
  },
  {
   "cell_type": "code",
   "execution_count": null,
   "metadata": {},
   "outputs": [],
   "source": [
    "import pandas as pd\n",
    "\n",
    "data = [['0', 'Y', 'N'], ['1', 'Y', 'Y'], ['2', 'N', 'Y'], ['3', 'Y', 'Y'], ['4', 'N', 'N']]\n",
    "Products = pd.DataFrame(data, columns=['product_id', 'low_fats', 'recyclable']).astype({'product_id':'int64', 'low_fats':'category', 'recyclable':'category'})\n",
    "\n",
    "def find_products(products: pd.DataFrame) -> pd.DataFrame:\n",
    "    products = products[products[\"low_fats\"].str.contains(\"Y\")& products[\"recyclable\"].str.contains(\"Y\")]\n",
    "    return products.drop(columns=[\"low_fats\", \"recyclable\"])\n",
    "\n",
    "find_products(Products)"
   ]
  },
  {
   "cell_type": "markdown",
   "metadata": {},
   "source": [
    "# 37. Sudoku Solver - HARD"
   ]
  },
  {
   "cell_type": "code",
   "execution_count": 9,
   "metadata": {},
   "outputs": [
    {
     "data": {
      "text/plain": [
       "[['5', '3', '4', '6', '7', '8', '9', '1', '2'],\n",
       " ['6', '7', '2', '1', '9', '5', '3', '4', '8'],\n",
       " ['1', '9', '8', '3', '4', '2', '5', '6', '7'],\n",
       " ['8', '5', '9', '7', '6', '1', '4', '2', '3'],\n",
       " ['4', '2', '6', '8', '5', '3', '7', '9', '1'],\n",
       " ['7', '1', '3', '9', '2', '4', '8', '5', '6'],\n",
       " ['9', '6', '1', '5', '3', '7', '2', '8', '4'],\n",
       " ['2', '8', '7', '4', '1', '9', '6', '3', '5'],\n",
       " ['3', '4', '5', '2', '8', '6', '1', '7', '9']]"
      ]
     },
     "execution_count": 9,
     "metadata": {},
     "output_type": "execute_result"
    }
   ],
   "source": [
    "def solveSudoku(board):\n",
    "    x = 0\n",
    "    y = 0\n",
    "    def checkWhichNumber(clist):\n",
    "        clist = sorted(clist)\n",
    "        for i in range(1,9):\n",
    "            if clist[i-1] != str(i):\n",
    "                    return str(i)  \n",
    "        return str(9)         \n",
    "    def checkSquare(x, y ,board):\n",
    "        copyx = x\n",
    "        copyy = y\n",
    "        current = []\n",
    "        if copyx % 3 != 0:\n",
    "            copyx = copyx - (copyx % 3)\n",
    "        if copyy % 3 != 0:\n",
    "            copyy = copyy - (copyy % 3)\n",
    "        for i in range(copyx, copyx+3):\n",
    "                for j in range(copyy, copyy+3):\n",
    "                    if board[i][j] != \".\" and (i != x or j != y):\n",
    "                        current.append(board[i][j])\n",
    "        return current\n",
    "    def checkIfDone(board):\n",
    "        for i in range(len(board)):\n",
    "            if \".\" in board[i]:\n",
    "                return False\n",
    "        return True\n",
    "    # Has to return the elements that were found in the square\n",
    "    while(checkIfDone(board)==False):\n",
    "        currentlist = []\n",
    "        # Check square\n",
    "        square = checkSquare(x, y, board)\n",
    "        # Append the square objects to the current elem list\n",
    "        for i in square:\n",
    "            currentlist.append(i)\n",
    "        # Get the horizontal and vertical elements in the list\n",
    "        for i in range(0,9):\n",
    "            if i != x:\n",
    "                if(board[i][y] != \".\" and board[i][y] not in currentlist and board[i][y]):\n",
    "                    currentlist.append(str(board[i][y]))\n",
    "            if i != y:\n",
    "                if(board[x][i] != \".\" and board[x][i] not in currentlist and board[x][i]):\n",
    "                    currentlist.append(str(board[x][i]))\n",
    "        if len(currentlist) == 8:\n",
    "            check = checkWhichNumber(currentlist)\n",
    "            board[x][y] = check\n",
    "        if x != 8:\n",
    "            x += 1\n",
    "        elif x == 8 and y == 8:\n",
    "            x = 0\n",
    "            y = 0\n",
    "        else:\n",
    "            x = 0\n",
    "            y += 1\n",
    "    return board\n",
    "\n",
    "        \n",
    "solveSudoku([[\"5\",\"3\",\".\",\".\",\"7\",\".\",\".\",\".\",\".\"],[\"6\",\".\",\".\",\"1\",\"9\",\"5\",\".\",\".\",\".\"],[\".\",\"9\",\"8\",\".\",\".\",\".\",\".\",\"6\",\".\"],[\"8\",\".\",\".\",\".\",\"6\",\".\",\".\",\".\",\"3\"],[\"4\",\".\",\".\",\"8\",\".\",\"3\",\".\",\".\",\"1\"],[\"7\",\".\",\".\",\".\",\"2\",\".\",\".\",\".\",\"6\"],[\".\",\"6\",\".\",\".\",\".\",\".\",\"2\",\"8\",\".\"],[\".\",\".\",\".\",\"4\",\"1\",\"9\",\".\",\".\",\"5\"],[\".\",\".\",\".\",\".\",\"8\",\".\",\".\",\"7\",\"9\"]])"
   ]
  },
  {
   "cell_type": "code",
   "execution_count": 11,
   "metadata": {},
   "outputs": [
    {
     "data": {
      "text/plain": [
       "[['5', '3', '4', '6', '7', '8', '9', '1', '2'],\n",
       " ['6', '7', '2', '1', '9', '5', '3', '4', '8'],\n",
       " ['1', '9', '8', '3', '4', '2', '5', '6', '7'],\n",
       " ['8', '5', '9', '7', '6', '1', '4', '2', '3'],\n",
       " ['4', '2', '6', '8', '5', '3', '7', '9', '1'],\n",
       " ['7', '1', '3', '9', '2', '4', '8', '5', '6'],\n",
       " ['9', '6', '1', '5', '3', '7', '2', '8', '4'],\n",
       " ['2', '8', '7', '4', '1', '9', '6', '3', '5'],\n",
       " ['3', '4', '5', '2', '8', '6', '1', '7', '9']]"
      ]
     },
     "execution_count": 11,
     "metadata": {},
     "output_type": "execute_result"
    }
   ],
   "source": [
    "# With backtracking\n",
    "\n",
    "def solveSudoku(board):\n",
    "    def checkValid(num, row, col):\n",
    "        num = str(num)\n",
    "        for i in range(9):\n",
    "            # Check for vertical and horizontal\n",
    "            if board[row][i] == num or board[i][col] == num:\n",
    "                return False\n",
    "        start_row, start_col = 3 * (row // 3), 3 * (col // 3)\n",
    "        for i in range(start_row, start_row + 3):\n",
    "            # Check for the Grid\n",
    "            for j in range(start_col, start_col + 3):\n",
    "                if board[i][j] == num:\n",
    "                    return False\n",
    "        return True\n",
    "    \n",
    "    def backtrack():\n",
    "        for row in range(9):\n",
    "            for col in range(9):\n",
    "                if board[row][col] == \".\":\n",
    "                    for num in range(1, 10):\n",
    "                        if checkValid(num, row, col):\n",
    "                            board[row][col] = str(num)\n",
    "                            if backtrack():\n",
    "                                return True\n",
    "                            board[row][col] = \".\"\n",
    "                    return False\n",
    "        return True\n",
    "    \n",
    "    backtrack()\n",
    "    return board\n",
    "\n",
    "# Beispiel Sudoku\n",
    "sudoku = [\n",
    "    [\"5\",\"3\",\".\",\".\",\"7\",\".\",\".\",\".\",\".\"],\n",
    "    [\"6\",\".\",\".\",\"1\",\"9\",\"5\",\".\",\".\",\".\"],\n",
    "    [\".\",\"9\",\"8\",\".\",\".\",\".\",\".\",\"6\",\".\"],\n",
    "    [\"8\",\".\",\".\",\".\",\"6\",\".\",\".\",\".\",\"3\"],\n",
    "    [\"4\",\".\",\".\",\"8\",\".\",\"3\",\".\",\".\",\"1\"],\n",
    "    [\"7\",\".\",\".\",\".\",\"2\",\".\",\".\",\".\",\"6\"],\n",
    "    [\".\",\"6\",\".\",\".\",\".\",\".\",\"2\",\"8\",\".\"],\n",
    "    [\".\",\".\",\".\",\"4\",\"1\",\"9\",\".\",\".\",\"5\"],\n",
    "    [\".\",\".\",\".\",\".\",\"8\",\".\",\".\",\"7\",\"9\"]\n",
    "]\n",
    "\n",
    "solveSudoku(sudoku)\n",
    "\n"
   ]
  },
  {
   "cell_type": "code",
   "execution_count": null,
   "metadata": {},
   "outputs": [],
   "source": [
    "def checkSquare(x, y ,board):\n",
    "    copyx = x\n",
    "    copyy = y\n",
    "    current = []\n",
    "    if copyx % 3 != 0:\n",
    "        copyx = copyx - (copyx % 3)\n",
    "    if copyy % 3 != 0:\n",
    "        copyy = copyy - (copyy % 3)\n",
    "    for i in range(copyx, copyx+3):\n",
    "            for j in range(copyy, copyy+3):\n",
    "                if board[i][j] != \".\" and (i != x or j != y):\n",
    "                    current.append(board[i][j])\n",
    "    return current\n",
    "    \n",
    "checkSquare(1, 3,[[\"5\",\"3\",\".\",\".\",\"7\",\".\",\".\",\".\",\".\"],[\"6\",\".\",\".\",\"1\",\"9\",\"5\",\".\",\".\",\".\"],[\".\",\"9\",\"8\",\".\",\".\",\".\",\".\",\"6\",\".\"],[\"8\",\".\",\".\",\".\",\"6\",\".\",\".\",\".\",\"3\"],[\"4\",\".\",\".\",\"8\",\".\",\"3\",\".\",\".\",\"1\"],[\"7\",\".\",\".\",\".\",\"2\",\".\",\".\",\".\",\"6\"],[\".\",\"6\",\".\",\".\",\".\",\".\",\"2\",\"8\",\".\"],[\".\",\".\",\".\",\"4\",\"1\",\"9\",\".\",\".\",\"5\"],[\".\",\".\",\".\",\".\",\"8\",\".\",\".\",\"7\",\"9\"]])"
   ]
  },
  {
   "cell_type": "markdown",
   "metadata": {},
   "source": [
    "# 2133. Check if Every Row and Column Contains All Numbers - EASY"
   ]
  },
  {
   "cell_type": "code",
   "execution_count": 17,
   "metadata": {},
   "outputs": [
    {
     "data": {
      "text/plain": [
       "True"
      ]
     },
     "execution_count": 17,
     "metadata": {},
     "output_type": "execute_result"
    }
   ],
   "source": [
    "\n",
    "def checkValid(matrix):\n",
    "    x = 0\n",
    "    y = 0\n",
    "    transposed_matrix = list(map(list, zip(*matrix)))\n",
    "    while x != len(matrix):\n",
    "        if len(matrix[x]) != len(set(matrix[x])):\n",
    "            return False\n",
    "        if len(transposed_matrix[x]) != len(set(transposed_matrix[x])):\n",
    "            return False\n",
    "        x += 1\n",
    "        y += 1\n",
    "    return True\n",
    "\n",
    "checkValid([[1,2,3],[3,1,2],[2,3,1]])"
   ]
  },
  {
   "cell_type": "markdown",
   "metadata": {},
   "source": [
    "# 2150. Find All Lonely Numbers in the Array - MEDIUM"
   ]
  },
  {
   "cell_type": "code",
   "execution_count": 40,
   "metadata": {},
   "outputs": [
    {
     "name": "stdout",
     "output_type": "stream",
     "text": [
      "{10: 1, 6: 1, 5: 1, 8: 1}\n"
     ]
    },
    {
     "data": {
      "text/plain": [
       "[10, 8]"
      ]
     },
     "execution_count": 40,
     "metadata": {},
     "output_type": "execute_result"
    }
   ],
   "source": [
    "def findLonely(nums):\n",
    "    dict = {}\n",
    "    numbers = []\n",
    "    for index, value in enumerate(nums):\n",
    "        if value in dict:\n",
    "            dict[value] += 1\n",
    "        else:\n",
    "            dict[value] = 1\n",
    "    print(dict)\n",
    "    for index, (key, value) in enumerate(dict.items()):\n",
    "        if dict.get(key+1, 0) == 0 and dict.get(key-1, 0) == 0 and value == 1:\n",
    "            numbers.append(key)\n",
    "\n",
    "    return numbers\n",
    "\n",
    "findLonely([10,6,5,8])"
   ]
  },
  {
   "cell_type": "markdown",
   "metadata": {},
   "source": [
    "# 389. Find the Difference - EASY"
   ]
  },
  {
   "cell_type": "code",
   "execution_count": 49,
   "metadata": {},
   "outputs": [
    {
     "name": "stdout",
     "output_type": "stream",
     "text": [
      "['a', 'a', 'a', 'a', 'a', 'a', 'a', 'a', 'a', 'a', 'a', 'a', 'b', 'b', 'b', 'b', 'b', 'b', 'b', 'b', 'b', 'b', 'b', 'b', 'b', 'c', 'c', 'c', 'c', 'c', 'c', 'c', 'c', 'c', 'c', 'c', 'c', 'c', 'd', 'd', 'd', 'd', 'd', 'd', 'd', 'd', 'd', 'd', 'd', 'd', 'd', 'd', 'd', 'd', 'd', 'e', 'e', 'e', 'e', 'e', 'e', 'f', 'f', 'f', 'f', 'f', 'f', 'f', 'f', 'f', 'f', 'f', 'f', 'g', 'g', 'g', 'g', 'g', 'g', 'g', 'g', 'g', 'g', 'g', 'g', 'h', 'h', 'h', 'h', 'h', 'h', 'h', 'h', 'h', 'h', 'h', 'h', 'i', 'i', 'i', 'i', 'i', 'i', 'i', 'i', 'i', 'i', 'i', 'i', 'i', 'i', 'i', 'i', 'i', 'j', 'j', 'j', 'j', 'j', 'j', 'j', 'j', 'j', 'j', 'k', 'k', 'k', 'k', 'k', 'k', 'k', 'k', 'k', 'k', 'l', 'l', 'l', 'l', 'l', 'l', 'l', 'l', 'l', 'l', 'm', 'm', 'm', 'm', 'm', 'm', 'm', 'm', 'm', 'm', 'm', 'm', 'm', 'm', 'm', 'm', 'm', 'm', 'n', 'n', 'n', 'n', 'n', 'n', 'n', 'n', 'n', 'n', 'n', 'n', 'o', 'o', 'o', 'o', 'o', 'o', 'o', 'o', 'o', 'o', 'o', 'o', 'o', 'p', 'p', 'p', 'p', 'p', 'p', 'p', 'p', 'p', 'p', 'p', 'p', 'p', 'p', 'p', 'p', 'p', 'q', 'q', 'q', 'q', 'q', 'q', 'q', 'q', 'q', 'r', 'r', 'r', 'r', 'r', 'r', 'r', 'r', 's', 's', 's', 's', 's', 's', 's', 's', 's', 's', 's', 's', 's', 's', 't', 't', 't', 't', 't', 't', 't', 't', 't', 't', 't', 't', 't', 't', 't', 't', 't', 't', 't', 't', 't', 't', 'u', 'u', 'u', 'u', 'u', 'u', 'u', 'u', 'u', 'v', 'v', 'v', 'v', 'v', 'v', 'v', 'v', 'v', 'v', 'v', 'v', 'v', 'w', 'w', 'w', 'w', 'w', 'w', 'w', 'w', 'w', 'w', 'w', 'w', 'w', 'w', 'w', 'w', 'w', 'x', 'x', 'x', 'x', 'x', 'x', 'x', 'x', 'x', 'x', 'x', 'x', 'y', 'y', 'y', 'y', 'y', 'y', 'y', 'y', 'y', 'y', 'y', 'y', 'y', 'y', 'y', 'y', 'z', 'z', 'z', 'z', 'z', 'z', 'z', 'z', 'z']\n",
      "['a', 'a', 'a', 'a', 'a', 'a', 'a', 'a', 'a', 'a', 'a', 'a', 'b', 'b', 'b', 'b', 'b', 'b', 'b', 'b', 'b', 'b', 'b', 'b', 'b', 'c', 'c', 'c', 'c', 'c', 'c', 'c', 'c', 'c', 'c', 'c', 'c', 'c', 'd', 'd', 'd', 'd', 'd', 'd', 'd', 'd', 'd', 'd', 'd', 'd', 'd', 'd', 'd', 'd', 'd', 'e', 'e', 'e', 'e', 'e', 'e', 'f', 'f', 'f', 'f', 'f', 'f', 'f', 'f', 'f', 'f', 'f', 'f', 'g', 'g', 'g', 'g', 'g', 'g', 'g', 'g', 'g', 'g', 'g', 'g', 'h', 'h', 'h', 'h', 'h', 'h', 'h', 'h', 'h', 'h', 'h', 'h', 'i', 'i', 'i', 'i', 'i', 'i', 'i', 'i', 'i', 'i', 'i', 'i', 'i', 'i', 'i', 'i', 'i', 'j', 'j', 'j', 'j', 'j', 'j', 'j', 'j', 'j', 'j', 'k', 'k', 'k', 'k', 'k', 'k', 'k', 'k', 'k', 'k', 'l', 'l', 'l', 'l', 'l', 'l', 'l', 'l', 'l', 'l', 'm', 'm', 'm', 'm', 'm', 'm', 'm', 'm', 'm', 'm', 'm', 'm', 'm', 'm', 'm', 'm', 'm', 'm', 'n', 'n', 'n', 'n', 'n', 'n', 'n', 'n', 'n', 'n', 'n', 'n', 'o', 'o', 'o', 'o', 'o', 'o', 'o', 'o', 'o', 'o', 'o', 'o', 'o', 'p', 'p', 'p', 'p', 'p', 'p', 'p', 'p', 'p', 'p', 'p', 'p', 'p', 'p', 'p', 'p', 'p', 'q', 'q', 'q', 'q', 'q', 'q', 'q', 'q', 'q', 'r', 'r', 'r', 'r', 'r', 'r', 'r', 'r', 's', 's', 's', 's', 's', 's', 's', 's', 's', 's', 's', 's', 's', 's', 't', 't', 't', 't', 't', 't', 't', 't', 't', 't', 't', 't', 't', 't', 't', 't', 't', 't', 't', 't', 't', 't', 'u', 'u', 'u', 'u', 'u', 'u', 'u', 'u', 'u', 'v', 'v', 'v', 'v', 'v', 'v', 'v', 'v', 'v', 'v', 'v', 'v', 'v', 'w', 'w', 'w', 'w', 'w', 'w', 'w', 'w', 'w', 'w', 'w', 'w', 'w', 'w', 'w', 'w', 'w', 'x', 'x', 'x', 'x', 'x', 'x', 'x', 'x', 'x', 'x', 'x', 'x', 'y', 'y', 'y', 'y', 'y', 'y', 'y', 'y', 'y', 'y', 'y', 'y', 'y', 'y', 'y', 'y', 'z', 'z', 'z', 'z', 'z', 'z', 'z', 'z', 'z', 'z']\n"
     ]
    },
    {
     "data": {
      "text/plain": [
       "'z'"
      ]
     },
     "execution_count": 49,
     "metadata": {},
     "output_type": "execute_result"
    }
   ],
   "source": [
    "\n",
    "def findTheDifference(s, t):\n",
    "    sorteds = sorted(s)\n",
    "    print(sorteds)\n",
    "    sortedt = sorted(t)\n",
    "    print(sortedt)\n",
    "    for i in range(len(t)-1):\n",
    "        if sortedt[i] != sorteds[i]:\n",
    "            return sortedt[i]\n",
    "    return sortedt[-1:][0]\n",
    "\n",
    "findTheDifference(\"ihwrdisrhgxwbfevrxbtzgsywhnzleueadikniwyuasflpsviobwvsmydmyzppqjlmzakpbnouyttdigkcdzypvcqxbttmblttehgjlnpjwpzoprntifysfatjboasottnkpyyvmdcafpjicfpgmbwqdsaxdmmdmupnwhkpxixpdwmczntqtushemvavofszomtsrafzmxctpidjadwcwggdbyliqmcvuwscryfsvlvfrhfphmxvcnytbctomicwdwjjmdhmcqtnlqgixxdyjydhwnftkobotbhsgykawhtvnkxoykwkgvtqioqoiilergxlpuujabiug\", \"gyptmtjntxlusjhbzkbgowslthwtytdnflsyfsgfytzrodatykdyvgsmvxsuemijitvodmwrrqmcabhwzyoouorfckhisjpduoxvtmttzvwmicdxsovsabmpcpppzycuwbmpihmxadmvkkwerimhgwdwdtvqwbwtetppkpkbcaifuqbenagycdqatklciaczcpglxmvfaqnwpnssdmnhcmifeyndzttvypwlgpttvhswoiijybchbvzklgngqziyaczowgwiufqyhxxdqjrxolddgnmriijopdsikqwtyhplhubrljfjanexxyfvjmudxsomnfbafntpib\")"
   ]
  },
  {
   "cell_type": "markdown",
   "metadata": {},
   "source": [
    "# 169. Majority Element - EASY"
   ]
  },
  {
   "cell_type": "code",
   "execution_count": 63,
   "metadata": {},
   "outputs": [
    {
     "data": {
      "text/plain": [
       "3"
      ]
     },
     "execution_count": 63,
     "metadata": {},
     "output_type": "execute_result"
    }
   ],
   "source": [
    "def majorityElement(nums):\n",
    "    dic = {}\n",
    "    for i in nums:\n",
    "        if i not in dic:\n",
    "            dic[i] = 1\n",
    "        else:\n",
    "            dic[i] += 1\n",
    "    return max(dic, key=dic.get)\n",
    "\n",
    "majorityElement([3,3,4])"
   ]
  },
  {
   "cell_type": "markdown",
   "metadata": {},
   "source": [
    "# 229. Majority Element II - MEDIUM"
   ]
  },
  {
   "cell_type": "code",
   "execution_count": 68,
   "metadata": {},
   "outputs": [
    {
     "data": {
      "text/plain": [
       "[1, 2]"
      ]
     },
     "execution_count": 68,
     "metadata": {},
     "output_type": "execute_result"
    }
   ],
   "source": [
    "def majorityElement(nums):\n",
    "    lnum = len(nums)\n",
    "    listofelem = []\n",
    "    divider = lnum // 3\n",
    "    dic = {}\n",
    "    for i in nums:\n",
    "        if i not in dic:\n",
    "            dic[i] = 1\n",
    "        else:\n",
    "            dic[i] += 1\n",
    "    for index, (key, value) in enumerate(dic.items()):\n",
    "        if value > divider:\n",
    "            listofelem.append(key)\n",
    "    return listofelem\n",
    "\n",
    "majorityElement([1,2])"
   ]
  },
  {
   "cell_type": "markdown",
   "metadata": {},
   "source": [
    "# 2404. Most Frequent Even Element - EASY"
   ]
  },
  {
   "cell_type": "code",
   "execution_count": 78,
   "metadata": {},
   "outputs": [
    {
     "data": {
      "text/plain": [
       "-1"
      ]
     },
     "execution_count": 78,
     "metadata": {},
     "output_type": "execute_result"
    }
   ],
   "source": [
    "def mostFrequentEven(nums):\n",
    "    dic = {}\n",
    "    candidate = []\n",
    "    for i in nums:\n",
    "        if i % 2 == 0:\n",
    "            if i not in dic:\n",
    "                dic[i] = 1\n",
    "            else:\n",
    "                dic[i] += 1\n",
    "    if dic == {}:\n",
    "        return -1\n",
    "    else:\n",
    "        max_val = max(dic.values())\n",
    "        for index, (key, value) in enumerate(dic.items()):\n",
    "            if value == max_val:\n",
    "                candidate.append(key)\n",
    "        return min(candidate)\n",
    "\n",
    "mostFrequentEven([3, 1])"
   ]
  },
  {
   "cell_type": "markdown",
   "metadata": {},
   "source": [
    "# 41. First Missing Positive - HARD"
   ]
  },
  {
   "cell_type": "code",
   "execution_count": 105,
   "metadata": {},
   "outputs": [
    {
     "data": {
      "text/plain": [
       "6"
      ]
     },
     "execution_count": 105,
     "metadata": {},
     "output_type": "execute_result"
    }
   ],
   "source": [
    "def firstMissingPositive(nums):\n",
    "    setted = set(nums)\n",
    "    lennums = len(nums)\n",
    "    for i in range(1, lennums):\n",
    "        if i not in setted:\n",
    "            return i\n",
    "        if i == lennums-1:\n",
    "            return i+1\n",
    "    return 1\n",
    "\n",
    "firstMissingPositive([1,2,6,3,5,4])"
   ]
  },
  {
   "cell_type": "code",
   "execution_count": 104,
   "metadata": {},
   "outputs": [],
   "source": [
    "def firstMissingPositive(self, nums):\n",
    "    setted = set(nums)\n",
    "    i = 1\n",
    "    while i in setted:\n",
    "        i += 1\n",
    "    return i"
   ]
  },
  {
   "cell_type": "markdown",
   "metadata": {},
   "source": [
    "# 347. Top K Frequent Elements - MEDIUM"
   ]
  },
  {
   "cell_type": "code",
   "execution_count": 13,
   "metadata": {},
   "outputs": [
    {
     "data": {
      "text/plain": [
       "[-1, 2]"
      ]
     },
     "execution_count": 13,
     "metadata": {},
     "output_type": "execute_result"
    }
   ],
   "source": [
    "def topKFrequent(nums, k):\n",
    "    dic = {}\n",
    "    for i in nums:\n",
    "        if i not in dic:\n",
    "            dic[i] = 1\n",
    "        else:\n",
    "            dic[i] += 1\n",
    "    sorted_dict = sorted(dic.items(), key=lambda item: item[1], reverse=True)\n",
    "    result = [key for key, value in sorted_dict[:k]]\n",
    "    return result\n",
    "topKFrequent([4,1,-1,2,-1,2,3], 2)"
   ]
  },
  {
   "cell_type": "markdown",
   "metadata": {},
   "source": [
    "# 2215. Find the Difference of Two Arrays - EASY"
   ]
  },
  {
   "cell_type": "code",
   "execution_count": null,
   "metadata": {},
   "outputs": [],
   "source": [
    "def findDifference(nums1, nums2):\n",
    "    newarr1 = []\n",
    "    newarr2 = []\n",
    "    for i in nums1:\n",
    "        if i not in nums2:\n",
    "            newarr1.append(i)\n",
    "    for j in nums2:\n",
    "        if j not in nums1:\n",
    "            newarr2.append(j)\n",
    "    return [set(newarr1), set(newarr2)]"
   ]
  },
  {
   "cell_type": "markdown",
   "metadata": {},
   "source": [
    "# 2248. Intersection of Multiple Arrays - EASY"
   ]
  },
  {
   "cell_type": "code",
   "execution_count": null,
   "metadata": {},
   "outputs": [],
   "source": [
    "def intersection(nums):\n",
    "    output = []\n",
    "    for i in nums[0]:\n",
    "        dontplace = False\n",
    "        for j in nums:\n",
    "            if i not in j:\n",
    "                dontplace = True\n",
    "        if dontplace == False:\n",
    "            output.append(i)\n",
    "        dontplace = False\n",
    "    return sorted(output)"
   ]
  },
  {
   "cell_type": "markdown",
   "metadata": {},
   "source": [
    "# 2089. Find Target Indices After Sorting Array - EASY"
   ]
  },
  {
   "cell_type": "code",
   "execution_count": 14,
   "metadata": {},
   "outputs": [],
   "source": [
    "def targetIndices(nums, target):\n",
    "    s = sorted(nums)\n",
    "    valueold = 0\n",
    "    indexes = []\n",
    "    for index, value in enumerate(s):\n",
    "        if value == target and valueold == 0:\n",
    "            indexes.append(index)\n",
    "            valueold = value\n",
    "        elif valueold != value and valueold != 0:\n",
    "            return indexes\n",
    "        elif valueold == value and valueold != 0:\n",
    "            indexes.append(index)\n",
    "    return indexes"
   ]
  },
  {
   "cell_type": "markdown",
   "metadata": {},
   "source": [
    "# 34. Find First and Last Position of Element in Sorted Array - MEDIUM"
   ]
  },
  {
   "cell_type": "code",
   "execution_count": 17,
   "metadata": {},
   "outputs": [
    {
     "data": {
      "text/plain": [
       "[3, 4]"
      ]
     },
     "execution_count": 17,
     "metadata": {},
     "output_type": "execute_result"
    }
   ],
   "source": [
    "def searchRange(nums, target):\n",
    "    indexes = []\n",
    "    if target not in nums:\n",
    "            return [-1, -1]\n",
    "    startindex = nums.index(target)\n",
    "    indexes.append(startindex)\n",
    "    while startindex != len(nums):\n",
    "        if nums[startindex] != target:\n",
    "            indexes.append(startindex - 1)\n",
    "            return indexes\n",
    "        startindex += 1\n",
    "    indexes.append(startindex-1)\n",
    "    return indexes\n",
    "\n",
    "searchRange([5,7,7,8,8,10], 8)"
   ]
  },
  {
   "cell_type": "markdown",
   "metadata": {},
   "source": [
    "# 961. N-Repeated Element in Size 2N Array\n"
   ]
  },
  {
   "cell_type": "code",
   "execution_count": 10,
   "metadata": {},
   "outputs": [
    {
     "data": {
      "text/plain": [
       "2"
      ]
     },
     "execution_count": 10,
     "metadata": {},
     "output_type": "execute_result"
    }
   ],
   "source": [
    "import math\n",
    "def repeatedNTimes(nums):\n",
    "    dic = {}\n",
    "    ner = int(math.log(len(nums)) / math.log(2))\n",
    "    for i in nums:\n",
    "        if i not in dic:\n",
    "            dic[i] = 1\n",
    "        elif i in dic:\n",
    "            if dic[i] + 1 == ner:\n",
    "                return i\n",
    "            dic[i] += 1\n",
    "\n",
    "repeatedNTimes([2,1,2,5,3,2])"
   ]
  },
  {
   "cell_type": "markdown",
   "metadata": {},
   "source": [
    "# 451. Sort Characters By Frequency - MEDIUM"
   ]
  },
  {
   "cell_type": "code",
   "execution_count": 31,
   "metadata": {},
   "outputs": [
    {
     "data": {
      "text/plain": [
       "'eetr'"
      ]
     },
     "execution_count": 31,
     "metadata": {},
     "output_type": "execute_result"
    }
   ],
   "source": [
    "def frequencySort(s):\n",
    "    output = \"\"\n",
    "    charst = {}\n",
    "    for i in s:\n",
    "        if i not in charst:\n",
    "            charst[i] = 1\n",
    "        else:\n",
    "            charst[i] += 1\n",
    "    sorteddict = dict(sorted(charst.items(), key=lambda item:item[1], reverse=True))\n",
    "    for index, (key, value) in enumerate(sorteddict.items()):\n",
    "        for i in range(value):\n",
    "            output += key\n",
    "    return output\n",
    "\n",
    "frequencySort(\"tree\")"
   ]
  },
  {
   "cell_type": "markdown",
   "metadata": {},
   "source": [
    "# 1636. Sort Array by Increasing Frequency - EASY"
   ]
  },
  {
   "cell_type": "code",
   "execution_count": 46,
   "metadata": {},
   "outputs": [
    {
     "name": "stdout",
     "output_type": "stream",
     "text": [
      "{3: 1, 1: 2, 2: 3}\n"
     ]
    },
    {
     "data": {
      "text/plain": [
       "[3, 1, 1, 2, 2, 2]"
      ]
     },
     "execution_count": 46,
     "metadata": {},
     "output_type": "execute_result"
    }
   ],
   "source": [
    "def frequencySort(nums):\n",
    "    nums = sorted(nums)[::-1]\n",
    "    dic = {}\n",
    "    output = []\n",
    "    for i in nums:\n",
    "        if i not in dic:\n",
    "            dic[i] = 1\n",
    "        else:\n",
    "            dic[i] += 1\n",
    "    sorteddic = dict(sorted(dic.items(), key=lambda item:item[1]))\n",
    "    print(sorteddic)\n",
    "    for index, (key, value) in enumerate(sorteddic.items()):\n",
    "        for i in range(value):\n",
    "            output.append(key)\n",
    "    return output\n",
    "\n",
    "frequencySort([1,1,2,2,2,3])"
   ]
  }
 ],
 "metadata": {
  "kernelspec": {
   "display_name": "Python 3",
   "language": "python",
   "name": "python3"
  },
  "language_info": {
   "codemirror_mode": {
    "name": "ipython",
    "version": 3
   },
   "file_extension": ".py",
   "mimetype": "text/x-python",
   "name": "python",
   "nbconvert_exporter": "python",
   "pygments_lexer": "ipython3",
   "version": "3.11.2"
  },
  "orig_nbformat": 4
 },
 "nbformat": 4,
 "nbformat_minor": 2
}
