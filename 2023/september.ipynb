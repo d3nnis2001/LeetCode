{
 "cells": [
  {
   "cell_type": "markdown",
   "metadata": {},
   "source": [
    "# 1833. Maximum Ice Cream Bars - MEDIUM"
   ]
  },
  {
   "cell_type": "code",
   "execution_count": null,
   "metadata": {},
   "outputs": [],
   "source": [
    "def maxIceCream(costs, coins):\n",
    "    sortcost = sorted(costs)\n",
    "    sumer = 0\n",
    "    index = 0\n",
    "    while coins >= 0:\n",
    "        if index > len(costs)-1:\n",
    "            return sumer\n",
    "        elif sortcost[index] <= coins:\n",
    "            coins = coins - sortcost[index]\n",
    "            sumer += 1\n",
    "        else:\n",
    "            return sumer\n",
    "        index += 1\n",
    "    return sumer\n",
    "\n"
   ]
  },
  {
   "cell_type": "markdown",
   "metadata": {},
   "source": [
    "# 2545. Sort the Students by Their Kth Score - MEDIUM"
   ]
  },
  {
   "cell_type": "code",
   "execution_count": 3,
   "metadata": {},
   "outputs": [
    {
     "data": {
      "text/plain": [
       "[[7, 5, 11, 2], [10, 6, 9, 1], [4, 8, 3, 15]]"
      ]
     },
     "execution_count": 3,
     "metadata": {},
     "output_type": "execute_result"
    }
   ],
   "source": [
    "def sortTheStudents(score, k):\n",
    "    dic = {}\n",
    "    output = []\n",
    "    for index, i in enumerate(score):\n",
    "        dic[index] = i[k]\n",
    "    dic = dict(sorted(dic.items(), key=lambda item:item[1], reverse=True))\n",
    "    for index, (key, value) in enumerate(dic.items()):\n",
    "        output.append(score[key])\n",
    "    return output\n",
    "sortTheStudents([[10,6,9,1],[7,5,11,2],[4,8,3,15]], 2)"
   ]
  }
 ],
 "metadata": {
  "kernelspec": {
   "display_name": "Python 3",
   "language": "python",
   "name": "python3"
  },
  "language_info": {
   "codemirror_mode": {
    "name": "ipython",
    "version": 3
   },
   "file_extension": ".py",
   "mimetype": "text/x-python",
   "name": "python",
   "nbconvert_exporter": "python",
   "pygments_lexer": "ipython3",
   "version": "3.11.2"
  },
  "orig_nbformat": 4
 },
 "nbformat": 4,
 "nbformat_minor": 2
}
