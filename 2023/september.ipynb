{
 "cells": [
  {
   "cell_type": "markdown",
   "metadata": {},
   "source": [
    "# 1833. Maximum Ice Cream Bars - MEDIUM"
   ]
  },
  {
   "cell_type": "code",
   "execution_count": null,
   "metadata": {},
   "outputs": [],
   "source": [
    "def maxIceCream(costs, coins):\n",
    "    sortcost = sorted(costs)\n",
    "    sumer = 0\n",
    "    index = 0\n",
    "    while coins >= 0:\n",
    "        if index > len(costs)-1:\n",
    "            return sumer\n",
    "        elif sortcost[index] <= coins:\n",
    "            coins = coins - sortcost[index]\n",
    "            sumer += 1\n",
    "        else:\n",
    "            return sumer\n",
    "        index += 1\n",
    "    return sumer\n",
    "\n"
   ]
  },
  {
   "cell_type": "markdown",
   "metadata": {},
   "source": [
    "# 2545. Sort the Students by Their Kth Score - MEDIUM"
   ]
  },
  {
   "cell_type": "code",
   "execution_count": 3,
   "metadata": {},
   "outputs": [
    {
     "data": {
      "text/plain": [
       "[[7, 5, 11, 2], [10, 6, 9, 1], [4, 8, 3, 15]]"
      ]
     },
     "execution_count": 3,
     "metadata": {},
     "output_type": "execute_result"
    }
   ],
   "source": [
    "def sortTheStudents(score, k):\n",
    "    dic = {}\n",
    "    output = []\n",
    "    for index, i in enumerate(score):\n",
    "        dic[index] = i[k]\n",
    "    dic = dict(sorted(dic.items(), key=lambda item:item[1], reverse=True))\n",
    "    for index, (key, value) in enumerate(dic.items()):\n",
    "        output.append(score[key])\n",
    "    return output\n",
    "sortTheStudents([[10,6,9,1],[7,5,11,2],[4,8,3,15]], 2)"
   ]
  },
  {
   "cell_type": "markdown",
   "metadata": {},
   "source": [
    "# 1637. Widest Vertical Area Between Two Points Containing No Points - MEDIUM"
   ]
  },
  {
   "cell_type": "code",
   "execution_count": 16,
   "metadata": {},
   "outputs": [
    {
     "data": {
      "text/plain": [
       "1"
      ]
     },
     "execution_count": 16,
     "metadata": {},
     "output_type": "execute_result"
    }
   ],
   "source": [
    "def maxWidthOfVerticalArea(points):\n",
    "    slist = sorted([s[0] for s in points])\n",
    "    maxelem = 0\n",
    "    for i in range(len(slist)-2):\n",
    "        maxelem = max(abs(slist[i+1] - slist[i]), maxelem)\n",
    "    return maxelem\n",
    "\n",
    "maxWidthOfVerticalArea([[8,7],[9,9],[7,4],[9,7]])"
   ]
  },
  {
   "cell_type": "markdown",
   "metadata": {},
   "source": [
    "# 2707. Extra Characters in a String - MEDIUM"
   ]
  },
  {
   "cell_type": "code",
   "execution_count": 24,
   "metadata": {},
   "outputs": [
    {
     "data": {
      "text/plain": [
       "True"
      ]
     },
     "execution_count": 24,
     "metadata": {},
     "output_type": "execute_result"
    }
   ],
   "source": [
    "def canBeEqual(s1, s2):\n",
    "    listofswap = []\n",
    "    listofswap.append(s1[2]+s1[1]+s1[0]+s1[3])\n",
    "    listofswap.append(s1[0]+s1[3]+s1[2]+s1[1])\n",
    "    \n",
    "    if s2[2]+s2[1]+s2[0]+s2[3] in listofswap:\n",
    "        return True\n",
    "    elif s2[0]+s2[3]+s2[2]+s2[1] in listofswap:\n",
    "        return True\n",
    "    return False\n",
    "canBeEqual(\"abcd\", \"cdab\")"
   ]
  },
  {
   "cell_type": "markdown",
   "metadata": {},
   "source": [
    "# 53. Maximum Subarray - MEDIUM "
   ]
  },
  {
   "cell_type": "code",
   "execution_count": null,
   "metadata": {},
   "outputs": [],
   "source": [
    "# Kandane algorithm\n",
    "\n",
    "def maxSubArray(nums):\n",
    "    b = nums[0]\n",
    "    summer = 0\n",
    "    for i in nums:\n",
    "        summer += i\n",
    "        b = max(b, summer)\n",
    "        if summer < 0:\n",
    "            summer = 0\n",
    "    return b\n",
    "        "
   ]
  },
  {
   "cell_type": "markdown",
   "metadata": {},
   "source": [
    "# 152. Maximum Product Subarray - MEDIUM"
   ]
  },
  {
   "cell_type": "code",
   "execution_count": 53,
   "metadata": {},
   "outputs": [
    {
     "name": "stdout",
     "output_type": "stream",
     "text": [
      "1\n",
      "-2\n",
      "-6\n"
     ]
    },
    {
     "data": {
      "text/plain": [
       "24"
      ]
     },
     "execution_count": 53,
     "metadata": {},
     "output_type": "execute_result"
    }
   ],
   "source": [
    "def maxProduct(nums):\n",
    "    negatives = False\n",
    "    if max(nums) < 0:\n",
    "        negatives = True\n",
    "    maximum = nums[0]\n",
    "    summer = 1\n",
    "    for i in nums:\n",
    "        print(summer)\n",
    "        summer *= i\n",
    "        maximum = max(maximum, summer)\n",
    "        if i == 0:\n",
    "            summer = 1\n",
    "        if negatives and summer < 0:\n",
    "            summer = 1\n",
    "    return maximum\n",
    "\n",
    "maxProduct([-2,3,-4])"
   ]
  },
  {
   "cell_type": "markdown",
   "metadata": {},
   "source": []
  },
  {
   "cell_type": "markdown",
   "metadata": {},
   "source": [
    "# 228. Summary Ranges - EASY"
   ]
  },
  {
   "cell_type": "code",
   "execution_count": 65,
   "metadata": {},
   "outputs": [
    {
     "data": {
      "text/plain": [
       "['0', '2->4', '6', '8->9']"
      ]
     },
     "execution_count": 65,
     "metadata": {},
     "output_type": "execute_result"
    }
   ],
   "source": [
    "def summaryRanges(nums):\n",
    "    output = []\n",
    "    current = \"\"\n",
    "    for i in range(len(nums)-1):\n",
    "        if nums[i] == (nums[i+1]-1) and current == \"\":\n",
    "            current = str(nums[i])\n",
    "        elif nums[i] != nums[i+1]-1 and current != \"\":\n",
    "            output.append(current + \"->\"+str(nums[i]))\n",
    "            current = \"\"\n",
    "        elif nums[i] != nums[i+1]-1 and current == \"\":\n",
    "            output.append(str(nums[i]))\n",
    "        if i == len(nums)-2:\n",
    "            if current == \"\":\n",
    "                output.append(str(nums[i+1]))\n",
    "            elif current != \"\" and nums[i] == (nums[i+1]-1):\n",
    "                output.append(current + \"->\"+str(nums[i+1]))\n",
    "    return output\n",
    "        \n",
    "summaryRanges([0,2,3,4,6,8,9])"
   ]
  },
  {
   "cell_type": "markdown",
   "metadata": {},
   "source": [
    "# 392. Is Subsequence - EASY"
   ]
  },
  {
   "cell_type": "code",
   "execution_count": 69,
   "metadata": {},
   "outputs": [
    {
     "data": {
      "text/plain": [
       "True"
      ]
     },
     "execution_count": 69,
     "metadata": {},
     "output_type": "execute_result"
    }
   ],
   "source": [
    "def isSubsequence(s, t):\n",
    "    index2 = 0\n",
    "    for i in t:\n",
    "        if s[index2] == i:\n",
    "            index2 += 1\n",
    "        if index2 == len(s):\n",
    "            return True\n",
    "    return False\n",
    "\n",
    "isSubsequence(\"ab\", \"baab\")"
   ]
  }
 ],
 "metadata": {
  "kernelspec": {
   "display_name": "Python 3",
   "language": "python",
   "name": "python3"
  },
  "language_info": {
   "codemirror_mode": {
    "name": "ipython",
    "version": 3
   },
   "file_extension": ".py",
   "mimetype": "text/x-python",
   "name": "python",
   "nbconvert_exporter": "python",
   "pygments_lexer": "ipython3",
   "version": "3.11.2"
  },
  "orig_nbformat": 4
 },
 "nbformat": 4,
 "nbformat_minor": 2
}
