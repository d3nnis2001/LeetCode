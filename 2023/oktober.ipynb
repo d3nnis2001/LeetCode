{
 "cells": [
  {
   "cell_type": "markdown",
   "metadata": {},
   "source": [
    "# 2038. Remove Colored Pieces if Both Neighbors are the Same Color - MEDIUM"
   ]
  },
  {
   "cell_type": "code",
   "execution_count": 12,
   "metadata": {},
   "outputs": [
    {
     "name": "stdout",
     "output_type": "stream",
     "text": [
      "[4, 0, 0, 0, 0]\n"
     ]
    },
    {
     "data": {
      "text/plain": [
       "False"
      ]
     },
     "execution_count": 12,
     "metadata": {},
     "output_type": "execute_result"
    }
   ],
   "source": [
    "def winnerOfGame(colors: str):\n",
    "    arra = []\n",
    "    arrb = []\n",
    "    countera = 0\n",
    "    counterb = 0\n",
    "    for i in range(len(colors)):\n",
    "        if colors[i] == \"A\":\n",
    "            countera += 1\n",
    "            arrb.append(counterb)\n",
    "            counterb = 0\n",
    "        elif colors[i] == \"B\":\n",
    "            counterb += 1\n",
    "            arra.append(countera)\n",
    "            countera = 0\n",
    "    arra.append(countera)\n",
    "    arrb.append(counterb)\n",
    "    print(arra)\n",
    "    sum1 = 0\n",
    "    for i in arra:\n",
    "        if i >= 3:\n",
    "            sum1 += i-2\n",
    "    sum2 = 0\n",
    "    for j in arrb:\n",
    "        if j >= 3:\n",
    "            sum2 += j-2 \n",
    "    return sum1 > sum2\n",
    "\n",
    "        \n",
    "winnerOfGame(\"AAAABBBB\")"
   ]
  },
  {
   "cell_type": "markdown",
   "metadata": {},
   "source": [
    "# 22. Generate Parentheses - MEDIUM"
   ]
  },
  {
   "cell_type": "code",
   "execution_count": 4,
   "metadata": {},
   "outputs": [
    {
     "data": {
      "text/plain": [
       "['((()))', '(()())', '(())()', '()(())', '()()()']"
      ]
     },
     "execution_count": 4,
     "metadata": {},
     "output_type": "execute_result"
    }
   ],
   "source": [
    "def generateParenthesis(n):\n",
    "    output = []\n",
    "    def backtrack(left, right, curr):\n",
    "        if left:\n",
    "            backtrack(left-1, right, curr+\"(\")\n",
    "        if right > left:\n",
    "            backtrack(left, right-1, curr+\")\")\n",
    "        if not right:\n",
    "            output.append(curr)\n",
    "            return\n",
    "    backtrack(n,n,\"\")\n",
    "    return output\n",
    "\n",
    "generateParenthesis(3)"
   ]
  },
  {
   "cell_type": "markdown",
   "metadata": {},
   "source": [
    "# 78. Subsets - MEDIUM"
   ]
  },
  {
   "cell_type": "code",
   "execution_count": 27,
   "metadata": {},
   "outputs": [
    {
     "data": {
      "text/plain": [
       "[[], [2], [2, 2], [1], [1, 2], [1, 2, 2]]"
      ]
     },
     "execution_count": 27,
     "metadata": {},
     "output_type": "execute_result"
    }
   ],
   "source": [
    "def subsets(nums):\n",
    "    output = []\n",
    "    def backtrack(index, current=[]):\n",
    "        if index == len(nums):\n",
    "            if current not in output:\n",
    "                output.append(current)\n",
    "            return\n",
    "        else:\n",
    "            backtrack(index+1, current)\n",
    "            backtrack(index+1, current+[nums[index]])\n",
    "    backtrack(0)\n",
    "    return output\n",
    "\n",
    "subsets([1,2,2])"
   ]
  },
  {
   "cell_type": "markdown",
   "metadata": {},
   "source": [
    "# 216. Combination Sum III - MEDIUM"
   ]
  },
  {
   "cell_type": "code",
   "execution_count": 35,
   "metadata": {},
   "outputs": [
    {
     "data": {
      "text/plain": [
       "[[1, 2, 6], [1, 3, 5], [2, 3, 4]]"
      ]
     },
     "execution_count": 35,
     "metadata": {},
     "output_type": "execute_result"
    }
   ],
   "source": [
    "def combinationSum3(k, n):\n",
    "    def backtrack(start, target, k, curr=[]):\n",
    "        output = []\n",
    "        if k == 0:\n",
    "            if target == 0:\n",
    "                return [[]]\n",
    "            else:\n",
    "                return []\n",
    "        for i in range(start, 10):\n",
    "            for j in backtrack(i+1, target-i, k-1, curr):\n",
    "                output.append([i]+j)\n",
    "        return output\n",
    "    return backtrack(1, n, k)\n",
    "\n",
    "combinationSum3(3, 9)\n"
   ]
  },
  {
   "cell_type": "code",
   "execution_count": null,
   "metadata": {},
   "outputs": [],
   "source": []
  }
 ],
 "metadata": {
  "kernelspec": {
   "display_name": "Python 3",
   "language": "python",
   "name": "python3"
  },
  "language_info": {
   "codemirror_mode": {
    "name": "ipython",
    "version": 3
   },
   "file_extension": ".py",
   "mimetype": "text/x-python",
   "name": "python",
   "nbconvert_exporter": "python",
   "pygments_lexer": "ipython3",
   "version": "3.11.2"
  },
  "orig_nbformat": 4
 },
 "nbformat": 4,
 "nbformat_minor": 2
}
