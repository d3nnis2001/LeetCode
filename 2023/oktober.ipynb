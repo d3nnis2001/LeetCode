{
 "cells": [
  {
   "cell_type": "markdown",
   "metadata": {},
   "source": [
    "# 2038. Remove Colored Pieces if Both Neighbors are the Same Color - MEDIUM"
   ]
  },
  {
   "cell_type": "code",
   "execution_count": 12,
   "metadata": {},
   "outputs": [
    {
     "name": "stdout",
     "output_type": "stream",
     "text": [
      "[4, 0, 0, 0, 0]\n"
     ]
    },
    {
     "data": {
      "text/plain": [
       "False"
      ]
     },
     "execution_count": 12,
     "metadata": {},
     "output_type": "execute_result"
    }
   ],
   "source": [
    "def winnerOfGame(colors: str):\n",
    "    arra = []\n",
    "    arrb = []\n",
    "    countera = 0\n",
    "    counterb = 0\n",
    "    for i in range(len(colors)):\n",
    "        if colors[i] == \"A\":\n",
    "            countera += 1\n",
    "            arrb.append(counterb)\n",
    "            counterb = 0\n",
    "        elif colors[i] == \"B\":\n",
    "            counterb += 1\n",
    "            arra.append(countera)\n",
    "            countera = 0\n",
    "    arra.append(countera)\n",
    "    arrb.append(counterb)\n",
    "    print(arra)\n",
    "    sum1 = 0\n",
    "    for i in arra:\n",
    "        if i >= 3:\n",
    "            sum1 += i-2\n",
    "    sum2 = 0\n",
    "    for j in arrb:\n",
    "        if j >= 3:\n",
    "            sum2 += j-2 \n",
    "    return sum1 > sum2\n",
    "\n",
    "        \n",
    "winnerOfGame(\"AAAABBBB\")"
   ]
  },
  {
   "cell_type": "markdown",
   "metadata": {},
   "source": [
    "# 22. Generate Parentheses - MEDIUM"
   ]
  },
  {
   "cell_type": "code",
   "execution_count": 4,
   "metadata": {},
   "outputs": [
    {
     "data": {
      "text/plain": [
       "['((()))', '(()())', '(())()', '()(())', '()()()']"
      ]
     },
     "execution_count": 4,
     "metadata": {},
     "output_type": "execute_result"
    }
   ],
   "source": [
    "def generateParenthesis(n):\n",
    "    output = []\n",
    "    def backtrack(left, right, curr):\n",
    "        if left:\n",
    "            backtrack(left-1, right, curr+\"(\")\n",
    "        if right > left:\n",
    "            backtrack(left, right-1, curr+\")\")\n",
    "        if not right:\n",
    "            output.append(curr)\n",
    "            return\n",
    "    backtrack(n,n,\"\")\n",
    "    return output\n",
    "\n",
    "generateParenthesis(3)"
   ]
  },
  {
   "cell_type": "markdown",
   "metadata": {},
   "source": [
    "# 78. Subsets - MEDIUM"
   ]
  },
  {
   "cell_type": "code",
   "execution_count": 27,
   "metadata": {},
   "outputs": [
    {
     "data": {
      "text/plain": [
       "[[], [2], [2, 2], [1], [1, 2], [1, 2, 2]]"
      ]
     },
     "execution_count": 27,
     "metadata": {},
     "output_type": "execute_result"
    }
   ],
   "source": [
    "def subsets(nums):\n",
    "    output = []\n",
    "    def backtrack(index, current=[]):\n",
    "        if index == len(nums):\n",
    "            if current not in output:\n",
    "                output.append(current)\n",
    "            return\n",
    "        else:\n",
    "            backtrack(index+1, current)\n",
    "            backtrack(index+1, current+[nums[index]])\n",
    "    backtrack(0)\n",
    "    return output\n",
    "\n",
    "subsets([1,2,2])"
   ]
  },
  {
   "cell_type": "markdown",
   "metadata": {},
   "source": [
    "# 216. Combination Sum III - MEDIUM"
   ]
  },
  {
   "cell_type": "code",
   "execution_count": 35,
   "metadata": {},
   "outputs": [
    {
     "data": {
      "text/plain": [
       "[[1, 2, 6], [1, 3, 5], [2, 3, 4]]"
      ]
     },
     "execution_count": 35,
     "metadata": {},
     "output_type": "execute_result"
    }
   ],
   "source": [
    "def combinationSum3(k, n):\n",
    "    def backtrack(start, target, k, curr=[]):\n",
    "        output = []\n",
    "        if k == 0:\n",
    "            if target == 0:\n",
    "                return [[]]\n",
    "            else:\n",
    "                return []\n",
    "        for i in range(start, 10):\n",
    "            for j in backtrack(i+1, target-i, k-1, curr):\n",
    "                output.append([i]+j)\n",
    "        return output\n",
    "    return backtrack(1, n, k)\n",
    "\n",
    "combinationSum3(3, 9)\n"
   ]
  },
  {
   "cell_type": "code",
   "execution_count": null,
   "metadata": {},
   "outputs": [],
   "source": []
  },
  {
   "cell_type": "markdown",
   "metadata": {},
   "source": [
    "# Maximum Gold - MEDIUM"
   ]
  },
  {
   "cell_type": "code",
   "execution_count": 16,
   "metadata": {},
   "outputs": [
    {
     "data": {
      "text/plain": [
       "24"
      ]
     },
     "execution_count": 16,
     "metadata": {},
     "output_type": "execute_result"
    }
   ],
   "source": [
    "def getMaximumGold(grid):\n",
    "    output = []\n",
    "    xlen = len(grid)\n",
    "    ylen = len(grid[0])\n",
    "    def backtrack(x, y, score, curr):\n",
    "        scorecurr = curr[x][y]\n",
    "        hitted = 0\n",
    "        curr[x][y] = 0\n",
    "        if x+1 < xlen and curr[x+1][y] != 0:\n",
    "            hitted += 1\n",
    "            backtrack(x+1, y, scorecurr+score, curr)\n",
    "        if x-1 >= 0 and curr[x-1][y] != 0:\n",
    "            hitted += 1\n",
    "            backtrack(x-1, y, scorecurr+score, curr)\n",
    "        if y+1 < ylen and curr[x][y+1] != 0:\n",
    "            hitted += 1\n",
    "            backtrack(x, y+1, scorecurr+score, curr)\n",
    "        if y-1 >= 0 and curr[x][y-1] != 0:\n",
    "            hitted += 1\n",
    "            backtrack(x, y-1, scorecurr+score, curr)\n",
    "        curr[x][y] = scorecurr\n",
    "        if hitted == 0:\n",
    "            output.append(score+scorecurr)\n",
    "            return \n",
    "    for x in range(xlen):\n",
    "        for y in range(ylen):\n",
    "            if grid[x][y] != 0:\n",
    "                backtrack(x,y,0,grid)\n",
    "    if len(output) > 0:\n",
    "        return max(output)\n",
    "    return 0\n",
    "\n",
    "getMaximumGold([[0,6,0],[5,8,7],[0,9,0]])"
   ]
  },
  {
   "cell_type": "markdown",
   "metadata": {},
   "source": [
    "# 491. Non-decreasing Subsequences - MEDIUM"
   ]
  },
  {
   "cell_type": "code",
   "execution_count": 24,
   "metadata": {},
   "outputs": [
    {
     "ename": "TypeError",
     "evalue": "findSubsequences() takes 1 positional argument but 2 were given",
     "output_type": "error",
     "traceback": [
      "\u001b[0;31m---------------------------------------------------------------------------\u001b[0m",
      "\u001b[0;31mTypeError\u001b[0m                                 Traceback (most recent call last)",
      "\u001b[1;32m/Users/dennisschielke/Desktop/Programming/Leetcode/2023/oktober.ipynb Zelle 13\u001b[0m line \u001b[0;36m2\n\u001b[1;32m     <a href='vscode-notebook-cell:/Users/dennisschielke/Desktop/Programming/Leetcode/2023/oktober.ipynb#X15sZmlsZQ%3D%3D?line=22'>23</a>\u001b[0m     backtrack([], nums)\n\u001b[1;32m     <a href='vscode-notebook-cell:/Users/dennisschielke/Desktop/Programming/Leetcode/2023/oktober.ipynb#X15sZmlsZQ%3D%3D?line=23'>24</a>\u001b[0m     \u001b[39mreturn\u001b[39;00m output\n\u001b[0;32m---> <a href='vscode-notebook-cell:/Users/dennisschielke/Desktop/Programming/Leetcode/2023/oktober.ipynb#X15sZmlsZQ%3D%3D?line=24'>25</a>\u001b[0m findSubsequences([\u001b[39m8860\u001b[39;49m,\u001b[39m-\u001b[39;49m\u001b[39m853\u001b[39;49m,\u001b[39m6534\u001b[39;49m,\u001b[39m4477\u001b[39;49m,\u001b[39m-\u001b[39;49m\u001b[39m4589\u001b[39;49m,\u001b[39m8646\u001b[39;49m,\u001b[39m-\u001b[39;49m\u001b[39m6155\u001b[39;49m,\u001b[39m-\u001b[39;49m\u001b[39m5577\u001b[39;49m,\u001b[39m-\u001b[39;49m\u001b[39m1656\u001b[39;49m,\u001b[39m-\u001b[39;49m\u001b[39m5779\u001b[39;49m,\u001b[39m-\u001b[39;49m\u001b[39m2619\u001b[39;49m,\u001b[39m-\u001b[39;49m\u001b[39m8604\u001b[39;49m,\u001b[39m-\u001b[39;49m\u001b[39m1358\u001b[39;49m,\u001b[39m-\u001b[39;49m\u001b[39m8009\u001b[39;49m,\u001b[39m4983\u001b[39;49m,\u001b[39m7063\u001b[39;49m,\u001b[39m3104\u001b[39;49m,\u001b[39m-\u001b[39;49m\u001b[39m1560\u001b[39;49m,\u001b[39m4080\u001b[39;49m,\u001b[39m2763\u001b[39;49m,\u001b[39m5616\u001b[39;49m,\u001b[39m-\u001b[39;49m\u001b[39m2375\u001b[39;49m,\u001b[39m2848\u001b[39;49m,\u001b[39m1394\u001b[39;49m,\u001b[39m-\u001b[39;49m\u001b[39m7173\u001b[39;49m,\u001b[39m-\u001b[39;49m\u001b[39m5225\u001b[39;49m,\u001b[39m-\u001b[39;49m\u001b[39m8244\u001b[39;49m,\u001b[39m-\u001b[39;49m\u001b[39m809\u001b[39;49m,\u001b[39m8025\u001b[39;49m,\u001b[39m-\u001b[39;49m\u001b[39m4072\u001b[39;49m,\u001b[39m-\u001b[39;49m\u001b[39m4391\u001b[39;49m,\u001b[39m-\u001b[39;49m\u001b[39m9579\u001b[39;49m,\u001b[39m1407\u001b[39;49m,\u001b[39m6700\u001b[39;49m,\u001b[39m2421\u001b[39;49m,\u001b[39m-\u001b[39;49m\u001b[39m6685\u001b[39;49m,\u001b[39m5481\u001b[39;49m,\u001b[39m-\u001b[39;49m\u001b[39m1732\u001b[39;49m,\u001b[39m-\u001b[39;49m\u001b[39m8892\u001b[39;49m,\u001b[39m-\u001b[39;49m\u001b[39m6645\u001b[39;49m,\u001b[39m3077\u001b[39;49m,\u001b[39m3287\u001b[39;49m,\u001b[39m-\u001b[39;49m\u001b[39m4149\u001b[39;49m,\u001b[39m8701\u001b[39;49m,\u001b[39m-\u001b[39;49m\u001b[39m4393\u001b[39;49m,\u001b[39m-\u001b[39;49m\u001b[39m9070\u001b[39;49m,\u001b[39m-\u001b[39;49m\u001b[39m1777\u001b[39;49m,\u001b[39m2237\u001b[39;49m,\u001b[39m-\u001b[39;49m\u001b[39m3253\u001b[39;49m,\u001b[39m-\u001b[39;49m\u001b[39m506\u001b[39;49m,\u001b[39m-\u001b[39;49m\u001b[39m4931\u001b[39;49m,\u001b[39m-\u001b[39;49m\u001b[39m7366\u001b[39;49m,\u001b[39m-\u001b[39;49m\u001b[39m8132\u001b[39;49m,\u001b[39m5406\u001b[39;49m,\u001b[39m-\u001b[39;49m\u001b[39m6300\u001b[39;49m,\u001b[39m-\u001b[39;49m\u001b[39m275\u001b[39;49m,\u001b[39m-\u001b[39;49m\u001b[39m1908\u001b[39;49m,\u001b[39m67\u001b[39;49m,\u001b[39m3569\u001b[39;49m,\u001b[39m1433\u001b[39;49m,\u001b[39m-\u001b[39;49m\u001b[39m7262\u001b[39;49m,\u001b[39m-\u001b[39;49m\u001b[39m437\u001b[39;49m,\u001b[39m8303\u001b[39;49m,\u001b[39m4498\u001b[39;49m,\u001b[39m-\u001b[39;49m\u001b[39m379\u001b[39;49m,\u001b[39m3054\u001b[39;49m,\u001b[39m-\u001b[39;49m\u001b[39m6285\u001b[39;49m,\u001b[39m4203\u001b[39;49m,\u001b[39m6908\u001b[39;49m,\u001b[39m4433\u001b[39;49m,\u001b[39m3077\u001b[39;49m,\u001b[39m2288\u001b[39;49m,\u001b[39m9733\u001b[39;49m,\u001b[39m-\u001b[39;49m\u001b[39m8067\u001b[39;49m,\u001b[39m3007\u001b[39;49m,\u001b[39m9725\u001b[39;49m,\u001b[39m9669\u001b[39;49m,\u001b[39m1362\u001b[39;49m,\u001b[39m-\u001b[39;49m\u001b[39m2561\u001b[39;49m,\u001b[39m-\u001b[39;49m\u001b[39m4225\u001b[39;49m,\u001b[39m5442\u001b[39;49m,\u001b[39m-\u001b[39;49m\u001b[39m9006\u001b[39;49m,\u001b[39m-\u001b[39;49m\u001b[39m429\u001b[39;49m,\u001b[39m160\u001b[39;49m,\u001b[39m-\u001b[39;49m\u001b[39m9234\u001b[39;49m,\u001b[39m-\u001b[39;49m\u001b[39m4444\u001b[39;49m,\u001b[39m3586\u001b[39;49m,\u001b[39m-\u001b[39;49m\u001b[39m5711\u001b[39;49m,\u001b[39m-\u001b[39;49m\u001b[39m9506\u001b[39;49m,\u001b[39m-\u001b[39;49m\u001b[39m79\u001b[39;49m,\u001b[39m-\u001b[39;49m\u001b[39m4418\u001b[39;49m,\u001b[39m-\u001b[39;49m\u001b[39m4348\u001b[39;49m,\u001b[39m-\u001b[39;49m\u001b[39m5891\u001b[39;49m], \u001b[39m93\u001b[39;49m)\n",
      "\u001b[0;31mTypeError\u001b[0m: findSubsequences() takes 1 positional argument but 2 were given"
     ]
    }
   ],
   "source": [
    "def findSubsequences(nums):\n",
    "    output = []\n",
    "    def backtrack(indexes, nums, curr = []):\n",
    "        if len(curr) >= 2:\n",
    "            if curr not in output:\n",
    "                passt = True\n",
    "                for i in range(len(indexes)-1):\n",
    "                    if indexes[i] > indexes[i+1]:\n",
    "                        passt = False\n",
    "                        break\n",
    "                if passt:\n",
    "                    output.append(curr.copy())\n",
    "        if len(indexes) == len(nums):\n",
    "            return\n",
    "        for i in range(len(nums)):\n",
    "            if i not in indexes:\n",
    "                if not curr or nums[i] >= curr[-1]:\n",
    "                    curr.append(nums[i])\n",
    "                    indexes.append(i)\n",
    "                    backtrack(indexes, nums, curr)\n",
    "                    curr.pop()\n",
    "                    indexes.pop()\n",
    "    backtrack([], nums)\n",
    "    return output\n",
    "findSubsequences([4,4,3,2,1])"
   ]
  },
  {
   "cell_type": "markdown",
   "metadata": {},
   "source": [
    "# 643. Maximum Average Subarray I - EASY"
   ]
  },
  {
   "cell_type": "code",
   "execution_count": 28,
   "metadata": {},
   "outputs": [
    {
     "data": {
      "text/plain": [
       "-594.5806451612904"
      ]
     },
     "execution_count": 28,
     "metadata": {},
     "output_type": "execute_result"
    }
   ],
   "source": [
    "def findMaxAverage(nums, k):\n",
    "    if len(nums) == 1:\n",
    "        return nums[0]\n",
    "    if len(nums) == k:\n",
    "        return sum(nums) / k\n",
    "    n = len(nums)\n",
    "    beg = 0\n",
    "    end = k\n",
    "    arr = nums[beg:end]\n",
    "    summer = sum(arr)\n",
    "    m = -float(\"inf\")\n",
    "    while end < n:\n",
    "        if summer < 0:\n",
    "            m = min(m, summer / k)\n",
    "            print(summer)\n",
    "        else:\n",
    "            m = max(m, summer / k)\n",
    "        summer -= arr[0]\n",
    "        summer += nums[end]\n",
    "        arr.append(nums[end])\n",
    "        arr = arr[1:]\n",
    "        beg += 1\n",
    "        end += 1\n",
    "    return m\n",
    "\n",
    "findMaxAverage([8860,-853,6534,4477,-4589,8646,-6155,-5577,-1656,-5779,-2619,-8604,-1358,-8009,4983,7063,3104,-1560,4080,2763,5616,-2375,2848,1394,-7173,-5225,-8244,-809,8025,-4072,-4391,-9579,1407,6700,2421,-6685,5481,-1732,-8892,-6645,3077,3287,-4149,8701,-4393,-9070,-1777,2237,-3253,-506,-4931,-7366,-8132,5406,-6300,-275,-1908,67,3569,1433,-7262,-437,8303,4498,-379,3054,-6285,4203,6908,4433,3077,2288,9733,-8067,3007,9725,9669,1362,-2561,-4225,5442,-9006,-429,160,-9234,-4444,3586,-5711,-9506,-79,-4418,-4348,-5891], 93)"
   ]
  },
  {
   "cell_type": "markdown",
   "metadata": {},
   "source": [
    "# 40. Combination Sum II - MEDIUM"
   ]
  },
  {
   "cell_type": "code",
   "execution_count": 39,
   "metadata": {},
   "outputs": [
    {
     "data": {
      "text/plain": [
       "[]"
      ]
     },
     "execution_count": 39,
     "metadata": {},
     "output_type": "execute_result"
    }
   ],
   "source": [
    "def combinationSum2(candidates, target):\n",
    "    output = []\n",
    "    def backtrack(nums, currpos, target, curr=[]):\n",
    "        for i in range(currpos, len(nums)):\n",
    "            if nums[i] == target:\n",
    "                rn = curr + [nums[i]]\n",
    "                if sorted(rn) not in output:\n",
    "                    output.append(sorted(rn))\n",
    "                return\n",
    "            elif nums[i] < target:\n",
    "                curr.append(nums[i])\n",
    "                currpos = i\n",
    "                temptar = target - nums[i]\n",
    "                if i+1 < len(nums):\n",
    "                    backtrack(nums[:i]+nums[i+1:], i, temptar, curr)\n",
    "                curr.pop() \n",
    "    backtrack(sorted(candidates), 0, target)\n",
    "    return output\n",
    "\n",
    "combinationSum2([0], 5)"
   ]
  },
  {
   "cell_type": "code",
   "execution_count": 42,
   "metadata": {},
   "outputs": [
    {
     "name": "stdout",
     "output_type": "stream",
     "text": [
      "1\n"
     ]
    }
   ],
   "source": [
    "idk = set([1,1,1,1,1,1,1,1,1,1,1,1,1,1,1,1,1,1,1,1,1,1,1,1,1,1,1,1,1,1,1,1,1,1,1,1,1,1,1,1,1,1,1,1,1,1,1,1,1,1,1,1,1,1,1,1,1,1,1,1,1,1,1,1,1,1,1,1,1,1,1,1,1,1,1,1,1,1,1,1,1,1,1,1,1,1,1,1,1,1,1,1,1,1,1,1,1,1,1,1])\n",
    "print(sum(idk))"
   ]
  },
  {
   "cell_type": "markdown",
   "metadata": {},
   "source": [
    "# 967. Numbers With Same Consecutive Differences - MEDIUM"
   ]
  },
  {
   "cell_type": "code",
   "execution_count": 12,
   "metadata": {},
   "outputs": [
    {
     "data": {
      "text/plain": [
       "[12, 10, 23, 21, 34, 32, 45, 43, 56, 54, 67, 65, 78, 76, 89, 87, 98]"
      ]
     },
     "execution_count": 12,
     "metadata": {},
     "output_type": "execute_result"
    }
   ],
   "source": [
    "def numsSameConsecDiff(n, k):\n",
    "    output = []\n",
    "    def backtrack(steps, curr):\n",
    "        if steps == n:\n",
    "            number = int(\"\".join([str(x) for x in curr]))\n",
    "            if number not in output and len(str(number)) == n:\n",
    "                output.append(number)\n",
    "        else:\n",
    "            if (curr[-1] + k) < 10:\n",
    "                backtrack(steps+1, curr + [curr[-1] + k])\n",
    "            if (curr[-1] - k) >= 0:\n",
    "                backtrack(steps+1, curr + [curr[-1] - k])\n",
    "    for i in range(10):\n",
    "        backtrack(1, [i])\n",
    "    return output\n",
    "\n",
    "numsSameConsecDiff(2, 1)"
   ]
  },
  {
   "cell_type": "markdown",
   "metadata": {},
   "source": []
  },
  {
   "cell_type": "code",
   "execution_count": 46,
   "metadata": {},
   "outputs": [
    {
     "data": {
      "text/plain": [
       "[[1, 2, 3], [2, 1, 3]]"
      ]
     },
     "execution_count": 46,
     "metadata": {},
     "output_type": "execute_result"
    }
   ],
   "source": [
    "def countArrangement(n):\n",
    "    arr = [x+1 for x in range(n)]\n",
    "    output = []\n",
    "    def check(curr):\n",
    "        for index,value in enumerate(curr):\n",
    "            if (index+1) & value != 0 and value % (index+1) != 0:\n",
    "                return False\n",
    "        return True\n",
    "    def backtrack(arr, indexes = [], curr = []):\n",
    "        if len(indexes) == n:\n",
    "            if check(curr) and curr:\n",
    "                output.append(curr[:])\n",
    "        for index, value in enumerate(arr):\n",
    "            if index not in indexes:\n",
    "                indexes.append(index)\n",
    "                curr.append(value)\n",
    "                backtrack(arr, indexes, curr)\n",
    "                indexes.pop()\n",
    "                curr.pop()\n",
    "    backtrack(arr)\n",
    "    return output\n",
    "countArrangement(3)"
   ]
  },
  {
   "cell_type": "markdown",
   "metadata": {},
   "source": [
    "# 1079. Letter Tile Possibilities - MEDIUM"
   ]
  },
  {
   "cell_type": "code",
   "execution_count": 4,
   "metadata": {},
   "outputs": [
    {
     "data": {
      "text/plain": [
       "8"
      ]
     },
     "execution_count": 4,
     "metadata": {},
     "output_type": "execute_result"
    }
   ],
   "source": [
    "def numTilePossibilities(tiles):\n",
    "    n = len(tiles)\n",
    "    output = []\n",
    "    def backtrack(indexes, curr):\n",
    "        if curr and curr:\n",
    "            output.append(curr)\n",
    "        if len(curr) == n:\n",
    "            return\n",
    "        for i, v in enumerate(tiles):\n",
    "            if i not in indexes:\n",
    "                indexes.append(i)\n",
    "                backtrack(indexes, curr + v)\n",
    "                indexes.pop()\n",
    "    backtrack([], \"\")\n",
    "    return len(set(output))\n",
    "\n",
    "numTilePossibilities(\"AAB\")\n"
   ]
  },
  {
   "cell_type": "markdown",
   "metadata": {},
   "source": [
    "# 1980. Find Unique Binary String - MEDIUM"
   ]
  },
  {
   "cell_type": "code",
   "execution_count": 8,
   "metadata": {},
   "outputs": [
    {
     "data": {
      "text/plain": [
       "'00'"
      ]
     },
     "execution_count": 8,
     "metadata": {},
     "output_type": "execute_result"
    }
   ],
   "source": [
    "def findDifferentBinaryString(nums):\n",
    "    output = []\n",
    "    if not nums:\n",
    "        return \"\"\n",
    "    n = len(nums[0])\n",
    "    def backtrack(curr, nums):\n",
    "        if output:\n",
    "            return\n",
    "        if len(curr) == n:\n",
    "            if curr not in nums:\n",
    "                output.append(curr)\n",
    "                return\n",
    "            return\n",
    "        else:\n",
    "            backtrack(curr + \"0\", nums)\n",
    "            backtrack(curr + \"1\", nums)\n",
    "    backtrack(\"\", nums)\n",
    "    if output:\n",
    "        return output[0]\n",
    "    return \"\"\n",
    "\n",
    "        \n",
    "findDifferentBinaryString([\"01\",\"10\"])"
   ]
  }
 ],
 "metadata": {
  "kernelspec": {
   "display_name": "Python 3",
   "language": "python",
   "name": "python3"
  },
  "language_info": {
   "codemirror_mode": {
    "name": "ipython",
    "version": 3
   },
   "file_extension": ".py",
   "mimetype": "text/x-python",
   "name": "python",
   "nbconvert_exporter": "python",
   "pygments_lexer": "ipython3",
   "version": "3.11.2"
  },
  "orig_nbformat": 4
 },
 "nbformat": 4,
 "nbformat_minor": 2
}
