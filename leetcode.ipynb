{
 "cells": [
  {
   "cell_type": "markdown",
   "metadata": {},
   "source": [
    "# Morse code Problem - EASY"
   ]
  },
  {
   "cell_type": "code",
   "execution_count": 14,
   "metadata": {},
   "outputs": [
    {
     "data": {
      "text/plain": [
       "4"
      ]
     },
     "execution_count": 14,
     "metadata": {},
     "output_type": "execute_result"
    }
   ],
   "source": [
    "def uniqueMorseRepresentations(words):\n",
    "    wordst = []\n",
    "    morse = [\".-\",\"-...\",\"-.-.\",\"-..\",\".\",\"..-.\",\"--.\",\"....\",\"..\",\".---\",\"-.-\",\".-..\",\"--\",\"-.\",\"---\",\".--.\",\"--.-\",\".-.\",\"...\",\"-\",\"..-\",\"...-\",\".--\",\"-..-\",\"-.--\",\"--..\"]\n",
    "    for i in words:\n",
    "        word = \"\"\n",
    "        for j in i: \n",
    "            word += morse[ord(j) - 97]\n",
    "        wordst.append(word)\n",
    "    uniqueelem = set(wordst)\n",
    "    return len(uniqueelem)\n",
    "\n",
    "uniqueMorseRepresentations([\"sa\", \"kaa\", \"ka\", \"ak\", \"ka\"])"
   ]
  },
  {
   "cell_type": "markdown",
   "metadata": {},
   "source": [
    "# 335. Self Crossing - EASY"
   ]
  },
  {
   "cell_type": "code",
   "execution_count": 15,
   "metadata": {},
   "outputs": [
    {
     "data": {
      "text/plain": [
       "False"
      ]
     },
     "execution_count": 15,
     "metadata": {},
     "output_type": "execute_result"
    }
   ],
   "source": [
    "def isSelfCrossing(distance):\n",
    "    start = [0, 0]\n",
    "    savepoints = []\n",
    "    savepoints.append(start)\n",
    "    for j in range(0, len(distance)):\n",
    "        if j % 4 == 0:\n",
    "            for i in range(distance[j]):\n",
    "                start = [start[0], start[1] + 1]\n",
    "                savepoints.append(start)\n",
    "        if j % 4 == 1:\n",
    "            for i in range(distance[j]):\n",
    "                start = [start[0]-1, start[1]]\n",
    "                savepoints.append(start)\n",
    "        if j % 4 == 2:\n",
    "            for i in range(distance[j]):\n",
    "                start = [start[0], start[1] - 1]\n",
    "                savepoints.append(start)\n",
    "        if j % 4 == 3:\n",
    "            for i in range(distance[j]):\n",
    "                start = [start[0]+1, start[1]]\n",
    "                savepoints.append(start)\n",
    "    \n",
    "    lengthpoints = len(savepoints)\n",
    "    idk = len(set(tuple(point) for point in savepoints))\n",
    "    if(lengthpoints != idk):\n",
    "        return True\n",
    "    return False\n",
    "\n",
    "isSelfCrossing([2, 2, 2, 1])\n",
    "    "
   ]
  },
  {
   "cell_type": "markdown",
   "metadata": {},
   "source": [
    "# 283. Move Zeros - EASY"
   ]
  },
  {
   "cell_type": "code",
   "execution_count": 16,
   "metadata": {},
   "outputs": [
    {
     "data": {
      "text/plain": [
       "[1, 0]"
      ]
     },
     "execution_count": 16,
     "metadata": {},
     "output_type": "execute_result"
    }
   ],
   "source": [
    "def moveZeroes(nums):\n",
    "    index = 0\n",
    "    zerocount = 0\n",
    "    for i in range(len(nums)):\n",
    "        if nums[i] != 0:\n",
    "            nums[index] = nums[i]\n",
    "            index += 1\n",
    "        else:\n",
    "            zerocount += 1\n",
    "    for i in range(zerocount):\n",
    "        nums[index] = 0\n",
    "        index += 1\n",
    "    return nums\n",
    "\n",
    "moveZeroes([1, 0])\n"
   ]
  },
  {
   "cell_type": "markdown",
   "metadata": {},
   "source": [
    "# 28. Find the Index of the first Occurence String - EASY"
   ]
  },
  {
   "cell_type": "code",
   "execution_count": 73,
   "metadata": {},
   "outputs": [
    {
     "data": {
      "text/plain": [
       "10"
      ]
     },
     "execution_count": 73,
     "metadata": {},
     "output_type": "execute_result"
    }
   ],
   "source": [
    "def strStr(haystack, needle):\n",
    "    setindex = 0\n",
    "    counter = 0\n",
    "    while counter != len(haystack):\n",
    "        if haystack[counter] == needle[setindex]:\n",
    "            setindex += 1\n",
    "            if setindex == (len(needle) - 1):\n",
    "                return (counter - setindex + 1)\n",
    "        elif haystack != needle[setindex] and setindex != 0:\n",
    "            counter = counter - setindex\n",
    "        else:\n",
    "            setindex = 0\n",
    "        counter += 1\n",
    "    return -1\n",
    "\n",
    "strStr(\"oijhiohoiiwefwrvhio\", \"wef\")"
   ]
  },
  {
   "cell_type": "markdown",
   "metadata": {},
   "source": [
    "# 35. Search Insert Position - MEDIUM"
   ]
  },
  {
   "cell_type": "code",
   "execution_count": 78,
   "metadata": {},
   "outputs": [
    {
     "data": {
      "text/plain": [
       "2"
      ]
     },
     "execution_count": 78,
     "metadata": {},
     "output_type": "execute_result"
    }
   ],
   "source": [
    "def searchInsert(nums, target):\n",
    "    start = 0\n",
    "    # 7 - 0 = 3\n",
    "\n",
    "    end = len(nums) - 1\n",
    "    for i in range(len(nums)):\n",
    "        if nums[(end+start)//2] == target:\n",
    "            return len(nums[:(end+start)//2])\n",
    "        elif nums[(end+start)//2 + 1] == target:\n",
    "            return len(nums[:(end+start)//2 + 1])\n",
    "        elif nums[(end+start)//2 - 1] == target:\n",
    "            return len(nums[:(end+start)//2 - 1])\n",
    "        elif nums[(end+start)//2] < target:\n",
    "            start = (end+start)//2\n",
    "        elif nums[(end+start)//2] > target:\n",
    "            end = (end+start)//2\n",
    "    return end\n",
    "\n",
    "searchInsert([1, 4, 6, 7, 35, 39, 43, 66], 5)"
   ]
  },
  {
   "cell_type": "markdown",
   "metadata": {},
   "source": [
    "# 58. Length of Last word - EASY"
   ]
  },
  {
   "cell_type": "code",
   "execution_count": 134,
   "metadata": {},
   "outputs": [
    {
     "data": {
      "text/plain": [
       "1"
      ]
     },
     "execution_count": 134,
     "metadata": {},
     "output_type": "execute_result"
    }
   ],
   "source": [
    "def lengthOfLastWord(s):\n",
    "    found = False\n",
    "    length = 0\n",
    "    j = len(s)\n",
    "    if j == 1 and s != \" \":\n",
    "        return 1\n",
    "    for i in reversed(s):\n",
    "        if i != \" \" and not found:\n",
    "            found = True\n",
    "            length += 1\n",
    "        elif i == \" \" and found or j == 1:\n",
    "            if j==1 and s[0] != \" \":\n",
    "                return length+1\n",
    "            else:\n",
    "                return length\n",
    "        elif i != \" \" and found:\n",
    "            length += 1\n",
    "        j -= 1\n",
    "\n",
    "lengthOfLastWord(\"a d\")\n"
   ]
  },
  {
   "cell_type": "markdown",
   "metadata": {},
   "source": [
    "# 350. Intersection of two Arrays II - EASY"
   ]
  },
  {
   "cell_type": "code",
   "execution_count": 3,
   "metadata": {},
   "outputs": [
    {
     "name": "stdout",
     "output_type": "stream",
     "text": [
      "{2, 3, 4}\n"
     ]
    }
   ],
   "source": [
    "arr = [2,3,4,3,4,3,4]\n",
    "arr[2:3]"
   ]
  },
  {
   "cell_type": "code",
   "execution_count": 22,
   "metadata": {},
   "outputs": [
    {
     "data": {
      "text/plain": [
       "[9, 4]"
      ]
     },
     "execution_count": 22,
     "metadata": {},
     "output_type": "execute_result"
    }
   ],
   "source": [
    "def intersect(nums1, nums2):\n",
    "    incommon = []\n",
    "    if len(nums1) >= len(nums2):\n",
    "        for i in nums1:\n",
    "            if i in nums2 and i not in incommon:\n",
    "                incommon.append(i)\n",
    "            elif i in nums2 and i in incommon: \n",
    "                incom = sum(1 for item in incommon if item == i)\n",
    "                n2 = sum(1 for item in nums2 if item == i)\n",
    "                if n2 > incom:\n",
    "                    incommon.append(i)\n",
    "    else:\n",
    "        for i in nums2:\n",
    "            if i in nums1 and i not in incommon:\n",
    "                incommon.append(i)\n",
    "            elif i in nums1 and i in incommon: \n",
    "                incom = sum(1 for item in incommon if item == i)\n",
    "                n1 = sum(1 for item in nums1 if item == i)\n",
    "                if n1 > incom:\n",
    "                    incommon.append(i)\n",
    "    return incommon\n",
    "\n",
    "intersect([4,9,5], [9,4,9,8,4])"
   ]
  },
  {
   "cell_type": "markdown",
   "metadata": {},
   "source": [
    "# 48. Rotate Image - MEDIUM"
   ]
  },
  {
   "cell_type": "code",
   "execution_count": 70,
   "metadata": {},
   "outputs": [
    {
     "data": {
      "text/plain": [
       "[[9, 8, 7], [6, 5, 4], [3, 2, 1]]"
      ]
     },
     "execution_count": 70,
     "metadata": {},
     "output_type": "execute_result"
    }
   ],
   "source": [
    "def rotate(matrix):\n",
    "    reversed_matrix = []\n",
    "    for row in reversed(matrix):\n",
    "        reversed_matrix.append(row)\n",
    "    lengthmatrix = len(matrix)\n",
    "    newmatrix = []\n",
    "    # Create Matrix\n",
    "    for i in range(0, lengthmatrix):\n",
    "        newmatrix.append([])\n",
    "    for i in reversed_matrix:\n",
    "        counter = 0\n",
    "        for j in i:\n",
    "            newmatrix[counter].append(j)\n",
    "            counter += 1\n",
    "    for i in range(len(matrix)):\n",
    "        for j in range(len(matrix[0])):\n",
    "            matrix[i][j] = newmatrix[i][j]\n",
    "    return matrix\n",
    "\n",
    "\n",
    "rotate([[7,4,1],[8,5,2],[9,6,3]])\n",
    "\n",
    "# input [[1,2,3],[4,5,6],[7,8,9]]\n",
    "# output [[7,4,1],[8,5,2],[9,6,3]]"
   ]
  },
  {
   "cell_type": "markdown",
   "metadata": {},
   "source": [
    "# 54. Spiral Matrix - MEDIUM"
   ]
  },
  {
   "cell_type": "code",
   "execution_count": 2,
   "metadata": {},
   "outputs": [
    {
     "data": {
      "text/plain": [
       "[1, 2, 3, 4, 8, 12, 11, 10, 9, 5, 6, 7]"
      ]
     },
     "execution_count": 2,
     "metadata": {},
     "output_type": "execute_result"
    }
   ],
   "source": [
    "def spiralOrder(matrix):\n",
    "    output = []\n",
    "    right = 0\n",
    "    left = 0\n",
    "    top = 0\n",
    "    bottom = 0\n",
    "    row_count = len(matrix[0])\n",
    "    column_count = len(matrix)\n",
    "    total_elements = sum(len(row) for row in matrix)\n",
    "    while len(output) < total_elements:\n",
    "        for i in range(left, row_count - right):\n",
    "            output.append(matrix[top][i])\n",
    "        top += 1\n",
    "        for j in range(top, column_count - bottom):\n",
    "            output.append(matrix[j][row_count - right - 1])\n",
    "        right += 1\n",
    "        for k in range(row_count - right - 1, left - 1, -1):\n",
    "            output.append(matrix[column_count - right][k])\n",
    "        bottom += 1\n",
    "        for y in range(column_count - bottom - 1, top - 1, -1):\n",
    "            output.append(matrix[y][left])\n",
    "        left += 1\n",
    "    output = output[0:total_elements]\n",
    "    return output\n",
    "\n",
    "spiralOrder([[1,2,3,4],[5,6,7,8],[9,10,11,12]])\n",
    "\n",
    "# [[1,2,3],[4,5,6],[7,8,9]]\n",
    "# [1,2,3,6,9,8,7,4,5]"
   ]
  },
  {
   "cell_type": "markdown",
   "metadata": {},
   "source": [
    "# 36. Valid Soduku - MEDIUM"
   ]
  },
  {
   "cell_type": "code",
   "execution_count": 18,
   "metadata": {},
   "outputs": [],
   "source": [
    "def isValidSudoku(board):\n",
    "    def checkNiner(x, y, board):\n",
    "        current = []\n",
    "        for i in range(x, x+3):\n",
    "            for j in range(y, y+3):\n",
    "                if board[i][j] != \".\":\n",
    "                    current.append(board[i][j])\n",
    "        if len(set(current)) != len(current):\n",
    "            return False\n",
    "        return True\n",
    "    for i in range(len(board)):\n",
    "        current = []\n",
    "        for j in range(len(board)):\n",
    "            if board[i][j] != \".\":\n",
    "                current.append(board[i][j])\n",
    "        if len(set(current)) != len(current):\n",
    "            return False\n",
    "    #Check vertically\n",
    "    for i in range(len(board)):\n",
    "        current = []\n",
    "        for j in range(len(board)):\n",
    "            if board[j][i] != \".\":\n",
    "                current.append(board[j][i])\n",
    "        if len(set(current)) != len(current):\n",
    "            return False\n",
    "    for k in range(0, 7, 3):\n",
    "        for o in range(0, 7, 3):\n",
    "            if checkNiner(k, o, board) == False:\n",
    "                return False\n",
    "    return True"
   ]
  },
  {
   "cell_type": "markdown",
   "metadata": {},
   "source": [
    "# 136. Single Number - EASY"
   ]
  },
  {
   "cell_type": "code",
   "execution_count": 26,
   "metadata": {},
   "outputs": [
    {
     "data": {
      "text/plain": [
       "1"
      ]
     },
     "execution_count": 26,
     "metadata": {},
     "output_type": "execute_result"
    }
   ],
   "source": [
    "def singleNumber(nums):\n",
    "    arr = sorted(nums)\n",
    "    for i in range(0, len(nums)-1, 2):\n",
    "        if arr[i] != arr[i+1]:\n",
    "            return arr[i]\n",
    "    return arr[len(nums)-1]\n",
    "\n",
    "singleNumber([1])"
   ]
  },
  {
   "cell_type": "markdown",
   "metadata": {},
   "source": [
    "# 137. Single Number II - MEDIUM"
   ]
  },
  {
   "cell_type": "code",
   "execution_count": 3,
   "metadata": {},
   "outputs": [
    {
     "data": {
      "text/plain": [
       "99"
      ]
     },
     "execution_count": 3,
     "metadata": {},
     "output_type": "execute_result"
    }
   ],
   "source": [
    "def singleNumber2(nums):\n",
    "    arr = sorted(nums)\n",
    "    for i in range(0, len(nums)-2, 3):\n",
    "        if arr[i] != arr[i+1] and arr[i+1] == arr[i+2]:\n",
    "            return arr[i]\n",
    "    return arr[len(nums)-1]\n",
    "\n",
    "singleNumber2([0,1,0,1,0,1,99])"
   ]
  },
  {
   "cell_type": "markdown",
   "metadata": {},
   "source": [
    "# 260. Single Number III - MEDIUM"
   ]
  },
  {
   "cell_type": "code",
   "execution_count": 9,
   "metadata": {},
   "outputs": [
    {
     "data": {
      "text/plain": [
       "[-1, 0]"
      ]
     },
     "execution_count": 9,
     "metadata": {},
     "output_type": "execute_result"
    }
   ],
   "source": [
    "def singleNumber(nums):\n",
    "    new = []\n",
    "    arr = sorted(nums)\n",
    "    i = 0\n",
    "    while i < len(nums)-1:\n",
    "        if arr[i] != arr[i+1] and len(new) == 0:\n",
    "            new.append(arr[i])\n",
    "            i = i-1\n",
    "        elif arr[i] != arr[i+1] and len(new) != 0:\n",
    "            new.append(arr[i])\n",
    "            return new\n",
    "        i = i+2\n",
    "    new.append(arr[len(nums)-1])\n",
    "    return new\n",
    "\n",
    "singleNumber([-1,0])"
   ]
  },
  {
   "cell_type": "markdown",
   "metadata": {},
   "source": [
    "# 231. Power of Two - EASY"
   ]
  },
  {
   "cell_type": "code",
   "execution_count": 11,
   "metadata": {},
   "outputs": [],
   "source": [
    "def isPowerOfTwo(self, n):\n",
    "    if n == 0:\n",
    "        return False\n",
    "    if n == 1 or n == 2:\n",
    "        return True\n",
    "    if n%2 != 0:\n",
    "        return False\n",
    "    else:\n",
    "        while n != 2:\n",
    "            n = n/2\n",
    "            if n%2 != 0:\n",
    "                return False\n",
    "            if n == 2:\n",
    "                return True"
   ]
  },
  {
   "cell_type": "markdown",
   "metadata": {},
   "source": [
    "# 326. Power of Three - EASY"
   ]
  },
  {
   "cell_type": "code",
   "execution_count": null,
   "metadata": {},
   "outputs": [],
   "source": [
    "def isPowerOfThree(n):\n",
    "    if n == 1 or n == 3:\n",
    "        return True\n",
    "    elif n == 0 or n==2:\n",
    "        return False\n",
    "    \n",
    "    if n % 3 != 0:\n",
    "        return False\n",
    "    \n",
    "    while n != 3:\n",
    "        n = n / 3\n",
    "        if n % 3 != 0:\n",
    "            return False\n",
    "        if n == 3:\n",
    "            return True"
   ]
  },
  {
   "cell_type": "markdown",
   "metadata": {},
   "source": [
    "# 342. Power of Four - EASY"
   ]
  },
  {
   "cell_type": "code",
   "execution_count": 12,
   "metadata": {},
   "outputs": [],
   "source": [
    "def isPowerOfFour(n):\n",
    "    if n == 1 or n == 4:\n",
    "        return True\n",
    "    elif n == 0 or n==2 or n == 3:\n",
    "        return False\n",
    "    \n",
    "    if n % 4 != 0:\n",
    "        return False\n",
    "    \n",
    "    while n != 4:\n",
    "        n = n / 4\n",
    "        if n % 4 != 0:\n",
    "            return False\n",
    "        if n == 4:\n",
    "            return True"
   ]
  },
  {
   "cell_type": "markdown",
   "metadata": {},
   "source": [
    "# 74. Search a 2D Matrix - MEDIUM"
   ]
  },
  {
   "cell_type": "code",
   "execution_count": 48,
   "metadata": {},
   "outputs": [
    {
     "data": {
      "text/plain": [
       "False"
      ]
     },
     "execution_count": 48,
     "metadata": {},
     "output_type": "execute_result"
    }
   ],
   "source": [
    "def searchMatrix(matrix, target):\n",
    "    j = 0\n",
    "    if len(matrix) == 1:\n",
    "        if target in matrix[0]:\n",
    "            return True\n",
    "        else:\n",
    "            return False\n",
    "    elif len(matrix[0]) == 1:\n",
    "        for i in matrix:\n",
    "            if i[0] == target:\n",
    "                return True\n",
    "        return False\n",
    "    \n",
    "    if matrix[0][0] > target:\n",
    "        return False\n",
    "    for i in matrix:\n",
    "        if i[0] > target:\n",
    "            break\n",
    "        j += 1\n",
    "    \n",
    "    j = j - 1\n",
    "    beg = 0\n",
    "    end = len(matrix[0]) - 1\n",
    "\n",
    "    while beg != end:\n",
    "        middle = (end + beg) // 2\n",
    "        if matrix[j][middle] == target:\n",
    "            return True\n",
    "        if end - beg == 1:\n",
    "            if matrix[j][beg] == target:\n",
    "                return True\n",
    "            elif matrix[j][end] == target:\n",
    "                return True\n",
    "            else:\n",
    "                return False\n",
    "        elif matrix[j][middle] > target:\n",
    "            end = middle\n",
    "        elif matrix[j][middle] < target:\n",
    "            beg = middle\n",
    "    return False\n",
    "    \n",
    "\n",
    "searchMatrix([[1,3,5,7],[10,11,16,20],[23,30,34,60]], 44)"
   ]
  },
  {
   "cell_type": "markdown",
   "metadata": {},
   "source": [
    "# 59. Sprial Matrix II - MEDIUM"
   ]
  },
  {
   "cell_type": "code",
   "execution_count": 9,
   "metadata": {},
   "outputs": [
    {
     "data": {
      "text/plain": [
       "[[1, 2, 3, 4], [12, 13, 14, 5], [11, 16, 15, 6], [10, 9, 8, 7]]"
      ]
     },
     "execution_count": 9,
     "metadata": {},
     "output_type": "execute_result"
    }
   ],
   "source": [
    "def generateMatrix(n):\n",
    "    matrix = []\n",
    "    for i in range(n):\n",
    "        matrix.append([])\n",
    "    for i in range(n):\n",
    "        for j in range(n):\n",
    "            matrix[i].append(1)\n",
    "    counterin = 1\n",
    "    right = 0\n",
    "    left = 0\n",
    "    top = 0\n",
    "    bottom = 0\n",
    "    row_count = len(matrix[0])\n",
    "    column_count = len(matrix)\n",
    "    total_elements = sum(len(row) for row in matrix)\n",
    "    while counterin <= total_elements:\n",
    "        for i in range(left, row_count - right):\n",
    "            matrix[top][i] = counterin\n",
    "            counterin += 1\n",
    "        top += 1\n",
    "        for j in range(top, column_count - bottom):\n",
    "            matrix[j][row_count - right - 1] = counterin\n",
    "            counterin += 1\n",
    "        right += 1\n",
    "        for k in range(row_count - right - 1, left - 1, -1):\n",
    "            matrix[column_count - right][k] = counterin \n",
    "            counterin += 1\n",
    "        bottom += 1\n",
    "        for y in range(column_count - bottom - 1, top - 1, -1):\n",
    "            matrix[y][left] = counterin\n",
    "            counterin += 1\n",
    "        left += 1\n",
    "    return matrix\n",
    "\n",
    "spiralOrder(4)"
   ]
  },
  {
   "cell_type": "markdown",
   "metadata": {},
   "source": [
    "# 73. Set Matrix Zeroes - MEDIUM"
   ]
  },
  {
   "cell_type": "code",
   "execution_count": 26,
   "metadata": {},
   "outputs": [
    {
     "data": {
      "text/plain": [
       "[[0, 0]]"
      ]
     },
     "execution_count": 26,
     "metadata": {},
     "output_type": "execute_result"
    }
   ],
   "source": [
    "def setZeroes(matrix):\n",
    "    copymatrix = [row[:] for row in matrix]\n",
    "    def setrowZero(x, y):\n",
    "        for i in range(0, len(matrix[0])):\n",
    "            matrix[x][i] = 0\n",
    "        for j in range(len(matrix)):\n",
    "            matrix[j][y] = 0\n",
    "\n",
    "    for i in range(0, len(matrix)):\n",
    "        for j in range(0, len(matrix[0])):\n",
    "            if copymatrix[i][j] == 0:\n",
    "                setrowZero(i, j)\n",
    "    return matrix\n",
    "\n",
    "setZeroes([[0,1]])"
   ]
  },
  {
   "cell_type": "markdown",
   "metadata": {},
   "source": [
    "# 79. Word Search - MEDIUM"
   ]
  },
  {
   "cell_type": "code",
   "execution_count": 39,
   "metadata": {},
   "outputs": [
    {
     "data": {
      "text/plain": [
       "False"
      ]
     },
     "execution_count": 39,
     "metadata": {},
     "output_type": "execute_result"
    }
   ],
   "source": [
    "def exist(board, word):\n",
    "    firstletter = word[0]\n",
    "    def check(x, y):\n",
    "        for i in range(1, len(word)+1):\n",
    "            anyway = False\n",
    "            if i == len(word)-1:\n",
    "                return True\n",
    "            if x+1 < len(board[0]):\n",
    "                if board[x+1][y] == word[i]:\n",
    "                    x = x+1\n",
    "                    anyway = True\n",
    "            if x-1 >= 0:\n",
    "                if board[x-1][y] == word[i]:\n",
    "                    x = x-1\n",
    "                    anyway = True\n",
    "            if y+1 < len(board):\n",
    "                if board[x][y+1] == word[i]:\n",
    "                    y = y+1\n",
    "                    anyway = True\n",
    "            if y-1 >= 0:\n",
    "                if board[x][y-1] == word[i]:\n",
    "                    y = y-1\n",
    "                    anyway = True\n",
    "            if anyway == False:\n",
    "                return False\n",
    "        return False\n",
    "    for i in range(0, len(board)-1):\n",
    "        for j in range(0, len(board[0])-1):\n",
    "            if board[i][j] == firstletter:\n",
    "                if check(i, j):\n",
    "                    return True\n",
    "    return False\n",
    "\n",
    "exist([[\"A\",\"B\",\"C\",\"E\"],[\"S\",\"F\",\"C\",\"S\"],[\"A\",\"D\",\"E\",\"E\"]], \"ABCCED\")"
   ]
  },
  {
   "cell_type": "markdown",
   "metadata": {},
   "source": [
    "# 566. Reshape the Matrix - EASY"
   ]
  },
  {
   "cell_type": "code",
   "execution_count": 2,
   "metadata": {},
   "outputs": [
    {
     "data": {
      "text/plain": [
       "[[1, 2], [3, 4]]"
      ]
     },
     "execution_count": 2,
     "metadata": {},
     "output_type": "execute_result"
    }
   ],
   "source": [
    "def matrixReshape(mat, r, c):\n",
    "    newmat = []\n",
    "    lenmatrix = len(mat) * len(mat[0])\n",
    "    if r > lenmatrix or c > lenmatrix:\n",
    "        return mat\n",
    "    stopper = lenmatrix // r\n",
    "    for i in range(r):\n",
    "        newmat.append([])\n",
    "    ccount = 0\n",
    "    rcount = 0\n",
    "    for i in range(0, len(mat)):\n",
    "        for j in range(0, len(mat[0])):\n",
    "            if ccount == stopper:\n",
    "                ccount = 0\n",
    "                rcount += 1\n",
    "            newmat[rcount].append(mat[i][j])\n",
    "            ccount += 1\n",
    "    return newmat\n",
    "\n",
    "matrixReshape([[1,2],[3,4]], 7, 8)"
   ]
  },
  {
   "cell_type": "markdown",
   "metadata": {},
   "source": [
    "# 867. Transpose Matrix - EASY"
   ]
  },
  {
   "cell_type": "code",
   "execution_count": 11,
   "metadata": {},
   "outputs": [
    {
     "data": {
      "text/plain": [
       "[[1, 4, 7], [2, 5, 8], [3, 6, 9]]"
      ]
     },
     "execution_count": 11,
     "metadata": {},
     "output_type": "execute_result"
    }
   ],
   "source": [
    "def transpose(matrix):\n",
    "    newmatrix = []  \n",
    "    for i in range(len(matrix[0])):\n",
    "        row = [0] * len(matrix)\n",
    "        newmatrix.append(row)\n",
    "\n",
    "    for i in range(len(matrix)):\n",
    "        for j in range(len(matrix[0])):\n",
    "            newmatrix[j][i] = matrix[i][j]\n",
    "    return newmatrix\n",
    "\n",
    "transpose([[1,2,3],[4,5,6],[7,8,9]])"
   ]
  },
  {
   "cell_type": "markdown",
   "metadata": {},
   "source": [
    "# 175. Combine Two Tables - EASY"
   ]
  },
  {
   "cell_type": "code",
   "execution_count": null,
   "metadata": {
    "vscode": {
     "languageId": "sql"
    }
   },
   "outputs": [],
   "source": [
    "SELECT Person.firstName, Person.lastName, Address.city, Address.state\n",
    "FROM Person\n",
    "LEFT JOIN Address\n",
    "ON Person.personId = Address.personId"
   ]
  },
  {
   "cell_type": "markdown",
   "metadata": {},
   "source": [
    "# 181. Employees Earning more than their Managers - EASY"
   ]
  },
  {
   "cell_type": "code",
   "execution_count": null,
   "metadata": {
    "vscode": {
     "languageId": "sql"
    }
   },
   "outputs": [],
   "source": [
    "SELECT e2.name as Employee\n",
    "FROM employee e1\n",
    "INNER JOIN employee e2 on e1.id = e2.managerID\n",
    "WHERE e1.salary < e2.salary"
   ]
  },
  {
   "cell_type": "markdown",
   "metadata": {},
   "source": [
    "# 182. Duplicate Emails - EASY"
   ]
  },
  {
   "cell_type": "code",
   "execution_count": 78,
   "metadata": {},
   "outputs": [
    {
     "data": {
      "text/html": [
       "<div>\n",
       "<style scoped>\n",
       "    .dataframe tbody tr th:only-of-type {\n",
       "        vertical-align: middle;\n",
       "    }\n",
       "\n",
       "    .dataframe tbody tr th {\n",
       "        vertical-align: top;\n",
       "    }\n",
       "\n",
       "    .dataframe thead th {\n",
       "        text-align: right;\n",
       "    }\n",
       "</style>\n",
       "<table border=\"1\" class=\"dataframe\">\n",
       "  <thead>\n",
       "    <tr style=\"text-align: right;\">\n",
       "      <th></th>\n",
       "      <th>email</th>\n",
       "    </tr>\n",
       "  </thead>\n",
       "  <tbody>\n",
       "    <tr>\n",
       "      <th>0</th>\n",
       "      <td>a@b.com</td>\n",
       "    </tr>\n",
       "  </tbody>\n",
       "</table>\n",
       "</div>"
      ],
      "text/plain": [
       "     email\n",
       "0  a@b.com"
      ]
     },
     "execution_count": 78,
     "metadata": {},
     "output_type": "execute_result"
    }
   ],
   "source": [
    "import pandas as pd\n",
    "\n",
    "data = [[1, 'a@b.com'], [2, 'c@d.com'], [3, 'a@b.com']]\n",
    "Person = pd.DataFrame(data, columns=['id', 'email']).astype({'id':'Int64', 'email':'object'})\n",
    "\n",
    "def duplicate_emails(person: pd.DataFrame) -> pd.DataFrame:\n",
    "    dubs = person[person.duplicated(subset=[\"email\"], keep=False)]\n",
    "    dubs = dubs.drop_duplicates(subset=[\"email\"])\n",
    "    dubs = dubs.drop(columns=\"id\")\n",
    "    return dubs\n",
    "\n",
    "duplicate_emails(Person)"
   ]
  },
  {
   "cell_type": "markdown",
   "metadata": {},
   "source": [
    "# 183. Customers who never Order - EASY"
   ]
  },
  {
   "cell_type": "code",
   "execution_count": 113,
   "metadata": {},
   "outputs": [
    {
     "data": {
      "text/html": [
       "<div>\n",
       "<style scoped>\n",
       "    .dataframe tbody tr th:only-of-type {\n",
       "        vertical-align: middle;\n",
       "    }\n",
       "\n",
       "    .dataframe tbody tr th {\n",
       "        vertical-align: top;\n",
       "    }\n",
       "\n",
       "    .dataframe thead th {\n",
       "        text-align: right;\n",
       "    }\n",
       "</style>\n",
       "<table border=\"1\" class=\"dataframe\">\n",
       "  <thead>\n",
       "    <tr style=\"text-align: right;\">\n",
       "      <th></th>\n",
       "      <th>Customers</th>\n",
       "    </tr>\n",
       "  </thead>\n",
       "  <tbody>\n",
       "    <tr>\n",
       "      <th>1</th>\n",
       "      <td>Henry</td>\n",
       "    </tr>\n",
       "    <tr>\n",
       "      <th>3</th>\n",
       "      <td>Max</td>\n",
       "    </tr>\n",
       "  </tbody>\n",
       "</table>\n",
       "</div>"
      ],
      "text/plain": [
       "  Customers\n",
       "1     Henry\n",
       "3       Max"
      ]
     },
     "execution_count": 113,
     "metadata": {},
     "output_type": "execute_result"
    }
   ],
   "source": [
    "import pandas as pd\n",
    "\n",
    "data = [[1, 'Joe'], [2, 'Henry'], [3, 'Sam'], [4, 'Max']]\n",
    "Customers = pd.DataFrame(data, columns=['id', 'name']).astype({'id':'Int64', 'name':'object'})\n",
    "data = [[1, 3], [2, 1]]\n",
    "Orders = pd.DataFrame(data, columns=['id', 'customerId']).astype({'id':'Int64', 'customerId':'Int64'})\n",
    "\n",
    "def find_customers(customers: pd.DataFrame, orders: pd.DataFrame) -> pd.DataFrame:\n",
    "    output = customers[~customers[\"id\"].isin(orders[\"customerId\"])]\n",
    "    output = output.drop(columns=\"id\")\n",
    "    output = output.rename(columns={\"name\":\"Customers\"})\n",
    "    return output\n",
    "find_customers(Customers, Orders)"
   ]
  },
  {
   "cell_type": "markdown",
   "metadata": {},
   "source": [
    "# 176. Second Highest Salary - MEDIUM"
   ]
  },
  {
   "cell_type": "code",
   "execution_count": 159,
   "metadata": {},
   "outputs": [
    {
     "data": {
      "text/html": [
       "<div>\n",
       "<style scoped>\n",
       "    .dataframe tbody tr th:only-of-type {\n",
       "        vertical-align: middle;\n",
       "    }\n",
       "\n",
       "    .dataframe tbody tr th {\n",
       "        vertical-align: top;\n",
       "    }\n",
       "\n",
       "    .dataframe thead th {\n",
       "        text-align: right;\n",
       "    }\n",
       "</style>\n",
       "<table border=\"1\" class=\"dataframe\">\n",
       "  <thead>\n",
       "    <tr style=\"text-align: right;\">\n",
       "      <th></th>\n",
       "      <th>SecondHighestSalary</th>\n",
       "    </tr>\n",
       "  </thead>\n",
       "  <tbody>\n",
       "    <tr>\n",
       "      <th>0</th>\n",
       "      <td>&lt;NA&gt;</td>\n",
       "    </tr>\n",
       "  </tbody>\n",
       "</table>\n",
       "</div>"
      ],
      "text/plain": [
       "  SecondHighestSalary\n",
       "0                <NA>"
      ]
     },
     "execution_count": 159,
     "metadata": {},
     "output_type": "execute_result"
    }
   ],
   "source": [
    "import pandas as pd\n",
    "\n",
    "data = [[1, 100],[2, 100]]\n",
    "Employee = pd.DataFrame(data, columns=['id', 'salary']).astype({'id':'int64', 'salary':'int64'})\n",
    "\n",
    "def second_highest_salary(employee: pd.DataFrame) -> pd.DataFrame:\n",
    "    if(len(employee) < 2):\n",
    "        employee = employee.drop(columns=\"id\")\n",
    "        employee = employee.rename(columns={\"salary\":\"SecondHighestSalary\"})\n",
    "        employee[\"SecondHighestSalary\"] = pd.NA\n",
    "        return employee\n",
    "    max_salary = employee[\"salary\"].max()\n",
    "    employee = employee[employee[\"salary\"] < max_salary]\n",
    "    max_salary_now = employee[\"salary\"].max()\n",
    "    employee = employee[employee[\"salary\"] == max_salary_now]\n",
    "    employee = employee.drop(columns=\"id\")\n",
    "    employee = employee.rename(columns={\"salary\":\"SecondHighestSalary\"})\n",
    "    if len(employee)== 0:\n",
    "        employee.loc[0] = pd.NA\n",
    "    employee = employee.drop_duplicates()\n",
    "    return employee\n",
    "second_highest_salary(Employee)\n"
   ]
  },
  {
   "cell_type": "markdown",
   "metadata": {},
   "source": [
    "# 196. Delete Duplicate Emails - EASY"
   ]
  },
  {
   "cell_type": "code",
   "execution_count": 194,
   "metadata": {},
   "outputs": [
    {
     "name": "stdout",
     "output_type": "stream",
     "text": [
      "id                     2\n",
      "email    bob@example.com\n",
      "Name: 0, dtype: object\n"
     ]
    },
    {
     "data": {
      "text/html": [
       "<div>\n",
       "<style scoped>\n",
       "    .dataframe tbody tr th:only-of-type {\n",
       "        vertical-align: middle;\n",
       "    }\n",
       "\n",
       "    .dataframe tbody tr th {\n",
       "        vertical-align: top;\n",
       "    }\n",
       "\n",
       "    .dataframe thead th {\n",
       "        text-align: right;\n",
       "    }\n",
       "</style>\n",
       "<table border=\"1\" class=\"dataframe\">\n",
       "  <thead>\n",
       "    <tr style=\"text-align: right;\">\n",
       "      <th></th>\n",
       "      <th>id</th>\n",
       "      <th>email</th>\n",
       "    </tr>\n",
       "  </thead>\n",
       "  <tbody>\n",
       "    <tr>\n",
       "      <th>0</th>\n",
       "      <td>2</td>\n",
       "      <td>bob@example.com</td>\n",
       "    </tr>\n",
       "    <tr>\n",
       "      <th>2</th>\n",
       "      <td>1</td>\n",
       "      <td>john@example.com</td>\n",
       "    </tr>\n",
       "  </tbody>\n",
       "</table>\n",
       "</div>"
      ],
      "text/plain": [
       "   id             email\n",
       "0   2   bob@example.com\n",
       "2   1  john@example.com"
      ]
     },
     "execution_count": 194,
     "metadata": {},
     "output_type": "execute_result"
    }
   ],
   "source": [
    "import pandas as pd\n",
    "\n",
    "data = [[2, 'bob@example.com'], [3, 'john@example.com'], [1, 'john@example.com']]\n",
    "Person = pd.DataFrame(data, columns=['id', 'email']).astype({'id':'int64', 'email':'object'})\n",
    "\n",
    "def delete_duplicate_emails(person: pd.DataFrame) -> None:\n",
    "    person.sort_values(by=\"id\", inplace=True)\n",
    "    person.drop_duplicates(subset=\"email\", inplace=True)\n",
    "    return person.iloc[::-1]\n",
    "\n",
    "delete_duplicate_emails(Person)"
   ]
  },
  {
   "cell_type": "markdown",
   "metadata": {},
   "source": [
    "# 178. Rank Score - MEDIUM"
   ]
  },
  {
   "cell_type": "code",
   "execution_count": 200,
   "metadata": {},
   "outputs": [
    {
     "data": {
      "text/html": [
       "<div>\n",
       "<style scoped>\n",
       "    .dataframe tbody tr th:only-of-type {\n",
       "        vertical-align: middle;\n",
       "    }\n",
       "\n",
       "    .dataframe tbody tr th {\n",
       "        vertical-align: top;\n",
       "    }\n",
       "\n",
       "    .dataframe thead th {\n",
       "        text-align: right;\n",
       "    }\n",
       "</style>\n",
       "<table border=\"1\" class=\"dataframe\">\n",
       "  <thead>\n",
       "    <tr style=\"text-align: right;\">\n",
       "      <th></th>\n",
       "      <th>score</th>\n",
       "      <th>rank</th>\n",
       "    </tr>\n",
       "  </thead>\n",
       "  <tbody>\n",
       "    <tr>\n",
       "      <th>2</th>\n",
       "      <td>4.0</td>\n",
       "      <td>1</td>\n",
       "    </tr>\n",
       "    <tr>\n",
       "      <th>4</th>\n",
       "      <td>4.0</td>\n",
       "      <td>1</td>\n",
       "    </tr>\n",
       "    <tr>\n",
       "      <th>3</th>\n",
       "      <td>3.85</td>\n",
       "      <td>2</td>\n",
       "    </tr>\n",
       "    <tr>\n",
       "      <th>1</th>\n",
       "      <td>3.65</td>\n",
       "      <td>3</td>\n",
       "    </tr>\n",
       "    <tr>\n",
       "      <th>5</th>\n",
       "      <td>3.65</td>\n",
       "      <td>3</td>\n",
       "    </tr>\n",
       "    <tr>\n",
       "      <th>0</th>\n",
       "      <td>3.5</td>\n",
       "      <td>4</td>\n",
       "    </tr>\n",
       "  </tbody>\n",
       "</table>\n",
       "</div>"
      ],
      "text/plain": [
       "   score  rank\n",
       "2    4.0     1\n",
       "4    4.0     1\n",
       "3   3.85     2\n",
       "1   3.65     3\n",
       "5   3.65     3\n",
       "0    3.5     4"
      ]
     },
     "execution_count": 200,
     "metadata": {},
     "output_type": "execute_result"
    }
   ],
   "source": [
    "import pandas as pd\n",
    "\n",
    "data = [[1, 3.5], [2, 3.65], [3, 4.0], [4, 3.85], [5, 4.0], [6, 3.65]]\n",
    "Scores = pd.DataFrame(data, columns=['id', 'score']).astype({'id':'Int64', 'score':'Float64'})\n",
    "\n",
    "def order_scores(scores: pd.DataFrame) -> pd.DataFrame:\n",
    "    scores.sort_values(by=\"score\", ascending=False, inplace=True)\n",
    "    scores[\"rank\"] = scores[\"score\"].rank(method=\"min\", ascending=False).astype(int)\n",
    "    scores[\"rank\"] = scores.groupby(\"rank\").ngroup() + 1\n",
    "    scores.drop(columns=\"id\", inplace=True)\n",
    "    return scores\n",
    "\n",
    "order_scores(Scores)"
   ]
  },
  {
   "cell_type": "markdown",
   "metadata": {},
   "source": [
    "# 570. Managers with at Least 5 Direct Report - MEDIUM"
   ]
  },
  {
   "cell_type": "code",
   "execution_count": 230,
   "metadata": {},
   "outputs": [
    {
     "name": "stdout",
     "output_type": "stream",
     "text": [
      "101\n"
     ]
    },
    {
     "data": {
      "text/html": [
       "<div>\n",
       "<style scoped>\n",
       "    .dataframe tbody tr th:only-of-type {\n",
       "        vertical-align: middle;\n",
       "    }\n",
       "\n",
       "    .dataframe tbody tr th {\n",
       "        vertical-align: top;\n",
       "    }\n",
       "\n",
       "    .dataframe thead th {\n",
       "        text-align: right;\n",
       "    }\n",
       "</style>\n",
       "<table border=\"1\" class=\"dataframe\">\n",
       "  <thead>\n",
       "    <tr style=\"text-align: right;\">\n",
       "      <th></th>\n",
       "      <th>id</th>\n",
       "      <th>name</th>\n",
       "      <th>department</th>\n",
       "    </tr>\n",
       "    <tr>\n",
       "      <th>id</th>\n",
       "      <th></th>\n",
       "      <th></th>\n",
       "      <th></th>\n",
       "    </tr>\n",
       "  </thead>\n",
       "  <tbody>\n",
       "    <tr>\n",
       "      <th>5</th>\n",
       "      <td>5</td>\n",
       "      <td>5</td>\n",
       "      <td>5</td>\n",
       "    </tr>\n",
       "  </tbody>\n",
       "</table>\n",
       "</div>"
      ],
      "text/plain": [
       "    id  name  department\n",
       "id                      \n",
       "5    5     5           5"
      ]
     },
     "execution_count": 230,
     "metadata": {},
     "output_type": "execute_result"
    }
   ],
   "source": [
    "import pandas as pd\n",
    "\n",
    "data = [[101, 'John', 'A', None], [102, 'Dan', 'A', 101], [103, 'James', 'A', 101], [104, 'Amy', 'A', 101], [105, 'Anne', 'A', 101], [106, 'Ron', 'B', 101]]\n",
    "Employee = pd.DataFrame(data, columns=['id', 'name', 'department', 'managerId']).astype({'id':'Int64', 'name':'object', 'department':'object', 'managerId':'Int64'})\n",
    "\n",
    "def find_managers(employee: pd.DataFrame) -> pd.DataFrame:\n",
    "    counts = employee.groupby(\"managerId\").count()\n",
    "    print(counts.index[0])\n",
    "        counts.index = counts[\"id\"]\n",
    "    return counts\n",
    "find_managers(Employee)\n",
    "\n"
   ]
  },
  {
   "cell_type": "markdown",
   "metadata": {},
   "source": [
    "# 121. Best Time to Buy and Sell Stock - EASY"
   ]
  },
  {
   "cell_type": "code",
   "execution_count": 246,
   "metadata": {},
   "outputs": [
    {
     "data": {
      "text/plain": [
       "5"
      ]
     },
     "execution_count": 246,
     "metadata": {},
     "output_type": "execute_result"
    }
   ],
   "source": [
    "def maxProfit(prices):\n",
    "    buy = 0\n",
    "    sell = 1\n",
    "    maxi = 0\n",
    "    for i in range(len(prices)-1):\n",
    "        price = prices[sell] - prices[buy]\n",
    "        if price > maxi and prices[buy] < prices[sell]:\n",
    "            maxi = price\n",
    "        elif prices[buy] >= prices[sell]:\n",
    "            buy = sell\n",
    "        sell += 1\n",
    "    return maxi\n",
    "maxProfit([7,1,5,3,6,4])"
   ]
  },
  {
   "cell_type": "markdown",
   "metadata": {},
   "source": [
    "# 122. Best Time to Buy and Sell Stock II - MEDIUM"
   ]
  },
  {
   "cell_type": "code",
   "execution_count": 247,
   "metadata": {},
   "outputs": [
    {
     "data": {
      "text/plain": [
       "7"
      ]
     },
     "execution_count": 247,
     "metadata": {},
     "output_type": "execute_result"
    }
   ],
   "source": [
    "def maxProfit2(prices):\n",
    "    buy = 0\n",
    "    sell = 1\n",
    "    maxi = 0\n",
    "    for i in range(len(prices)-1):\n",
    "        price = prices[sell] - prices[buy]\n",
    "        if prices[buy] < prices[sell]:\n",
    "            maxi += price \n",
    "            buy = sell  \n",
    "        elif prices[buy] >= prices[sell]:\n",
    "            buy = sell\n",
    "        sell += 1\n",
    "    return maxi\n",
    "\n",
    "maxProfit2([7,1,5,3,6,4])"
   ]
  },
  {
   "cell_type": "markdown",
   "metadata": {},
   "source": [
    "# 123. Best Time to Buy and Sell Stocks III - HARD"
   ]
  },
  {
   "cell_type": "code",
   "execution_count": null,
   "metadata": {},
   "outputs": [],
   "source": [
    "def maxProfit2(prices):\n",
    "    buy = 0\n",
    "    sell = 1\n",
    "    maxi = 0\n",
    "    maxprices = []\n",
    "    indices = []\n",
    "    for i in range(len(prices)-1):\n",
    "        price = prices[sell] - prices[buy]\n",
    "        if prices[buy] < prices[sell]:\n",
    "            maxi += price \n",
    "            buy = sell  \n",
    "        elif prices[buy] >= prices[sell]:\n",
    "            buy = sell\n",
    "        sell += 1\n",
    "    return maxi"
   ]
  },
  {
   "cell_type": "markdown",
   "metadata": {},
   "source": [
    "# 344. Reverse String - EASY"
   ]
  },
  {
   "cell_type": "code",
   "execution_count": 253,
   "metadata": {},
   "outputs": [
    {
     "data": {
      "text/plain": [
       "['o', 'l', 'l', 'e', 'h']"
      ]
     },
     "execution_count": 253,
     "metadata": {},
     "output_type": "execute_result"
    }
   ],
   "source": [
    "def reverseString(s):\n",
    "    ssave = [row[:] for row in s]\n",
    "    counter = 0\n",
    "    for i in range(len(s)-1, -1, -1):\n",
    "        s[counter] = ssave[i]\n",
    "        counter += 1\n",
    "    return s\n",
    "\n",
    "reverseString([\"h\",\"e\",\"l\",\"l\",\"o\"])"
   ]
  },
  {
   "cell_type": "markdown",
   "metadata": {},
   "source": [
    "# 2815. Max Pair Sum in an Array - EASY"
   ]
  },
  {
   "cell_type": "code",
   "execution_count": 258,
   "metadata": {},
   "outputs": [
    {
     "data": {
      "text/plain": [
       "88"
      ]
     },
     "execution_count": 258,
     "metadata": {},
     "output_type": "execute_result"
    }
   ],
   "source": [
    "def maxSum(nums):\n",
    "    maxes = []\n",
    "    def fitMaximum(a, b):\n",
    "        astring = str(a)\n",
    "        bstring = str(b)\n",
    "        maxa = 0\n",
    "        maxb = 0\n",
    "        for i in astring:\n",
    "            if int(i) > maxa:\n",
    "                maxa = int(i)\n",
    "        for i in bstring:\n",
    "            if int(i) > maxb:\n",
    "                maxb = int(i)\n",
    "        if maxa == maxb:\n",
    "            return True\n",
    "        return False\n",
    "    for i in range(len(nums)):\n",
    "        for j in range(i+1, len(nums)): \n",
    "            if i != j and fitMaximum(nums[i], nums[j]):\n",
    "                maxes.append(nums[i]+nums[j])\n",
    "    if maxes != []:\n",
    "        maxnum = max(maxes)\n",
    "        return maxnum\n",
    "    return -1\n",
    "\n",
    "maxSum([51,71,17,24,42])\n"
   ]
  },
  {
   "cell_type": "markdown",
   "metadata": {},
   "source": [
    "# 2817. Minimum Absolute Difference Between Elements with Constraint - MEDIUM"
   ]
  },
  {
   "cell_type": "code",
   "execution_count": 297,
   "metadata": {},
   "outputs": [
    {
     "data": {
      "text/plain": [
       "1"
      ]
     },
     "execution_count": 297,
     "metadata": {},
     "output_type": "execute_result"
    }
   ],
   "source": [
    "def minAbsoluteDifference(nums, x):\n",
    "    def closest_number(arr, x):\n",
    "        closest = None\n",
    "        min_diff = float('inf')\n",
    "        \n",
    "        for num in arr:\n",
    "            diff = abs(num - x)\n",
    "            if diff < min_diff:\n",
    "                min_diff = diff\n",
    "                closest = num\n",
    "                \n",
    "        return closest\n",
    "    minimum = float('inf')\n",
    "    length = len(nums)\n",
    "    for i in range(len(nums) - x):\n",
    "        minimum2 = closest_number(nums[(i+x):], nums[i])\n",
    "        if minimum2 >= nums[i] and (minimum2 - nums[i]) < minimum:\n",
    "            minimum = minimum2 - nums[i]\n",
    "        elif minimum2 < nums[i] and (nums[i] - minimum2) < minimum:\n",
    "            minimum = nums[i] - minimum2\n",
    "    return minimum\n",
    "\n",
    "minAbsoluteDifference([5,3,2,10,15], 1)"
   ]
  },
  {
   "cell_type": "markdown",
   "metadata": {},
   "source": [
    "# 2259. Remove Digit from Number to Maximize Result - MEDIUM"
   ]
  },
  {
   "cell_type": "code",
   "execution_count": 299,
   "metadata": {},
   "outputs": [
    {
     "data": {
      "text/plain": [
       "'12'"
      ]
     },
     "execution_count": 299,
     "metadata": {},
     "output_type": "execute_result"
    }
   ],
   "source": [
    "def removeDigit(number, digit):\n",
    "    counter = 0\n",
    "    counterlist = []\n",
    "    for i in number:\n",
    "        if i == digit:\n",
    "            counterlist.append(counter)\n",
    "        counter += 1\n",
    "    listofnumbers = []\n",
    "    for i in counterlist:\n",
    "        listofnumbers.append(int(number[:i] + number[i+1:]))\n",
    "    return str(max(listofnumbers))\n",
    "\n",
    "removeDigit(\"123\", \"3\")"
   ]
  },
  {
   "cell_type": "markdown",
   "metadata": {},
   "source": [
    "# 43. Multiply Strings - MEDIUM"
   ]
  },
  {
   "cell_type": "code",
   "execution_count": 300,
   "metadata": {},
   "outputs": [],
   "source": [
    "def multiply(num1, num2):\n",
    "    num1 = int(num1)\n",
    "    num2 = int(num2)\n",
    "    return str(num1*num2)"
   ]
  },
  {
   "cell_type": "markdown",
   "metadata": {},
   "source": [
    "# 290. Word Pattern - EASY"
   ]
  },
  {
   "cell_type": "code",
   "execution_count": 327,
   "metadata": {},
   "outputs": [
    {
     "data": {
      "text/plain": [
       "False"
      ]
     },
     "execution_count": 327,
     "metadata": {},
     "output_type": "execute_result"
    }
   ],
   "source": [
    "def wordPattern(pattern, s):\n",
    "    wordlist = s.split()\n",
    "    if len(wordlist) != len(pattern):\n",
    "        return False\n",
    "    listofpattern = []\n",
    "    counteri = 0\n",
    "    counterj = 0\n",
    "    for i in pattern:\n",
    "        for j in listofpattern:\n",
    "            if i == j and wordlist[counterj] != wordlist[counteri] and counteri != counterj:\n",
    "                return False \n",
    "            elif i != j and wordlist[counterj] == wordlist[counteri] and counteri != counterj:\n",
    "                return False\n",
    "            counterj += 1\n",
    "        counterj = 0\n",
    "        counteri += 1\n",
    "        listofpattern.append(i)\n",
    "    return True\n",
    "    \n",
    "\n",
    "wordPattern(\"abba\", \"dog dog dog dog\")"
   ]
  },
  {
   "cell_type": "markdown",
   "metadata": {},
   "source": [
    "# 345. Reverse Vowels of a String - EASY"
   ]
  },
  {
   "cell_type": "code",
   "execution_count": 333,
   "metadata": {},
   "outputs": [
    {
     "data": {
      "text/plain": [
       "'holle'"
      ]
     },
     "execution_count": 333,
     "metadata": {},
     "output_type": "execute_result"
    }
   ],
   "source": [
    "def reverseVowels(s):\n",
    "    vowels = [\"a\", \"A\", \"e\", \"E\", \"i\", \"I\", \"o\", \"O\", \"u\", \"U\"]\n",
    "    vowellist = []\n",
    "    for i in s:\n",
    "        if i in vowels:\n",
    "            vowellist.append(i)\n",
    "    counter = 0\n",
    "    newword = \"\"\n",
    "    for j in reversed(s):\n",
    "        if j in vowels:\n",
    "            newword += vowellist[counter]\n",
    "            counter += 1\n",
    "        else:\n",
    "            newword += j\n",
    "    return newword[::-1]\n",
    "\n",
    "reverseVowels(\"hello\")"
   ]
  },
  {
   "cell_type": "markdown",
   "metadata": {},
   "source": [
    "# 217. Contains Duplicate - EASY"
   ]
  },
  {
   "cell_type": "code",
   "execution_count": 336,
   "metadata": {},
   "outputs": [
    {
     "data": {
      "text/plain": [
       "[]"
      ]
     },
     "execution_count": 336,
     "metadata": {},
     "output_type": "execute_result"
    }
   ],
   "source": [
    "def containsDuplicate(nums):\n",
    "    sortednums = sorted(nums)\n",
    "    for i in range(len(nums)-1):\n",
    "        if sortednums[i] == sortednums[i+1]:\n",
    "            return True\n",
    "    return False"
   ]
  },
  {
   "cell_type": "markdown",
   "metadata": {},
   "source": [
    "# 219. Contains Duplicate II - EASY"
   ]
  },
  {
   "cell_type": "code",
   "execution_count": 343,
   "metadata": {},
   "outputs": [
    {
     "name": "stdout",
     "output_type": "stream",
     "text": [
      "{}\n",
      "{1: 0}\n",
      "{1: 0, 2: 1}\n",
      "{1: 0, 2: 1, 3: 2}\n"
     ]
    },
    {
     "data": {
      "text/plain": [
       "True"
      ]
     },
     "execution_count": 343,
     "metadata": {},
     "output_type": "execute_result"
    }
   ],
   "source": [
    "def containsNearbyDuplicate(nums, k):\n",
    "    num_positions = {} \n",
    "    for i, j in enumerate(nums):\n",
    "        print(num_positions)\n",
    "        if j in num_positions and i - num_positions[j] <= k:\n",
    "            return True\n",
    "        num_positions[j] = i\n",
    "    return False\n",
    "\n",
    "containsNearbyDuplicate([1, 2, 3, 1], 3)\n"
   ]
  },
  {
   "cell_type": "markdown",
   "metadata": {},
   "source": [
    "# 220. Contains Duplicate III - HARD"
   ]
  },
  {
   "cell_type": "code",
   "execution_count": 353,
   "metadata": {},
   "outputs": [
    {
     "data": {
      "text/plain": [
       "False"
      ]
     },
     "execution_count": 353,
     "metadata": {},
     "output_type": "execute_result"
    }
   ],
   "source": [
    "from sortedcontainers import SortedList\n",
    "\n",
    "def containsNearbyAlmostDuplicate(nums, indexDiff, valueDiff):\n",
    "    SList = SortedList()\n",
    "    for i in range(len(nums)):\n",
    "        if i > indexDiff: \n",
    "            # Simulates a rolling window\n",
    "            SList.remove(nums[i-indexDiff-1])   \n",
    "        position1 = SortedList.bisect_left(SList, nums[i] - valueDiff)\n",
    "        position2 = SortedList.bisect_right(SList, nums[i] + valueDiff)\n",
    "        \n",
    "        if position1 != len(SList) and position1 != position2: \n",
    "            return True\n",
    "        SList.add(nums[i])\n",
    "    return False    \n",
    "\n",
    "containsNearbyAlmostDuplicate([1,5,9,1,5,9], 2, 3)"
   ]
  },
  {
   "cell_type": "code",
   "execution_count": null,
   "metadata": {},
   "outputs": [],
   "source": [
    "# Bucket sort zum anschauen mit python3\n",
    "\n",
    "class Solution:\n",
    "    def containsNearbyAlmostDuplicate(self, nums: List[int], indexDiff: int, valueDiff: int) -> bool:\n",
    "        buckets = {} #store values for diapason (i-indexDiff:i]\n",
    "        valueDiff +=1 #if valueDiff = zero it's simplify proces edge-cases\n",
    "        \n",
    "        for idx, curVal in enumerate(nums):\n",
    "            bucketId = curVal // valueDiff #bucket for new element\n",
    "            if bucketId in buckets: return True # have 'duplicate value' in current bucket\n",
    "            #check neighboring buckets if they are exists\n",
    "            for i in (bucketId - 1, bucketId + 1):\n",
    "                if i in buckets: # bucket exist\n",
    "                    if abs(buckets[i] - curVal) < valueDiff: # because valueDiff+1 then check only strict <\n",
    "                        return True\n",
    "            \n",
    "            #add current value to bucket\n",
    "            buckets[bucketId] = curVal\n",
    "            \n",
    "            # remove value out of available window\n",
    "            if idx >= indexDiff:\n",
    "                removeVal = nums[idx - indexDiff]\n",
    "                del buckets[removeVal//valueDiff]\n",
    "\n",
    "        return False"
   ]
  },
  {
   "cell_type": "markdown",
   "metadata": {},
   "source": [
    "# 151. Reverse Words in a String - MEDIUM"
   ]
  },
  {
   "cell_type": "code",
   "execution_count": 357,
   "metadata": {},
   "outputs": [],
   "source": [
    "def reverseWords(s):\n",
    "    splited = split(s)\n",
    "    rev = splited[::-1]\n",
    "    s = \"\"\n",
    "    for i in rev:\n",
    "        s += i + \" \"\n",
    "    return s[:-1]"
   ]
  },
  {
   "cell_type": "markdown",
   "metadata": {},
   "source": [
    "# 595. Big Countries - EASY"
   ]
  },
  {
   "cell_type": "code",
   "execution_count": null,
   "metadata": {
    "vscode": {
     "languageId": "sql"
    }
   },
   "outputs": [],
   "source": [
    "select name, population, area\n",
    "from World\n",
    "where population >= 25000000 OR area >= 3000000"
   ]
  },
  {
   "cell_type": "markdown",
   "metadata": {},
   "source": [
    "# 75. Sort Colors - MEDIUM"
   ]
  },
  {
   "cell_type": "code",
   "execution_count": 363,
   "metadata": {},
   "outputs": [
    {
     "data": {
      "text/plain": [
       "[0, 0, 1, 1, 2, 2]"
      ]
     },
     "execution_count": 363,
     "metadata": {},
     "output_type": "execute_result"
    }
   ],
   "source": [
    "def sortColors(nums):\n",
    "    counter1 = 0\n",
    "    counter2 = 0\n",
    "    counter3 = 0\n",
    "    for i in nums:\n",
    "        if i == 0:\n",
    "            counter1 += 1\n",
    "        elif i == 1:\n",
    "            counter2 += 1\n",
    "        elif i == 2:\n",
    "            counter3 += 1\n",
    "    counter = 0\n",
    "    while(counter1 != 0):\n",
    "        nums[counter] = 0\n",
    "        counter += 1\n",
    "        counter1 -= 1\n",
    "    while(counter2 != 0):\n",
    "        nums[counter] = 1\n",
    "        counter += 1\n",
    "        counter2 -= 1\n",
    "    while(counter3 != 0):\n",
    "        nums[counter] = 2\n",
    "        counter += 1\n",
    "        counter3 -= 1\n",
    "    return nums\n",
    "\n",
    "sortColors([2,0,2,1,1,0])"
   ]
  },
  {
   "cell_type": "markdown",
   "metadata": {},
   "source": [
    "# 125. Valid Palindrome - EASY"
   ]
  },
  {
   "cell_type": "code",
   "execution_count": 17,
   "metadata": {},
   "outputs": [
    {
     "data": {
      "text/plain": [
       "False"
      ]
     },
     "execution_count": 17,
     "metadata": {},
     "output_type": "execute_result"
    }
   ],
   "source": [
    "import re\n",
    "\n",
    "def isPalindrome(s):\n",
    "    def clean_and_lower(input_string):\n",
    "        cleaned_string = re.sub(r'[^a-zA-Z0-9]', '', input_string)\n",
    "        return cleaned_string.lower()\n",
    "    s = clean_and_lower(s)\n",
    "    beg = 0\n",
    "    end = len(s)-1\n",
    "    while beg < end:\n",
    "        if s[beg] != s[end]:\n",
    "            return False\n",
    "        else:\n",
    "            beg += 1\n",
    "            end -= 1\n",
    "    return True\n",
    "\n",
    "isPalindrome(\"0P\")"
   ]
  },
  {
   "cell_type": "markdown",
   "metadata": {},
   "source": [
    "# 680. Valid Palindrome II - EASY"
   ]
  },
  {
   "cell_type": "code",
   "execution_count": 22,
   "metadata": {},
   "outputs": [
    {
     "data": {
      "text/plain": [
       "True"
      ]
     },
     "execution_count": 22,
     "metadata": {},
     "output_type": "execute_result"
    }
   ],
   "source": [
    "# Zu langsam\n",
    "\n",
    "def validPalindrome2(s):\n",
    "    def isPalindrome(s):\n",
    "        def clean_and_lower(input_string):\n",
    "            cleaned_string = re.sub(r'[^a-zA-Z0-9]', '', input_string)\n",
    "            return cleaned_string.lower()\n",
    "        s = clean_and_lower(s)\n",
    "        beg = 0\n",
    "        end = len(s)-1\n",
    "        while beg < end:\n",
    "            if s[beg] != s[end]:\n",
    "                return False\n",
    "            else:\n",
    "                beg += 1\n",
    "                end -= 1\n",
    "        return True\n",
    "    if isPalindrome(s):\n",
    "        return True\n",
    "    else:\n",
    "        for i in range(len(s)):\n",
    "            if isPalindrome(s[:i]+s[i+1:]):\n",
    "                return True\n",
    "        return False\n",
    "    \n",
    "validPalindrome2(\"abca\")"
   ]
  },
  {
   "cell_type": "code",
   "execution_count": 25,
   "metadata": {},
   "outputs": [
    {
     "data": {
      "text/plain": [
       "True"
      ]
     },
     "execution_count": 25,
     "metadata": {},
     "output_type": "execute_result"
    }
   ],
   "source": [
    "# neuer approach\n",
    "\n",
    "def validPalindrome(s):\n",
    "    beg = 0\n",
    "    current1 = \"\"\n",
    "    current2 = \"\"\n",
    "    end = len(s)-1\n",
    "    while beg < end:\n",
    "        if s[beg] != s[end]:\n",
    "            current1 = s[:beg]+s[beg+1:]\n",
    "            current2 = s[:end]+s[end+1:]\n",
    "            break\n",
    "        beg += 1\n",
    "        end -= 1\n",
    "    if current1 == \"\" and current2 == \"\":\n",
    "        return True\n",
    "    else:\n",
    "        current1b = True\n",
    "        beg = 0\n",
    "        end = len(s)-2\n",
    "        while(beg < end):\n",
    "            if current1[beg] != current1[end]:\n",
    "                current1b = False\n",
    "                break\n",
    "            beg += 1\n",
    "            end -= 1\n",
    "        beg = 0\n",
    "        current2b = True\n",
    "        end = len(s)-2\n",
    "        while(beg < end):\n",
    "            if current2[beg] != current2[end]:\n",
    "                current2b = False\n",
    "                break\n",
    "            beg += 1\n",
    "            end -= 1\n",
    "        if(current2b == False and current1b == False):\n",
    "            return False\n",
    "        else:\n",
    "            return True\n",
    "validPalindrome(\"abca\")\n"
   ]
  },
  {
   "cell_type": "markdown",
   "metadata": {},
   "source": [
    "# 409. Longest Palindrome - EASY"
   ]
  },
  {
   "cell_type": "code",
   "execution_count": 27,
   "metadata": {},
   "outputs": [],
   "source": [
    "def longestPalindrome(s):\n",
    "    char_counter = {}\n",
    "    length = 0\n",
    "    odd = False\n",
    "    for i in s:\n",
    "        if i in char_counter:\n",
    "            char_counter[i] += 1\n",
    "        else:\n",
    "            char_counter[i] = 1\n",
    "    for j in char_counter.values():\n",
    "        if j % 2 == 0:\n",
    "            length += j\n",
    "        else:\n",
    "            length += j - 1\n",
    "            odd = True\n",
    "    if odd:\n",
    "        length += 1\n",
    "    return length"
   ]
  },
  {
   "cell_type": "markdown",
   "metadata": {},
   "source": [
    "# 866. Prime Palindrome - MEDIUM"
   ]
  },
  {
   "cell_type": "code",
   "execution_count": 29,
   "metadata": {},
   "outputs": [],
   "source": [
    "def primePalindrome(n):\n",
    "    def palincheck(x):\n",
    "        if str(x) == str(x)[::-1]:\n",
    "            return True\n",
    "        return False\n",
    "    def checkPrime(x):\n",
    "        if x < 2:\n",
    "            return False\n",
    "        else:\n",
    "            for i in range(2, int(pow(x, 0.75)+1)):\n",
    "                if x % i == 0:\n",
    "                    return False\n",
    "            return True\n",
    "    while(1==1):\n",
    "        if(palincheck(n) and checkPrime(n)):\n",
    "            return n\n",
    "        else:\n",
    "            n+=1\n"
   ]
  },
  {
   "cell_type": "markdown",
   "metadata": {},
   "source": [
    "# 204. Count Primes - MEDIUM"
   ]
  },
  {
   "cell_type": "code",
   "execution_count": 37,
   "metadata": {},
   "outputs": [
    {
     "data": {
      "text/plain": [
       "4"
      ]
     },
     "execution_count": 37,
     "metadata": {},
     "output_type": "execute_result"
    }
   ],
   "source": [
    "def countPrimes(n):\n",
    "    counter = 0\n",
    "    def check_prime(x):\n",
    "        for i in range(2, int(pow(x, 0.5))+1):\n",
    "            if x % i == 0:\n",
    "                return False\n",
    "        return True\n",
    "    if n < 3:\n",
    "        return 0\n",
    "    for i in range(2, n):\n",
    "        if check_prime(i):\n",
    "            counter += 1\n",
    "    return counter\n",
    "\n",
    "countPrimes(10)"
   ]
  },
  {
   "cell_type": "markdown",
   "metadata": {},
   "source": [
    "# 258. Add Digits - EASY"
   ]
  },
  {
   "cell_type": "code",
   "execution_count": 42,
   "metadata": {},
   "outputs": [
    {
     "data": {
      "text/plain": [
       "2"
      ]
     },
     "execution_count": 42,
     "metadata": {},
     "output_type": "execute_result"
    }
   ],
   "source": [
    "def addDigits(num):\n",
    "    string = str(num)\n",
    "    while num > 9:\n",
    "        summer = 0\n",
    "        for i in string:\n",
    "            summer += int(i)\n",
    "        num = summer\n",
    "        string = str(summer)\n",
    "    return num\n",
    "addDigits(38)"
   ]
  }
 ],
 "metadata": {
  "kernelspec": {
   "display_name": "Python 3",
   "language": "python",
   "name": "python3"
  },
  "language_info": {
   "codemirror_mode": {
    "name": "ipython",
    "version": 3
   },
   "file_extension": ".py",
   "mimetype": "text/x-python",
   "name": "python",
   "nbconvert_exporter": "python",
   "pygments_lexer": "ipython3",
   "version": "3.11.2"
  },
  "orig_nbformat": 4
 },
 "nbformat": 4,
 "nbformat_minor": 2
}
