{
 "cells": [
  {
   "cell_type": "markdown",
   "metadata": {},
   "source": [
    "# Morse code Problem - EASY"
   ]
  },
  {
   "cell_type": "code",
   "execution_count": 17,
   "metadata": {},
   "outputs": [
    {
     "data": {
      "text/plain": [
       "4"
      ]
     },
     "execution_count": 17,
     "metadata": {},
     "output_type": "execute_result"
    }
   ],
   "source": [
    "def uniqueMorseRepresentations(words):\n",
    "    wordst = []\n",
    "    morse = [\".-\",\"-...\",\"-.-.\",\"-..\",\".\",\"..-.\",\"--.\",\"....\",\"..\",\".---\",\"-.-\",\".-..\",\"--\",\"-.\",\"---\",\".--.\",\"--.-\",\".-.\",\"...\",\"-\",\"..-\",\"...-\",\".--\",\"-..-\",\"-.--\",\"--..\"]\n",
    "    for i in words:\n",
    "        word = \"\"\n",
    "        for j in i: \n",
    "            word += morse[ord(j) - 97]\n",
    "        wordst.append(word)\n",
    "    uniqueelem = set(wordst)\n",
    "    return len(uniqueelem)\n",
    "\n",
    "uniqueMorseRepresentations([\"sa\", \"kaa\", \"ka\", \"ak\", \"ka\"])"
   ]
  },
  {
   "cell_type": "markdown",
   "metadata": {},
   "source": [
    "# 335. Self Crossing - EASY"
   ]
  },
  {
   "cell_type": "code",
   "execution_count": 15,
   "metadata": {},
   "outputs": [
    {
     "data": {
      "text/plain": [
       "False"
      ]
     },
     "execution_count": 15,
     "metadata": {},
     "output_type": "execute_result"
    }
   ],
   "source": [
    "def isSelfCrossing(distance):\n",
    "    start = [0, 0]\n",
    "    savepoints = []\n",
    "    savepoints.append(start)\n",
    "    for j in range(0, len(distance)):\n",
    "        if j % 4 == 0:\n",
    "            for i in range(distance[j]):\n",
    "                start = [start[0], start[1] + 1]\n",
    "                savepoints.append(start)\n",
    "        if j % 4 == 1:\n",
    "            for i in range(distance[j]):\n",
    "                start = [start[0]-1, start[1]]\n",
    "                savepoints.append(start)\n",
    "        if j % 4 == 2:\n",
    "            for i in range(distance[j]):\n",
    "                start = [start[0], start[1] - 1]\n",
    "                savepoints.append(start)\n",
    "        if j % 4 == 3:\n",
    "            for i in range(distance[j]):\n",
    "                start = [start[0]+1, start[1]]\n",
    "                savepoints.append(start)\n",
    "    \n",
    "    lengthpoints = len(savepoints)\n",
    "    idk = len(set(tuple(point) for point in savepoints))\n",
    "    if(lengthpoints != idk):\n",
    "        return True\n",
    "    return False\n",
    "\n",
    "isSelfCrossing([2, 2, 2, 1])\n",
    "    "
   ]
  },
  {
   "cell_type": "markdown",
   "metadata": {},
   "source": [
    "# 283. Move Zeros - EASY"
   ]
  },
  {
   "cell_type": "code",
   "execution_count": 16,
   "metadata": {},
   "outputs": [
    {
     "data": {
      "text/plain": [
       "[1, 0]"
      ]
     },
     "execution_count": 16,
     "metadata": {},
     "output_type": "execute_result"
    }
   ],
   "source": [
    "def moveZeroes(nums):\n",
    "    index = 0\n",
    "    zerocount = 0\n",
    "    for i in range(len(nums)):\n",
    "        if nums[i] != 0:\n",
    "            nums[index] = nums[i]\n",
    "            index += 1\n",
    "        else:\n",
    "            zerocount += 1\n",
    "    for i in range(zerocount):\n",
    "        nums[index] = 0\n",
    "        index += 1\n",
    "    return nums\n",
    "\n",
    "moveZeroes([1, 0])\n"
   ]
  },
  {
   "cell_type": "markdown",
   "metadata": {},
   "source": [
    "# 28. Find the Index of the first Occurence String - EASY"
   ]
  },
  {
   "cell_type": "code",
   "execution_count": 73,
   "metadata": {},
   "outputs": [
    {
     "data": {
      "text/plain": [
       "10"
      ]
     },
     "execution_count": 73,
     "metadata": {},
     "output_type": "execute_result"
    }
   ],
   "source": [
    "def strStr(haystack, needle):\n",
    "    setindex = 0\n",
    "    counter = 0\n",
    "    while counter != len(haystack):\n",
    "        if haystack[counter] == needle[setindex]:\n",
    "            setindex += 1\n",
    "            if setindex == (len(needle) - 1):\n",
    "                return (counter - setindex + 1)\n",
    "        elif haystack != needle[setindex] and setindex != 0:\n",
    "            counter = counter - setindex\n",
    "        else:\n",
    "            setindex = 0\n",
    "        counter += 1\n",
    "    return -1\n",
    "\n",
    "strStr(\"oijhiohoiiwefwrvhio\", \"wef\")"
   ]
  },
  {
   "cell_type": "markdown",
   "metadata": {},
   "source": [
    "# 35. Search Insert Position"
   ]
  },
  {
   "cell_type": "code",
   "execution_count": 78,
   "metadata": {},
   "outputs": [
    {
     "data": {
      "text/plain": [
       "2"
      ]
     },
     "execution_count": 78,
     "metadata": {},
     "output_type": "execute_result"
    }
   ],
   "source": [
    "def searchInsert(nums, target):\n",
    "    start = 0\n",
    "    # 7 - 0 = 3\n",
    "\n",
    "    end = len(nums) - 1\n",
    "    for i in range(len(nums)):\n",
    "        if nums[(end+start)//2] == target:\n",
    "            return len(nums[:(end+start)//2])\n",
    "        elif nums[(end+start)//2 + 1] == target:\n",
    "            return len(nums[:(end+start)//2 + 1])\n",
    "        elif nums[(end+start)//2 - 1] == target:\n",
    "            return len(nums[:(end+start)//2 - 1])\n",
    "        elif nums[(end+start)//2] < target:\n",
    "            start = (end+start)//2\n",
    "        elif nums[(end+start)//2] > target:\n",
    "            end = (end+start)//2\n",
    "    return end\n",
    "\n",
    "searchInsert([1, 4, 6, 7, 35, 39, 43, 66], 5)"
   ]
  },
  {
   "cell_type": "markdown",
   "metadata": {},
   "source": [
    "# 58. Length of Last word - EASY"
   ]
  },
  {
   "cell_type": "code",
   "execution_count": 134,
   "metadata": {},
   "outputs": [
    {
     "data": {
      "text/plain": [
       "1"
      ]
     },
     "execution_count": 134,
     "metadata": {},
     "output_type": "execute_result"
    }
   ],
   "source": [
    "def lengthOfLastWord(s):\n",
    "    found = False\n",
    "    length = 0\n",
    "    j = len(s)\n",
    "    if j == 1 and s != \" \":\n",
    "        return 1\n",
    "    for i in reversed(s):\n",
    "        if i != \" \" and not found:\n",
    "            found = True\n",
    "            length += 1\n",
    "        elif i == \" \" and found or j == 1:\n",
    "            if j==1 and s[0] != \" \":\n",
    "                return length+1\n",
    "            else:\n",
    "                return length\n",
    "        elif i != \" \" and found:\n",
    "            length += 1\n",
    "        j -= 1\n",
    "\n",
    "lengthOfLastWord(\"a d\")\n"
   ]
  },
  {
   "cell_type": "markdown",
   "metadata": {},
   "source": [
    "# 350. Intersection of two Arrays II"
   ]
  },
  {
   "cell_type": "code",
   "execution_count": 2,
   "metadata": {},
   "outputs": [
    {
     "data": {
      "text/plain": [
       "[4]"
      ]
     },
     "execution_count": 2,
     "metadata": {},
     "output_type": "execute_result"
    }
   ],
   "source": [
    "arr = [2,3,4,3,4,3,4]\n",
    "arr[2:3]"
   ]
  },
  {
   "cell_type": "code",
   "execution_count": 22,
   "metadata": {},
   "outputs": [
    {
     "data": {
      "text/plain": [
       "[9, 4]"
      ]
     },
     "execution_count": 22,
     "metadata": {},
     "output_type": "execute_result"
    }
   ],
   "source": [
    "def intersect(nums1, nums2):\n",
    "    incommon = []\n",
    "    if len(nums1) >= len(nums2):\n",
    "        for i in nums1:\n",
    "            if i in nums2 and i not in incommon:\n",
    "                incommon.append(i)\n",
    "            elif i in nums2 and i in incommon: \n",
    "                incom = sum(1 for item in incommon if item == i)\n",
    "                n2 = sum(1 for item in nums2 if item == i)\n",
    "                if n2 > incom:\n",
    "                    incommon.append(i)\n",
    "    else:\n",
    "        for i in nums2:\n",
    "            if i in nums1 and i not in incommon:\n",
    "                incommon.append(i)\n",
    "            elif i in nums1 and i in incommon: \n",
    "                incom = sum(1 for item in incommon if item == i)\n",
    "                n1 = sum(1 for item in nums1 if item == i)\n",
    "                if n1 > incom:\n",
    "                    incommon.append(i)\n",
    "    return incommon\n",
    "\n",
    "intersect([4,9,5], [9,4,9,8,4])"
   ]
  },
  {
   "cell_type": "markdown",
   "metadata": {},
   "source": [
    "# 48. Rotate Image - MEDIUM"
   ]
  },
  {
   "cell_type": "code",
   "execution_count": 70,
   "metadata": {},
   "outputs": [
    {
     "data": {
      "text/plain": [
       "[[9, 8, 7], [6, 5, 4], [3, 2, 1]]"
      ]
     },
     "execution_count": 70,
     "metadata": {},
     "output_type": "execute_result"
    }
   ],
   "source": [
    "def rotate(matrix):\n",
    "    reversed_matrix = []\n",
    "    for row in reversed(matrix):\n",
    "        reversed_matrix.append(row)\n",
    "    lengthmatrix = len(matrix)\n",
    "    newmatrix = []\n",
    "    # Create Matrix\n",
    "    for i in range(0, lengthmatrix):\n",
    "        newmatrix.append([])\n",
    "    for i in reversed_matrix:\n",
    "        counter = 0\n",
    "        for j in i:\n",
    "            newmatrix[counter].append(j)\n",
    "            counter += 1\n",
    "    for i in range(len(matrix)):\n",
    "        for j in range(len(matrix[0])):\n",
    "            matrix[i][j] = newmatrix[i][j]\n",
    "    return matrix\n",
    "\n",
    "\n",
    "rotate([[7,4,1],[8,5,2],[9,6,3]])\n",
    "\n",
    "# input [[1,2,3],[4,5,6],[7,8,9]]\n",
    "# output [[7,4,1],[8,5,2],[9,6,3]]"
   ]
  },
  {
   "cell_type": "markdown",
   "metadata": {},
   "source": [
    "# 54. Spiral Matrix - MEDIUM"
   ]
  },
  {
   "cell_type": "code",
   "execution_count": 118,
   "metadata": {},
   "outputs": [
    {
     "name": "stdout",
     "output_type": "stream",
     "text": [
      "12\n",
      "[1, 2, 3, 4, 8, 12]\n",
      "2\n",
      "1\n",
      "0\n",
      "[1, 2, 3, 4, 8, 12, 11, 10, 9, 5, 6, 7]\n",
      "1\n"
     ]
    },
    {
     "data": {
      "text/plain": [
       "[1, 2, 3, 4, 8, 12, 11, 10, 9, 5, 6, 7]"
      ]
     },
     "execution_count": 118,
     "metadata": {},
     "output_type": "execute_result"
    }
   ],
   "source": [
    "def spiralOrder(matrix):\n",
    "    output = []\n",
    "    right = 0\n",
    "    left = 0\n",
    "    top = 0\n",
    "    bottom = 0\n",
    "    row_count = len(matrix[0])\n",
    "    column_count = len(matrix)\n",
    "    total_elements = sum(len(row) for row in matrix)\n",
    "    print(total_elements)\n",
    "    while len(output) < total_elements:\n",
    "        for i in range(left, row_count - right):\n",
    "            output.append(matrix[top][i])\n",
    "        top += 1\n",
    "        for j in range(top, column_count - bottom):\n",
    "            output.append(matrix[j][row_count - right - 1])\n",
    "        right += 1\n",
    "        print(output)\n",
    "        for k in range(row_count - right - 1, left - 1, -1):\n",
    "            print(k)\n",
    "            output.append(matrix[column_count - right][k])\n",
    "        bottom += 1\n",
    "        for y in range(column_count - bottom - 1, top - 1, -1):\n",
    "            output.append(matrix[y][left])\n",
    "        left += 1\n",
    "    output = output[0:total_elements]\n",
    "    return output\n",
    "\n",
    "spiralOrder([[1,2,3,4],[5,6,7,8],[9,10,11,12]])\n",
    "\n",
    "# [[1,2,3],[4,5,6],[7,8,9]]\n",
    "# [1,2,3,6,9,8,7,4,5]"
   ]
  }
 ],
 "metadata": {
  "kernelspec": {
   "display_name": "Python 3",
   "language": "python",
   "name": "python3"
  },
  "language_info": {
   "codemirror_mode": {
    "name": "ipython",
    "version": 3
   },
   "file_extension": ".py",
   "mimetype": "text/x-python",
   "name": "python",
   "nbconvert_exporter": "python",
   "pygments_lexer": "ipython3",
   "version": "3.11.2"
  },
  "orig_nbformat": 4
 },
 "nbformat": 4,
 "nbformat_minor": 2
}
