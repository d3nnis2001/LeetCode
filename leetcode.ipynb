{
 "cells": [
  {
   "cell_type": "markdown",
   "metadata": {},
   "source": [
    "# Morse code Problem - EASY"
   ]
  },
  {
   "cell_type": "code",
   "execution_count": 17,
   "metadata": {},
   "outputs": [
    {
     "data": {
      "text/plain": [
       "4"
      ]
     },
     "execution_count": 17,
     "metadata": {},
     "output_type": "execute_result"
    }
   ],
   "source": [
    "def uniqueMorseRepresentations(words):\n",
    "    wordst = []\n",
    "    morse = [\".-\",\"-...\",\"-.-.\",\"-..\",\".\",\"..-.\",\"--.\",\"....\",\"..\",\".---\",\"-.-\",\".-..\",\"--\",\"-.\",\"---\",\".--.\",\"--.-\",\".-.\",\"...\",\"-\",\"..-\",\"...-\",\".--\",\"-..-\",\"-.--\",\"--..\"]\n",
    "    for i in words:\n",
    "        word = \"\"\n",
    "        for j in i: \n",
    "            word += morse[ord(j) - 97]\n",
    "        wordst.append(word)\n",
    "    uniqueelem = set(wordst)\n",
    "    return len(uniqueelem)\n",
    "\n",
    "uniqueMorseRepresentations([\"sa\", \"kaa\", \"ka\", \"ak\", \"ka\"])"
   ]
  },
  {
   "cell_type": "markdown",
   "metadata": {},
   "source": [
    "# 335. Self Crossing - EASY"
   ]
  },
  {
   "cell_type": "code",
   "execution_count": 15,
   "metadata": {},
   "outputs": [
    {
     "data": {
      "text/plain": [
       "False"
      ]
     },
     "execution_count": 15,
     "metadata": {},
     "output_type": "execute_result"
    }
   ],
   "source": [
    "def isSelfCrossing(distance):\n",
    "    start = [0, 0]\n",
    "    savepoints = []\n",
    "    savepoints.append(start)\n",
    "    for j in range(0, len(distance)):\n",
    "        if j % 4 == 0:\n",
    "            for i in range(distance[j]):\n",
    "                start = [start[0], start[1] + 1]\n",
    "                savepoints.append(start)\n",
    "        if j % 4 == 1:\n",
    "            for i in range(distance[j]):\n",
    "                start = [start[0]-1, start[1]]\n",
    "                savepoints.append(start)\n",
    "        if j % 4 == 2:\n",
    "            for i in range(distance[j]):\n",
    "                start = [start[0], start[1] - 1]\n",
    "                savepoints.append(start)\n",
    "        if j % 4 == 3:\n",
    "            for i in range(distance[j]):\n",
    "                start = [start[0]+1, start[1]]\n",
    "                savepoints.append(start)\n",
    "    \n",
    "    lengthpoints = len(savepoints)\n",
    "    idk = len(set(tuple(point) for point in savepoints))\n",
    "    if(lengthpoints != idk):\n",
    "        return True\n",
    "    return False\n",
    "\n",
    "isSelfCrossing([2, 2, 2, 1])\n",
    "    "
   ]
  },
  {
   "cell_type": "markdown",
   "metadata": {},
   "source": [
    "# 283. Move Zeros - EASY"
   ]
  },
  {
   "cell_type": "code",
   "execution_count": 16,
   "metadata": {},
   "outputs": [
    {
     "data": {
      "text/plain": [
       "[1, 0]"
      ]
     },
     "execution_count": 16,
     "metadata": {},
     "output_type": "execute_result"
    }
   ],
   "source": [
    "def moveZeroes(nums):\n",
    "    index = 0\n",
    "    zerocount = 0\n",
    "    for i in range(len(nums)):\n",
    "        if nums[i] != 0:\n",
    "            nums[index] = nums[i]\n",
    "            index += 1\n",
    "        else:\n",
    "            zerocount += 1\n",
    "    for i in range(zerocount):\n",
    "        nums[index] = 0\n",
    "        index += 1\n",
    "    return nums\n",
    "\n",
    "moveZeroes([1, 0])\n"
   ]
  },
  {
   "cell_type": "markdown",
   "metadata": {},
   "source": [
    "# 28. Find the Index of the first Occurence String - EASY"
   ]
  },
  {
   "cell_type": "code",
   "execution_count": 73,
   "metadata": {},
   "outputs": [
    {
     "data": {
      "text/plain": [
       "10"
      ]
     },
     "execution_count": 73,
     "metadata": {},
     "output_type": "execute_result"
    }
   ],
   "source": [
    "def strStr(haystack, needle):\n",
    "    setindex = 0\n",
    "    counter = 0\n",
    "    while counter != len(haystack):\n",
    "        if haystack[counter] == needle[setindex]:\n",
    "            setindex += 1\n",
    "            if setindex == (len(needle) - 1):\n",
    "                return (counter - setindex + 1)\n",
    "        elif haystack != needle[setindex] and setindex != 0:\n",
    "            counter = counter - setindex\n",
    "        else:\n",
    "            setindex = 0\n",
    "        counter += 1\n",
    "    return -1\n",
    "\n",
    "strStr(\"oijhiohoiiwefwrvhio\", \"wef\")"
   ]
  },
  {
   "cell_type": "markdown",
   "metadata": {},
   "source": [
    "# 35. Search Insert Position - MEDIUM"
   ]
  },
  {
   "cell_type": "code",
   "execution_count": 78,
   "metadata": {},
   "outputs": [
    {
     "data": {
      "text/plain": [
       "2"
      ]
     },
     "execution_count": 78,
     "metadata": {},
     "output_type": "execute_result"
    }
   ],
   "source": [
    "def searchInsert(nums, target):\n",
    "    start = 0\n",
    "    # 7 - 0 = 3\n",
    "\n",
    "    end = len(nums) - 1\n",
    "    for i in range(len(nums)):\n",
    "        if nums[(end+start)//2] == target:\n",
    "            return len(nums[:(end+start)//2])\n",
    "        elif nums[(end+start)//2 + 1] == target:\n",
    "            return len(nums[:(end+start)//2 + 1])\n",
    "        elif nums[(end+start)//2 - 1] == target:\n",
    "            return len(nums[:(end+start)//2 - 1])\n",
    "        elif nums[(end+start)//2] < target:\n",
    "            start = (end+start)//2\n",
    "        elif nums[(end+start)//2] > target:\n",
    "            end = (end+start)//2\n",
    "    return end\n",
    "\n",
    "searchInsert([1, 4, 6, 7, 35, 39, 43, 66], 5)"
   ]
  },
  {
   "cell_type": "markdown",
   "metadata": {},
   "source": [
    "# 58. Length of Last word - EASY"
   ]
  },
  {
   "cell_type": "code",
   "execution_count": 134,
   "metadata": {},
   "outputs": [
    {
     "data": {
      "text/plain": [
       "1"
      ]
     },
     "execution_count": 134,
     "metadata": {},
     "output_type": "execute_result"
    }
   ],
   "source": [
    "def lengthOfLastWord(s):\n",
    "    found = False\n",
    "    length = 0\n",
    "    j = len(s)\n",
    "    if j == 1 and s != \" \":\n",
    "        return 1\n",
    "    for i in reversed(s):\n",
    "        if i != \" \" and not found:\n",
    "            found = True\n",
    "            length += 1\n",
    "        elif i == \" \" and found or j == 1:\n",
    "            if j==1 and s[0] != \" \":\n",
    "                return length+1\n",
    "            else:\n",
    "                return length\n",
    "        elif i != \" \" and found:\n",
    "            length += 1\n",
    "        j -= 1\n",
    "\n",
    "lengthOfLastWord(\"a d\")\n"
   ]
  },
  {
   "cell_type": "markdown",
   "metadata": {},
   "source": [
    "# 350. Intersection of two Arrays II - EASY"
   ]
  },
  {
   "cell_type": "code",
   "execution_count": 3,
   "metadata": {},
   "outputs": [
    {
     "name": "stdout",
     "output_type": "stream",
     "text": [
      "{2, 3, 4}\n"
     ]
    }
   ],
   "source": [
    "arr = [2,3,4,3,4,3,4]\n",
    "arr[2:3]"
   ]
  },
  {
   "cell_type": "code",
   "execution_count": 22,
   "metadata": {},
   "outputs": [
    {
     "data": {
      "text/plain": [
       "[9, 4]"
      ]
     },
     "execution_count": 22,
     "metadata": {},
     "output_type": "execute_result"
    }
   ],
   "source": [
    "def intersect(nums1, nums2):\n",
    "    incommon = []\n",
    "    if len(nums1) >= len(nums2):\n",
    "        for i in nums1:\n",
    "            if i in nums2 and i not in incommon:\n",
    "                incommon.append(i)\n",
    "            elif i in nums2 and i in incommon: \n",
    "                incom = sum(1 for item in incommon if item == i)\n",
    "                n2 = sum(1 for item in nums2 if item == i)\n",
    "                if n2 > incom:\n",
    "                    incommon.append(i)\n",
    "    else:\n",
    "        for i in nums2:\n",
    "            if i in nums1 and i not in incommon:\n",
    "                incommon.append(i)\n",
    "            elif i in nums1 and i in incommon: \n",
    "                incom = sum(1 for item in incommon if item == i)\n",
    "                n1 = sum(1 for item in nums1 if item == i)\n",
    "                if n1 > incom:\n",
    "                    incommon.append(i)\n",
    "    return incommon\n",
    "\n",
    "intersect([4,9,5], [9,4,9,8,4])"
   ]
  },
  {
   "cell_type": "markdown",
   "metadata": {},
   "source": [
    "# 48. Rotate Image - MEDIUM"
   ]
  },
  {
   "cell_type": "code",
   "execution_count": 70,
   "metadata": {},
   "outputs": [
    {
     "data": {
      "text/plain": [
       "[[9, 8, 7], [6, 5, 4], [3, 2, 1]]"
      ]
     },
     "execution_count": 70,
     "metadata": {},
     "output_type": "execute_result"
    }
   ],
   "source": [
    "def rotate(matrix):\n",
    "    reversed_matrix = []\n",
    "    for row in reversed(matrix):\n",
    "        reversed_matrix.append(row)\n",
    "    lengthmatrix = len(matrix)\n",
    "    newmatrix = []\n",
    "    # Create Matrix\n",
    "    for i in range(0, lengthmatrix):\n",
    "        newmatrix.append([])\n",
    "    for i in reversed_matrix:\n",
    "        counter = 0\n",
    "        for j in i:\n",
    "            newmatrix[counter].append(j)\n",
    "            counter += 1\n",
    "    for i in range(len(matrix)):\n",
    "        for j in range(len(matrix[0])):\n",
    "            matrix[i][j] = newmatrix[i][j]\n",
    "    return matrix\n",
    "\n",
    "\n",
    "rotate([[7,4,1],[8,5,2],[9,6,3]])\n",
    "\n",
    "# input [[1,2,3],[4,5,6],[7,8,9]]\n",
    "# output [[7,4,1],[8,5,2],[9,6,3]]"
   ]
  },
  {
   "cell_type": "markdown",
   "metadata": {},
   "source": [
    "# 54. Spiral Matrix - MEDIUM"
   ]
  },
  {
   "cell_type": "code",
   "execution_count": 2,
   "metadata": {},
   "outputs": [
    {
     "data": {
      "text/plain": [
       "[1, 2, 3, 4, 8, 12, 11, 10, 9, 5, 6, 7]"
      ]
     },
     "execution_count": 2,
     "metadata": {},
     "output_type": "execute_result"
    }
   ],
   "source": [
    "def spiralOrder(matrix):\n",
    "    output = []\n",
    "    right = 0\n",
    "    left = 0\n",
    "    top = 0\n",
    "    bottom = 0\n",
    "    row_count = len(matrix[0])\n",
    "    column_count = len(matrix)\n",
    "    total_elements = sum(len(row) for row in matrix)\n",
    "    while len(output) < total_elements:\n",
    "        for i in range(left, row_count - right):\n",
    "            output.append(matrix[top][i])\n",
    "        top += 1\n",
    "        for j in range(top, column_count - bottom):\n",
    "            output.append(matrix[j][row_count - right - 1])\n",
    "        right += 1\n",
    "        for k in range(row_count - right - 1, left - 1, -1):\n",
    "            output.append(matrix[column_count - right][k])\n",
    "        bottom += 1\n",
    "        for y in range(column_count - bottom - 1, top - 1, -1):\n",
    "            output.append(matrix[y][left])\n",
    "        left += 1\n",
    "    output = output[0:total_elements]\n",
    "    return output\n",
    "\n",
    "spiralOrder([[1,2,3,4],[5,6,7,8],[9,10,11,12]])\n",
    "\n",
    "# [[1,2,3],[4,5,6],[7,8,9]]\n",
    "# [1,2,3,6,9,8,7,4,5]"
   ]
  },
  {
   "cell_type": "markdown",
   "metadata": {},
   "source": [
    "# 36. Valid Soduku - MEDIUM"
   ]
  },
  {
   "cell_type": "code",
   "execution_count": 18,
   "metadata": {},
   "outputs": [],
   "source": [
    "def isValidSudoku(board):\n",
    "    def checkNiner(x, y, board):\n",
    "        current = []\n",
    "        for i in range(x, x+3):\n",
    "            for j in range(y, y+3):\n",
    "                if board[i][j] != \".\":\n",
    "                    current.append(board[i][j])\n",
    "        if len(set(current)) != len(current):\n",
    "            return False\n",
    "        return True\n",
    "    for i in range(len(board)):\n",
    "        current = []\n",
    "        for j in range(len(board)):\n",
    "            if board[i][j] != \".\":\n",
    "                current.append(board[i][j])\n",
    "        if len(set(current)) != len(current):\n",
    "            return False\n",
    "    #Check vertically\n",
    "    for i in range(len(board)):\n",
    "        current = []\n",
    "        for j in range(len(board)):\n",
    "            if board[j][i] != \".\":\n",
    "                current.append(board[j][i])\n",
    "        if len(set(current)) != len(current):\n",
    "            return False\n",
    "    for k in range(0, 7, 3):\n",
    "        for o in range(0, 7, 3):\n",
    "            if checkNiner(k, o, board) == False:\n",
    "                return False\n",
    "    return True"
   ]
  },
  {
   "cell_type": "markdown",
   "metadata": {},
   "source": [
    "# 136. Single Number - EASY"
   ]
  },
  {
   "cell_type": "code",
   "execution_count": 26,
   "metadata": {},
   "outputs": [
    {
     "data": {
      "text/plain": [
       "1"
      ]
     },
     "execution_count": 26,
     "metadata": {},
     "output_type": "execute_result"
    }
   ],
   "source": [
    "def singleNumber(nums):\n",
    "    arr = sorted(nums)\n",
    "    for i in range(0, len(nums)-1, 2):\n",
    "        if arr[i] != arr[i+1]:\n",
    "            return arr[i]\n",
    "    return arr[len(nums)-1]\n",
    "\n",
    "singleNumber([1])"
   ]
  },
  {
   "cell_type": "markdown",
   "metadata": {},
   "source": [
    "# 137. Single Number II - MEDIUM"
   ]
  },
  {
   "cell_type": "code",
   "execution_count": 3,
   "metadata": {},
   "outputs": [
    {
     "data": {
      "text/plain": [
       "99"
      ]
     },
     "execution_count": 3,
     "metadata": {},
     "output_type": "execute_result"
    }
   ],
   "source": [
    "def singleNumber2(nums):\n",
    "    arr = sorted(nums)\n",
    "    for i in range(0, len(nums)-2, 3):\n",
    "        if arr[i] != arr[i+1] and arr[i+1] == arr[i+2]:\n",
    "            return arr[i]\n",
    "    return arr[len(nums)-1]\n",
    "\n",
    "singleNumber2([0,1,0,1,0,1,99])"
   ]
  },
  {
   "cell_type": "markdown",
   "metadata": {},
   "source": [
    "# 260. Single Number III - MEDIUM"
   ]
  },
  {
   "cell_type": "code",
   "execution_count": 9,
   "metadata": {},
   "outputs": [
    {
     "data": {
      "text/plain": [
       "[-1, 0]"
      ]
     },
     "execution_count": 9,
     "metadata": {},
     "output_type": "execute_result"
    }
   ],
   "source": [
    "def singleNumber(nums):\n",
    "    new = []\n",
    "    arr = sorted(nums)\n",
    "    i = 0\n",
    "    while i < len(nums)-1:\n",
    "        if arr[i] != arr[i+1] and len(new) == 0:\n",
    "            new.append(arr[i])\n",
    "            i = i-1\n",
    "        elif arr[i] != arr[i+1] and len(new) != 0:\n",
    "            new.append(arr[i])\n",
    "            return new\n",
    "        i = i+2\n",
    "    new.append(arr[len(nums)-1])\n",
    "    return new\n",
    "\n",
    "singleNumber([-1,0])"
   ]
  },
  {
   "cell_type": "markdown",
   "metadata": {},
   "source": [
    "# 231. Power of Two - EASY"
   ]
  },
  {
   "cell_type": "code",
   "execution_count": 11,
   "metadata": {},
   "outputs": [],
   "source": [
    "def isPowerOfTwo(self, n):\n",
    "    if n == 0:\n",
    "        return False\n",
    "    if n == 1 or n == 2:\n",
    "        return True\n",
    "    if n%2 != 0:\n",
    "        return False\n",
    "    else:\n",
    "        while n != 2:\n",
    "            n = n/2\n",
    "            if n%2 != 0:\n",
    "                return False\n",
    "            if n == 2:\n",
    "                return True"
   ]
  },
  {
   "cell_type": "markdown",
   "metadata": {},
   "source": [
    "# 326. Power of Three - EASY"
   ]
  },
  {
   "cell_type": "code",
   "execution_count": null,
   "metadata": {},
   "outputs": [],
   "source": [
    "def isPowerOfThree(n):\n",
    "    if n == 1 or n == 3:\n",
    "        return True\n",
    "    elif n == 0 or n==2:\n",
    "        return False\n",
    "    \n",
    "    if n % 3 != 0:\n",
    "        return False\n",
    "    \n",
    "    while n != 3:\n",
    "        n = n / 3\n",
    "        if n % 3 != 0:\n",
    "            return False\n",
    "        if n == 3:\n",
    "            return True"
   ]
  },
  {
   "cell_type": "markdown",
   "metadata": {},
   "source": [
    "# 342. Power of Four - EASY"
   ]
  },
  {
   "cell_type": "code",
   "execution_count": 12,
   "metadata": {},
   "outputs": [],
   "source": [
    "def isPowerOfFour(n):\n",
    "    if n == 1 or n == 4:\n",
    "        return True\n",
    "    elif n == 0 or n==2 or n == 3:\n",
    "        return False\n",
    "    \n",
    "    if n % 4 != 0:\n",
    "        return False\n",
    "    \n",
    "    while n != 4:\n",
    "        n = n / 4\n",
    "        if n % 4 != 0:\n",
    "            return False\n",
    "        if n == 4:\n",
    "            return True"
   ]
  },
  {
   "cell_type": "markdown",
   "metadata": {},
   "source": [
    "# 74. Search a 2D Matrix - MEDIUM"
   ]
  },
  {
   "cell_type": "code",
   "execution_count": 48,
   "metadata": {},
   "outputs": [
    {
     "data": {
      "text/plain": [
       "False"
      ]
     },
     "execution_count": 48,
     "metadata": {},
     "output_type": "execute_result"
    }
   ],
   "source": [
    "def searchMatrix(matrix, target):\n",
    "    j = 0\n",
    "    if len(matrix) == 1:\n",
    "        if target in matrix[0]:\n",
    "            return True\n",
    "        else:\n",
    "            return False\n",
    "    elif len(matrix[0]) == 1:\n",
    "        for i in matrix:\n",
    "            if i[0] == target:\n",
    "                return True\n",
    "        return False\n",
    "    \n",
    "    if matrix[0][0] > target:\n",
    "        return False\n",
    "    for i in matrix:\n",
    "        if i[0] > target:\n",
    "            break\n",
    "        j += 1\n",
    "    \n",
    "    j = j - 1\n",
    "    beg = 0\n",
    "    end = len(matrix[0]) - 1\n",
    "\n",
    "    while beg != end:\n",
    "        middle = (end + beg) // 2\n",
    "        if matrix[j][middle] == target:\n",
    "            return True\n",
    "        if end - beg == 1:\n",
    "            if matrix[j][beg] == target:\n",
    "                return True\n",
    "            elif matrix[j][end] == target:\n",
    "                return True\n",
    "            else:\n",
    "                return False\n",
    "        elif matrix[j][middle] > target:\n",
    "            end = middle\n",
    "        elif matrix[j][middle] < target:\n",
    "            beg = middle\n",
    "    return False\n",
    "    \n",
    "\n",
    "searchMatrix([[1,3,5,7],[10,11,16,20],[23,30,34,60]], 44)"
   ]
  },
  {
   "cell_type": "markdown",
   "metadata": {},
   "source": [
    "# 59. Sprial Matrix II - MEDIUM"
   ]
  },
  {
   "cell_type": "code",
   "execution_count": 9,
   "metadata": {},
   "outputs": [
    {
     "data": {
      "text/plain": [
       "[[1, 2, 3, 4], [12, 13, 14, 5], [11, 16, 15, 6], [10, 9, 8, 7]]"
      ]
     },
     "execution_count": 9,
     "metadata": {},
     "output_type": "execute_result"
    }
   ],
   "source": [
    "def generateMatrix(n):\n",
    "    matrix = []\n",
    "    for i in range(n):\n",
    "        matrix.append([])\n",
    "    for i in range(n):\n",
    "        for j in range(n):\n",
    "            matrix[i].append(1)\n",
    "    counterin = 1\n",
    "    right = 0\n",
    "    left = 0\n",
    "    top = 0\n",
    "    bottom = 0\n",
    "    row_count = len(matrix[0])\n",
    "    column_count = len(matrix)\n",
    "    total_elements = sum(len(row) for row in matrix)\n",
    "    while counterin <= total_elements:\n",
    "        for i in range(left, row_count - right):\n",
    "            matrix[top][i] = counterin\n",
    "            counterin += 1\n",
    "        top += 1\n",
    "        for j in range(top, column_count - bottom):\n",
    "            matrix[j][row_count - right - 1] = counterin\n",
    "            counterin += 1\n",
    "        right += 1\n",
    "        for k in range(row_count - right - 1, left - 1, -1):\n",
    "            matrix[column_count - right][k] = counterin \n",
    "            counterin += 1\n",
    "        bottom += 1\n",
    "        for y in range(column_count - bottom - 1, top - 1, -1):\n",
    "            matrix[y][left] = counterin\n",
    "            counterin += 1\n",
    "        left += 1\n",
    "    return matrix\n",
    "\n",
    "spiralOrder(4)"
   ]
  },
  {
   "cell_type": "markdown",
   "metadata": {},
   "source": [
    "# 73. Set Matrix Zeroes - MEDIUM"
   ]
  },
  {
   "cell_type": "code",
   "execution_count": 26,
   "metadata": {},
   "outputs": [
    {
     "data": {
      "text/plain": [
       "[[0, 0]]"
      ]
     },
     "execution_count": 26,
     "metadata": {},
     "output_type": "execute_result"
    }
   ],
   "source": [
    "def setZeroes(matrix):\n",
    "    copymatrix = [row[:] for row in matrix]\n",
    "    def setrowZero(x, y):\n",
    "        for i in range(0, len(matrix[0])):\n",
    "            matrix[x][i] = 0\n",
    "        for j in range(len(matrix)):\n",
    "            matrix[j][y] = 0\n",
    "\n",
    "    for i in range(0, len(matrix)):\n",
    "        for j in range(0, len(matrix[0])):\n",
    "            if copymatrix[i][j] == 0:\n",
    "                setrowZero(i, j)\n",
    "    return matrix\n",
    "\n",
    "setZeroes([[0,1]])"
   ]
  },
  {
   "cell_type": "markdown",
   "metadata": {},
   "source": [
    "# 79. Word Search - MEDIUM"
   ]
  },
  {
   "cell_type": "code",
   "execution_count": 39,
   "metadata": {},
   "outputs": [
    {
     "data": {
      "text/plain": [
       "False"
      ]
     },
     "execution_count": 39,
     "metadata": {},
     "output_type": "execute_result"
    }
   ],
   "source": [
    "def exist(board, word):\n",
    "    firstletter = word[0]\n",
    "    def check(x, y):\n",
    "        for i in range(1, len(word)+1):\n",
    "            anyway = False\n",
    "            if i == len(word)-1:\n",
    "                return True\n",
    "            if x+1 < len(board[0]):\n",
    "                if board[x+1][y] == word[i]:\n",
    "                    x = x+1\n",
    "                    anyway = True\n",
    "            if x-1 >= 0:\n",
    "                if board[x-1][y] == word[i]:\n",
    "                    x = x-1\n",
    "                    anyway = True\n",
    "            if y+1 < len(board):\n",
    "                if board[x][y+1] == word[i]:\n",
    "                    y = y+1\n",
    "                    anyway = True\n",
    "            if y-1 >= 0:\n",
    "                if board[x][y-1] == word[i]:\n",
    "                    y = y-1\n",
    "                    anyway = True\n",
    "            if anyway == False:\n",
    "                return False\n",
    "        return False\n",
    "    for i in range(0, len(board)-1):\n",
    "        for j in range(0, len(board[0])-1):\n",
    "            if board[i][j] == firstletter:\n",
    "                if check(i, j):\n",
    "                    return True\n",
    "    return False\n",
    "\n",
    "exist([[\"A\",\"B\",\"C\",\"E\"],[\"S\",\"F\",\"C\",\"S\"],[\"A\",\"D\",\"E\",\"E\"]], \"ABCCED\")"
   ]
  },
  {
   "cell_type": "markdown",
   "metadata": {},
   "source": [
    "# 566. Reshape the Matrix - EASY"
   ]
  },
  {
   "cell_type": "code",
   "execution_count": 2,
   "metadata": {},
   "outputs": [
    {
     "data": {
      "text/plain": [
       "[[1, 2], [3, 4]]"
      ]
     },
     "execution_count": 2,
     "metadata": {},
     "output_type": "execute_result"
    }
   ],
   "source": [
    "def matrixReshape(mat, r, c):\n",
    "    newmat = []\n",
    "    lenmatrix = len(mat) * len(mat[0])\n",
    "    if r > lenmatrix or c > lenmatrix:\n",
    "        return mat\n",
    "    stopper = lenmatrix // r\n",
    "    for i in range(r):\n",
    "        newmat.append([])\n",
    "    ccount = 0\n",
    "    rcount = 0\n",
    "    for i in range(0, len(mat)):\n",
    "        for j in range(0, len(mat[0])):\n",
    "            if ccount == stopper:\n",
    "                ccount = 0\n",
    "                rcount += 1\n",
    "            newmat[rcount].append(mat[i][j])\n",
    "            ccount += 1\n",
    "    return newmat\n",
    "\n",
    "matrixReshape([[1,2],[3,4]], 7, 8)"
   ]
  },
  {
   "cell_type": "markdown",
   "metadata": {},
   "source": [
    "# 867. Transpose Matrix - EASY"
   ]
  },
  {
   "cell_type": "code",
   "execution_count": 11,
   "metadata": {},
   "outputs": [
    {
     "data": {
      "text/plain": [
       "[[1, 4, 7], [2, 5, 8], [3, 6, 9]]"
      ]
     },
     "execution_count": 11,
     "metadata": {},
     "output_type": "execute_result"
    }
   ],
   "source": [
    "def transpose(matrix):\n",
    "    newmatrix = []  \n",
    "    for i in range(len(matrix[0])):\n",
    "        row = [0] * len(matrix)\n",
    "        newmatrix.append(row)\n",
    "\n",
    "    for i in range(len(matrix)):\n",
    "        for j in range(len(matrix[0])):\n",
    "            newmatrix[j][i] = matrix[i][j]\n",
    "    return newmatrix\n",
    "\n",
    "transpose([[1,2,3],[4,5,6],[7,8,9]])"
   ]
  },
  {
   "cell_type": "markdown",
   "metadata": {},
   "source": [
    "# 175. Combine Two Tables - EASY"
   ]
  },
  {
   "cell_type": "code",
   "execution_count": null,
   "metadata": {
    "vscode": {
     "languageId": "sql"
    }
   },
   "outputs": [],
   "source": [
    "SELECT Person.firstName, Person.lastName, Address.city, Address.state\n",
    "FROM Person\n",
    "LEFT JOIN Address\n",
    "ON Person.personId = Address.personId"
   ]
  },
  {
   "cell_type": "markdown",
   "metadata": {},
   "source": [
    "# 181. Employees Earning more than their Managers - EASY"
   ]
  },
  {
   "cell_type": "code",
   "execution_count": null,
   "metadata": {
    "vscode": {
     "languageId": "sql"
    }
   },
   "outputs": [],
   "source": [
    "SELECT e2.name as Employee\n",
    "FROM employee e1\n",
    "INNER JOIN employee e2 on e1.id = e2.managerID\n",
    "WHERE e1.salary < e2.salary"
   ]
  },
  {
   "cell_type": "markdown",
   "metadata": {},
   "source": [
    "# 182. Duplicate Emails - EASY"
   ]
  }
 ],
 "metadata": {
  "kernelspec": {
   "display_name": "Python 3",
   "language": "python",
   "name": "python3"
  },
  "language_info": {
   "codemirror_mode": {
    "name": "ipython",
    "version": 3
   },
   "file_extension": ".py",
   "mimetype": "text/x-python",
   "name": "python",
   "nbconvert_exporter": "python",
   "pygments_lexer": "ipython3",
   "version": "3.11.2"
  },
  "orig_nbformat": 4
 },
 "nbformat": 4,
 "nbformat_minor": 2
}
