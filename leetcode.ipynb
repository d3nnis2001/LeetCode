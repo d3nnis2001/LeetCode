{
 "cells": [
  {
   "cell_type": "markdown",
   "metadata": {},
   "source": [
    "# Morse code Problem - EASY"
   ]
  },
  {
   "cell_type": "code",
   "execution_count": 17,
   "metadata": {},
   "outputs": [
    {
     "data": {
      "text/plain": [
       "4"
      ]
     },
     "execution_count": 17,
     "metadata": {},
     "output_type": "execute_result"
    }
   ],
   "source": [
    "def uniqueMorseRepresentations(words):\n",
    "    wordst = []\n",
    "    morse = [\".-\",\"-...\",\"-.-.\",\"-..\",\".\",\"..-.\",\"--.\",\"....\",\"..\",\".---\",\"-.-\",\".-..\",\"--\",\"-.\",\"---\",\".--.\",\"--.-\",\".-.\",\"...\",\"-\",\"..-\",\"...-\",\".--\",\"-..-\",\"-.--\",\"--..\"]\n",
    "    for i in words:\n",
    "        word = \"\"\n",
    "        for j in i: \n",
    "            word += morse[ord(j) - 97]\n",
    "        wordst.append(word)\n",
    "    uniqueelem = set(wordst)\n",
    "    return len(uniqueelem)\n",
    "\n",
    "uniqueMorseRepresentations([\"sa\", \"kaa\", \"ka\", \"ak\", \"ka\"])"
   ]
  },
  {
   "cell_type": "markdown",
   "metadata": {},
   "source": [
    "# 335. Self Crossing - EASY"
   ]
  },
  {
   "cell_type": "code",
   "execution_count": 15,
   "metadata": {},
   "outputs": [
    {
     "data": {
      "text/plain": [
       "False"
      ]
     },
     "execution_count": 15,
     "metadata": {},
     "output_type": "execute_result"
    }
   ],
   "source": [
    "def isSelfCrossing(distance):\n",
    "    start = [0, 0]\n",
    "    savepoints = []\n",
    "    savepoints.append(start)\n",
    "    for j in range(0, len(distance)):\n",
    "        if j % 4 == 0:\n",
    "            for i in range(distance[j]):\n",
    "                start = [start[0], start[1] + 1]\n",
    "                savepoints.append(start)\n",
    "        if j % 4 == 1:\n",
    "            for i in range(distance[j]):\n",
    "                start = [start[0]-1, start[1]]\n",
    "                savepoints.append(start)\n",
    "        if j % 4 == 2:\n",
    "            for i in range(distance[j]):\n",
    "                start = [start[0], start[1] - 1]\n",
    "                savepoints.append(start)\n",
    "        if j % 4 == 3:\n",
    "            for i in range(distance[j]):\n",
    "                start = [start[0]+1, start[1]]\n",
    "                savepoints.append(start)\n",
    "    \n",
    "    lengthpoints = len(savepoints)\n",
    "    idk = len(set(tuple(point) for point in savepoints))\n",
    "    if(lengthpoints != idk):\n",
    "        return True\n",
    "    return False\n",
    "\n",
    "isSelfCrossing([2, 2, 2, 1])\n",
    "    "
   ]
  },
  {
   "cell_type": "markdown",
   "metadata": {},
   "source": [
    "# 283. Move Zeros - EASY"
   ]
  },
  {
   "cell_type": "code",
   "execution_count": 16,
   "metadata": {},
   "outputs": [
    {
     "data": {
      "text/plain": [
       "[1, 0]"
      ]
     },
     "execution_count": 16,
     "metadata": {},
     "output_type": "execute_result"
    }
   ],
   "source": [
    "def moveZeroes(nums):\n",
    "    index = 0\n",
    "    zerocount = 0\n",
    "    for i in range(len(nums)):\n",
    "        if nums[i] != 0:\n",
    "            nums[index] = nums[i]\n",
    "            index += 1\n",
    "        else:\n",
    "            zerocount += 1\n",
    "    for i in range(zerocount):\n",
    "        nums[index] = 0\n",
    "        index += 1\n",
    "    return nums\n",
    "\n",
    "moveZeroes([1, 0])\n"
   ]
  }
 ],
 "metadata": {
  "kernelspec": {
   "display_name": "Python 3",
   "language": "python",
   "name": "python3"
  },
  "language_info": {
   "codemirror_mode": {
    "name": "ipython",
    "version": 3
   },
   "file_extension": ".py",
   "mimetype": "text/x-python",
   "name": "python",
   "nbconvert_exporter": "python",
   "pygments_lexer": "ipython3",
   "version": "3.11.2"
  },
  "orig_nbformat": 4
 },
 "nbformat": 4,
 "nbformat_minor": 2
}
